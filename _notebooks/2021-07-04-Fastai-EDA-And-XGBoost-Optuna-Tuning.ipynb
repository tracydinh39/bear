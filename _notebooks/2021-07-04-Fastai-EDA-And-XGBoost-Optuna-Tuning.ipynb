{
  "nbformat": 4,
  "nbformat_minor": 0,
  "metadata": {
    "accelerator": "GPU",
    "colab": {
      "name": "HomeSite Quote (XGboost) - Fastai - XGboost Optuna.ipynb",
      "provenance": [],
      "collapsed_sections": [
        "M3R4V9-A58-H",
        "_eLthJ1d6MRa"
      ],
      "authorship_tag": "ABX9TyOlvVTNNba0wm8wPfjItIzD"
    },
    "kernelspec": {
      "display_name": "Python 3",
      "name": "python3"
    },
    "language_info": {
      "name": "python"
    }
  },
  "cells": [
    {
      "cell_type": "markdown",
      "metadata": {
        "id": "vnswZoFNlFRu"
      },
      "source": [
        "# Fastai EDA AND XGboost Optuna Hyperparameters Tuning\n",
        "\n",
        "> This notebook uses Fast AI library for EDA and Optuna for hyperparameter tuning on Kaggle Homesite Quote Conversion Data set. \n",
        "\n",
        "- toc: true\n",
        "- badges: true\n",
        "- comments: true\n",
        "- categories: [kaggle]\n",
        "- author: Tracy Dinh\n",
        "- image: images/chart-preview.png"
      ]
    },
    {
      "cell_type": "markdown",
      "metadata": {
        "id": "PiliKXbolzIl"
      },
      "source": [
        "## Import Libraries"
      ]
    },
    {
      "cell_type": "code",
      "metadata": {
        "id": "epwKt0Fp3eAK"
      },
      "source": [
        "#hide\n",
        "!pip install -Uqq fastbook kaggle waterfallcharts treeinterpreter dtreeviz\n",
        "import fastbook\n",
        "fastbook.setup_book()"
      ],
      "execution_count": null,
      "outputs": []
    },
    {
      "cell_type": "code",
      "metadata": {
        "id": "xUOj5gTRlOx2"
      },
      "source": [
        "!pip install optuna"
      ],
      "execution_count": null,
      "outputs": []
    },
    {
      "cell_type": "code",
      "metadata": {
        "id": "q8Q7ZajT21Og"
      },
      "source": [
        "import pandas as pd\n",
        "import numpy as np\n",
        "\n",
        "\n",
        "from sklearn.ensemble import RandomForestClassifier\n",
        "\n",
        "from sklearn.tree import DecisionTreeClassifier\n",
        "\n",
        "from sklearn.model_selection import train_test_split\n",
        "from sklearn.model_selection import KFold\n",
        "from sklearn.model_selection import StratifiedKFold\n",
        "from sklearn.model_selection import RepeatedKFold\n",
        "\n",
        "\n",
        "from sklearn.metrics import accuracy_score\n",
        "from sklearn.metrics import mean_squared_error\n",
        "from sklearn.metrics import plot_roc_curve\n",
        "from sklearn.metrics import plot_confusion_matrix\n",
        "from sklearn.metrics import roc_auc_score\n",
        "\n",
        "\n",
        "from sklearn import preprocessing\n",
        "from sklearn import model_selection\n",
        "import sklearn.datasets\n",
        "\n",
        "\n",
        "import xgboost as xgb\n",
        "from xgboost import XGBClassifier\n",
        "\n",
        "import optuna\n",
        "\n",
        "import matplotlib.pyplot as plt\n",
        "\n",
        "from fastbook import *\n",
        "from fastai.tabular.all import *\n",
        "from dtreeviz.trees import *\n",
        "from IPython.display import Image, display_svg, SVG\n",
        "import random as rd\n",
        "\n",
        "\n",
        "\n",
        "pd.options.display.max_rows = 20\n",
        "pd.options.display.max_columns = 8"
      ],
      "execution_count": null,
      "outputs": []
    },
    {
      "cell_type": "markdown",
      "metadata": {
        "id": "awex9kRM47UD"
      },
      "source": [
        "## Download Data"
      ]
    },
    {
      "cell_type": "code",
      "metadata": {
        "id": "Z4EPr--G3mWx"
      },
      "source": [
        "!mkdir -p ~/.kaggle\n",
        "!cp /content/gdrive/MyDrive/Kaggle/kaggle.json ~/.kaggle/\n",
        "!chmod 600 ~/.kaggle/kaggle.json"
      ],
      "execution_count": null,
      "outputs": []
    },
    {
      "cell_type": "code",
      "metadata": {
        "id": "GzVlOfVn3n4r",
        "colab": {
          "base_uri": "https://localhost:8080/"
        },
        "outputId": "0f1be5af-d79e-461e-99ec-60fb3c3dcffd"
      },
      "source": [
        "path = Path('/content/gdrive/MyDrive/Kaggle/' + 'data/homesite-quote')\n",
        "path.mkdir(parents=True, exist_ok=True)\n",
        "path\n"
      ],
      "execution_count": null,
      "outputs": [
        {
          "output_type": "execute_result",
          "data": {
            "text/plain": [
              "Path('/content/gdrive/MyDrive/Kaggle/data/homesite-quote')"
            ]
          },
          "metadata": {
            "tags": []
          },
          "execution_count": 6
        }
      ]
    },
    {
      "cell_type": "code",
      "metadata": {
        "id": "YPFd9nwG3xQX"
      },
      "source": [
        "!kaggle competitions download -c homesite-quote-conversion -p /content/gdrive/MyDrive/Kaggle/data/homesite-quote\n"
      ],
      "execution_count": null,
      "outputs": []
    },
    {
      "cell_type": "code",
      "metadata": {
        "id": "-MnaSfZ_5P4m"
      },
      "source": [
        "! unzip -q -n '{path}/train.csv.zip' -d '{path}'\n",
        "! unzip -q -n '{path}/test.csv.zip' -d '{path}'\n",
        "! unzip -q -n '{path}/sample_submission.csv.zip' -d '{path}'"
      ],
      "execution_count": null,
      "outputs": []
    },
    {
      "cell_type": "code",
      "metadata": {
        "id": "MtwrxoLz5GJe"
      },
      "source": [
        "#data import\n",
        "df = pd.read_csv(path/'train.csv', low_memory=False)\n",
        "test_df = pd.read_csv(path/'test.csv', low_memory=False)"
      ],
      "execution_count": null,
      "outputs": []
    },
    {
      "cell_type": "markdown",
      "metadata": {
        "id": "M3R4V9-A58-H"
      },
      "source": [
        "## EDA with Fastai"
      ]
    },
    {
      "cell_type": "code",
      "metadata": {
        "id": "a2hI1GzMeRg6"
      },
      "source": [
        "dep_var='QuoteConversion_Flag'"
      ],
      "execution_count": null,
      "outputs": []
    },
    {
      "cell_type": "markdown",
      "metadata": {
        "id": "Uh1DYf_gmCv_"
      },
      "source": [
        "As 'QuoteNumber' is unique, set it as index"
      ]
    },
    {
      "cell_type": "code",
      "metadata": {
        "id": "NXJ1jHJJb5Rm"
      },
      "source": [
        "df_train = df.set_index('QuoteNumber')\n",
        "df_test = test_df.set_index('QuoteNumber')\n"
      ],
      "execution_count": null,
      "outputs": []
    },
    {
      "cell_type": "markdown",
      "metadata": {
        "id": "AHdcdjrKmL1Z"
      },
      "source": [
        "Use Fastai function to add relevant datetime fields"
      ]
    },
    {
      "cell_type": "code",
      "metadata": {
        "id": "SkezGfiWb-Pa"
      },
      "source": [
        "df_train['Original_Quote_Date'] = pd.to_datetime(df_train['Original_Quote_Date'])\n",
        "df_test['Original_Quote_Date'] = pd.to_datetime(df_test['Original_Quote_Date'])\n",
        "df_train = add_datepart(df_train, 'Original_Quote_Date')\n",
        "df_test = add_datepart(df_test, 'Original_Quote_Date')"
      ],
      "execution_count": null,
      "outputs": []
    },
    {
      "cell_type": "markdown",
      "metadata": {
        "id": "dw6u9AHAmTf2"
      },
      "source": [
        "Drop 2 below fields because they have constant values"
      ]
    },
    {
      "cell_type": "code",
      "metadata": {
        "id": "NSTGb-zKevcK"
      },
      "source": [
        "df_train.drop(columns=['PropertyField6','GeographicField10A'],axis=1,inplace=True)\n",
        "df_test.drop(columns=['PropertyField6','GeographicField10A'],axis=1,inplace=True)"
      ],
      "execution_count": null,
      "outputs": []
    },
    {
      "cell_type": "markdown",
      "metadata": {
        "id": "yD6rOGXbmdLh"
      },
      "source": [
        "Use Fastai function to identify continuous and categorical variables"
      ]
    },
    {
      "cell_type": "code",
      "metadata": {
        "colab": {
          "base_uri": "https://localhost:8080/"
        },
        "id": "Cq4I04cccGRx",
        "outputId": "8979710a-975d-478e-8dad-30e06ef40960"
      },
      "source": [
        "cont_names, cat_names = cont_cat_split(df_train,dep_var=dep_var)\n",
        "len(cont_names), len(cat_names)"
      ],
      "execution_count": null,
      "outputs": [
        {
          "output_type": "execute_result",
          "data": {
            "text/plain": [
              "(155, 152)"
            ]
          },
          "metadata": {
            "tags": []
          },
          "execution_count": 35
        }
      ]
    },
    {
      "cell_type": "markdown",
      "metadata": {
        "id": "gwqMeWQcmo60"
      },
      "source": [
        "'procs' will take care of of categorifying categorical variables, fill in missing values and normalise data"
      ]
    },
    {
      "cell_type": "code",
      "metadata": {
        "id": "EOIGsdY7fYlR"
      },
      "source": [
        "procs = [Categorify, FillMissing, Normalize]\n",
        "splits = TrainTestSplitter(test_size=0.2, stratify=df_train[dep_var])(df_train)"
      ],
      "execution_count": null,
      "outputs": []
    },
    {
      "cell_type": "markdown",
      "metadata": {
        "id": "47KEiRv8mz4I"
      },
      "source": [
        "Create a TabularPandas dataset"
      ]
    },
    {
      "cell_type": "code",
      "metadata": {
        "id": "Kpyzcx5jgCkt"
      },
      "source": [
        "to = TabularPandas(df=df_train, procs=procs, cat_names=cat_names, \n",
        "                   cont_names=cont_names, y_names=dep_var,splits=splits,\n",
        "                  y_block=CategoryBlock())\n"
      ],
      "execution_count": null,
      "outputs": []
    },
    {
      "cell_type": "code",
      "metadata": {
        "id": "NPCKVW8TovqF"
      },
      "source": [
        "dls = to.dataloaders(bs=4096, val_bs=512, layers=[10000,500], embed_ps=0.02, ps=[0.001, 0.01])"
      ],
      "execution_count": null,
      "outputs": []
    },
    {
      "cell_type": "markdown",
      "metadata": {
        "id": "_FrifEhmdKh4"
      },
      "source": [
        "## XGBoost with Otuna\n",
        "\n",
        "> Use Optuna to select best hyperparamters for XGboost model. Code is referenced from https://www.kaggle.com/hamzaghanmi/xgboost-hyperparameter-tuning-using-optuna"
      ]
    },
    {
      "cell_type": "code",
      "metadata": {
        "id": "fDgi7WBLdNUB"
      },
      "source": [
        "X_train_fa, y_train_fa = to.train.xs, to.train.ys.values.ravel()\n",
        "X_valid_fa, y_valid_fa = to.valid.xs, to.valid.ys.values.ravel()"
      ],
      "execution_count": null,
      "outputs": []
    },
    {
      "cell_type": "markdown",
      "metadata": {
        "id": "r1giZFulnV98"
      },
      "source": [
        "Define parameter to test"
      ]
    },
    {
      "cell_type": "code",
      "metadata": {
        "id": "8TyeiFM6F2xW"
      },
      "source": [
        "def objective(trial):\n",
        "    \n",
        "    X_train_fa, y_train_fa = to.train.xs, to.train.ys.values.ravel()\n",
        "    X_valid_fa, y_valid_fa = to.valid.xs, to.valid.ys.values.ravel()\n",
        "    param = {\n",
        "        'tree_method':'gpu_hist',  # this parameter means using the GPU when training our model to speedup the training process\n",
        "        'lambda': trial.suggest_loguniform('lambda', 1e-3, 10.0),\n",
        "        'alpha': trial.suggest_loguniform('alpha', 1e-3, 10.0),\n",
        "        'colsample_bytree': trial.suggest_categorical('colsample_bytree', [0.3,0.4,0.5,0.6,0.7,0.8,0.9, 1.0]),\n",
        "        'subsample': trial.suggest_categorical('subsample', [0.4,0.5,0.6,0.7,0.8,1.0]),\n",
        "        'learning_rate': trial.suggest_categorical('learning_rate', [0.008,0.009,0.01,0.012,0.014,0.016,0.018, 0.02]),\n",
        "        'n_estimators': 1000,\n",
        "        'max_depth': trial.suggest_categorical('max_depth', [5,7,9,11,13,15,17,20]),\n",
        "        'random_state': trial.suggest_categorical('random_state', [24, 48,2020]),\n",
        "        'min_child_weight': trial.suggest_int('min_child_weight', 1, 300),\n",
        "    }\n",
        "    model = xgb.XGBClassifier(**param)  \n",
        "    \n",
        "    model.fit(X_train_fa,y_train_fa,eval_set=[(X_valid_fa,y_valid_fa)],early_stopping_rounds=100,verbose=False)\n",
        "    \n",
        "    preds = model.predict_proba(X_valid_fa)[:,1]\n",
        "    \n",
        "    auc = roc_auc_score(y_valid_fa, preds)\n",
        "    \n",
        "    return auc"
      ],
      "execution_count": null,
      "outputs": []
    },
    {
      "cell_type": "markdown",
      "metadata": {
        "id": "V76YSSlenbAS"
      },
      "source": [
        "Fit model using Optuna"
      ]
    },
    {
      "cell_type": "code",
      "metadata": {
        "colab": {
          "base_uri": "https://localhost:8080/"
        },
        "id": "Pd0mUKPjF2xX",
        "outputId": "2c124508-63c9-4839-dcc6-3bb9ece1c4af"
      },
      "source": [
        "study = optuna.create_study(direction='maximize')\n",
        "study.optimize(objective, n_trials=50)"
      ],
      "execution_count": null,
      "outputs": [
        {
          "output_type": "stream",
          "text": [
            "\u001b[32m[I 2021-07-03 13:18:30,783]\u001b[0m A new study created in memory with name: no-name-fe83554f-1bcf-4f1e-976a-1d2d12ba22da\u001b[0m\n",
            "\u001b[32m[I 2021-07-03 13:18:54,840]\u001b[0m Trial 0 finished with value: 0.9614490168531203 and parameters: {'lambda': 0.6618680618471974, 'alpha': 0.04239837985417904, 'colsample_bytree': 1.0, 'subsample': 0.5, 'learning_rate': 0.01, 'max_depth': 7, 'random_state': 48, 'min_child_weight': 253}. Best is trial 0 with value: 0.9614490168531203.\u001b[0m\n",
            "\u001b[32m[I 2021-07-03 13:19:22,792]\u001b[0m Trial 1 finished with value: 0.96370909267955 and parameters: {'lambda': 8.086230640660201, 'alpha': 0.004463392998945948, 'colsample_bytree': 0.9, 'subsample': 0.4, 'learning_rate': 0.01, 'max_depth': 11, 'random_state': 24, 'min_child_weight': 81}. Best is trial 1 with value: 0.96370909267955.\u001b[0m\n",
            "\u001b[32m[I 2021-07-03 13:20:05,297]\u001b[0m Trial 2 finished with value: 0.9663443798690221 and parameters: {'lambda': 0.06952864689008562, 'alpha': 0.03710247783593982, 'colsample_bytree': 0.4, 'subsample': 1.0, 'learning_rate': 0.014, 'max_depth': 15, 'random_state': 48, 'min_child_weight': 44}. Best is trial 2 with value: 0.9663443798690221.\u001b[0m\n",
            "\u001b[32m[I 2021-07-03 13:20:33,443]\u001b[0m Trial 3 finished with value: 0.9659511091468089 and parameters: {'lambda': 0.1750300039236326, 'alpha': 0.16170199753683476, 'colsample_bytree': 0.6, 'subsample': 1.0, 'learning_rate': 0.016, 'max_depth': 13, 'random_state': 48, 'min_child_weight': 66}. Best is trial 2 with value: 0.9663443798690221.\u001b[0m\n",
            "\u001b[32m[I 2021-07-03 13:21:05,326]\u001b[0m Trial 4 finished with value: 0.9659325248764232 and parameters: {'lambda': 0.01680518019972616, 'alpha': 0.00967393286707375, 'colsample_bytree': 0.8, 'subsample': 0.7, 'learning_rate': 0.018, 'max_depth': 17, 'random_state': 2020, 'min_child_weight': 30}. Best is trial 2 with value: 0.9663443798690221.\u001b[0m\n",
            "\u001b[32m[I 2021-07-03 13:21:29,690]\u001b[0m Trial 5 finished with value: 0.9655972055590062 and parameters: {'lambda': 0.020530533816826284, 'alpha': 1.1760096602282823, 'colsample_bytree': 1.0, 'subsample': 1.0, 'learning_rate': 0.02, 'max_depth': 7, 'random_state': 2020, 'min_child_weight': 44}. Best is trial 2 with value: 0.9663443798690221.\u001b[0m\n",
            "\u001b[32m[I 2021-07-03 13:21:35,195]\u001b[0m Trial 6 finished with value: 0.9349120024842033 and parameters: {'lambda': 0.42768461846209, 'alpha': 1.353454042817887, 'colsample_bytree': 0.9, 'subsample': 0.6, 'learning_rate': 0.009, 'max_depth': 5, 'random_state': 2020, 'min_child_weight': 78}. Best is trial 2 with value: 0.9663443798690221.\u001b[0m\n",
            "\u001b[32m[I 2021-07-03 13:21:40,078]\u001b[0m Trial 7 finished with value: 0.9430147359254457 and parameters: {'lambda': 2.5542913283137563, 'alpha': 1.013512477448444, 'colsample_bytree': 0.4, 'subsample': 0.7, 'learning_rate': 0.016, 'max_depth': 5, 'random_state': 2020, 'min_child_weight': 208}. Best is trial 2 with value: 0.9663443798690221.\u001b[0m\n",
            "\u001b[32m[I 2021-07-03 13:22:17,721]\u001b[0m Trial 8 finished with value: 0.9633637626415875 and parameters: {'lambda': 0.018688998050368725, 'alpha': 0.17392736957556704, 'colsample_bytree': 0.6, 'subsample': 0.5, 'learning_rate': 0.014, 'max_depth': 20, 'random_state': 48, 'min_child_weight': 220}. Best is trial 2 with value: 0.9663443798690221.\u001b[0m\n",
            "\u001b[32m[I 2021-07-03 13:23:01,548]\u001b[0m Trial 9 finished with value: 0.9652223224163096 and parameters: {'lambda': 0.02137093874894116, 'alpha': 0.15451044816007484, 'colsample_bytree': 0.3, 'subsample': 0.6, 'learning_rate': 0.016, 'max_depth': 20, 'random_state': 48, 'min_child_weight': 117}. Best is trial 2 with value: 0.9663443798690221.\u001b[0m\n",
            "\u001b[32m[I 2021-07-03 13:24:15,020]\u001b[0m Trial 10 finished with value: 0.9661774617228225 and parameters: {'lambda': 0.001620082617449181, 'alpha': 8.552250413676935, 'colsample_bytree': 0.4, 'subsample': 0.8, 'learning_rate': 0.012, 'max_depth': 15, 'random_state': 24, 'min_child_weight': 7}. Best is trial 2 with value: 0.9663443798690221.\u001b[0m\n",
            "\u001b[32m[I 2021-07-03 13:25:49,103]\u001b[0m Trial 11 finished with value: 0.9660047912737255 and parameters: {'lambda': 0.0014240237450165209, 'alpha': 8.559648869065919, 'colsample_bytree': 0.4, 'subsample': 0.8, 'learning_rate': 0.012, 'max_depth': 15, 'random_state': 24, 'min_child_weight': 4}. Best is trial 2 with value: 0.9663443798690221.\u001b[0m\n",
            "\u001b[32m[I 2021-07-03 13:26:50,907]\u001b[0m Trial 12 finished with value: 0.9654791512167799 and parameters: {'lambda': 0.002057460573404571, 'alpha': 0.0010463310681730537, 'colsample_bytree': 0.5, 'subsample': 0.8, 'learning_rate': 0.008, 'max_depth': 15, 'random_state': 24, 'min_child_weight': 6}. Best is trial 2 with value: 0.9663443798690221.\u001b[0m\n",
            "\u001b[32m[I 2021-07-03 13:27:19,201]\u001b[0m Trial 13 finished with value: 0.9646930333214024 and parameters: {'lambda': 0.0038974148954420747, 'alpha': 0.02630961934977218, 'colsample_bytree': 0.7, 'subsample': 0.8, 'learning_rate': 0.012, 'max_depth': 9, 'random_state': 24, 'min_child_weight': 144}. Best is trial 2 with value: 0.9663443798690221.\u001b[0m\n",
            "\u001b[32m[I 2021-07-03 13:28:28,550]\u001b[0m Trial 14 finished with value: 0.9657240892698717 and parameters: {'lambda': 0.07619038564231667, 'alpha': 8.897569356075648, 'colsample_bytree': 0.4, 'subsample': 1.0, 'learning_rate': 0.014, 'max_depth': 15, 'random_state': 48, 'min_child_weight': 4}. Best is trial 2 with value: 0.9663443798690221.\u001b[0m\n",
            "\u001b[32m[I 2021-07-03 13:29:00,356]\u001b[0m Trial 15 finished with value: 0.9641639083366684 and parameters: {'lambda': 0.005467248640780835, 'alpha': 0.002206643068223733, 'colsample_bytree': 0.4, 'subsample': 0.4, 'learning_rate': 0.014, 'max_depth': 15, 'random_state': 24, 'min_child_weight': 116}. Best is trial 2 with value: 0.9663443798690221.\u001b[0m\n",
            "\u001b[32m[I 2021-07-03 13:29:49,551]\u001b[0m Trial 16 finished with value: 0.9664961781588531 and parameters: {'lambda': 0.08287684030183871, 'alpha': 0.021800136799959794, 'colsample_bytree': 0.4, 'subsample': 1.0, 'learning_rate': 0.012, 'max_depth': 15, 'random_state': 48, 'min_child_weight': 44}. Best is trial 16 with value: 0.9664961781588531.\u001b[0m\n",
            "\u001b[32m[I 2021-07-03 13:30:19,110]\u001b[0m Trial 17 finished with value: 0.9656477756261004 and parameters: {'lambda': 0.0736986353742997, 'alpha': 0.017914630395936607, 'colsample_bytree': 0.7, 'subsample': 1.0, 'learning_rate': 0.018, 'max_depth': 11, 'random_state': 48, 'min_child_weight': 166}. Best is trial 16 with value: 0.9664961781588531.\u001b[0m\n",
            "\u001b[32m[I 2021-07-03 13:30:58,831]\u001b[0m Trial 18 finished with value: 0.9661479134448582 and parameters: {'lambda': 0.20528790013698178, 'alpha': 0.05696439914463783, 'colsample_bytree': 0.3, 'subsample': 1.0, 'learning_rate': 0.02, 'max_depth': 17, 'random_state': 48, 'min_child_weight': 49}. Best is trial 16 with value: 0.9664961781588531.\u001b[0m\n",
            "\u001b[32m[I 2021-07-03 13:31:35,970]\u001b[0m Trial 19 finished with value: 0.9654636560790603 and parameters: {'lambda': 1.8293301690601609, 'alpha': 0.0079463512796583, 'colsample_bytree': 0.5, 'subsample': 1.0, 'learning_rate': 0.009, 'max_depth': 13, 'random_state': 48, 'min_child_weight': 109}. Best is trial 16 with value: 0.9664961781588531.\u001b[0m\n",
            "\u001b[32m[I 2021-07-03 13:32:03,872]\u001b[0m Trial 20 finished with value: 0.9634307014917336 and parameters: {'lambda': 0.05935031259030531, 'alpha': 0.37572455565093704, 'colsample_bytree': 0.8, 'subsample': 1.0, 'learning_rate': 0.008, 'max_depth': 9, 'random_state': 48, 'min_child_weight': 180}. Best is trial 16 with value: 0.9664961781588531.\u001b[0m\n",
            "\u001b[32m[I 2021-07-03 13:32:58,662]\u001b[0m Trial 21 finished with value: 0.966360010156296 and parameters: {'lambda': 0.007760285328621599, 'alpha': 0.053988600576792355, 'colsample_bytree': 0.4, 'subsample': 0.8, 'learning_rate': 0.012, 'max_depth': 15, 'random_state': 24, 'min_child_weight': 24}. Best is trial 16 with value: 0.9664961781588531.\u001b[0m\n",
            "\u001b[32m[I 2021-07-03 13:33:43,499]\u001b[0m Trial 22 finished with value: 0.9661228311356425 and parameters: {'lambda': 0.006653218220222155, 'alpha': 0.06371101614572536, 'colsample_bytree': 0.4, 'subsample': 0.8, 'learning_rate': 0.012, 'max_depth': 15, 'random_state': 48, 'min_child_weight': 28}. Best is trial 16 with value: 0.9664961781588531.\u001b[0m\n",
            "\u001b[32m[I 2021-07-03 13:34:23,905]\u001b[0m Trial 23 finished with value: 0.9658870820455391 and parameters: {'lambda': 0.03774935662196809, 'alpha': 0.019484399312365754, 'colsample_bytree': 0.4, 'subsample': 1.0, 'learning_rate': 0.012, 'max_depth': 15, 'random_state': 24, 'min_child_weight': 92}. Best is trial 16 with value: 0.9664961781588531.\u001b[0m\n",
            "\u001b[32m[I 2021-07-03 13:34:49,917]\u001b[0m Trial 24 finished with value: 0.960692411034934 and parameters: {'lambda': 0.22050638749514634, 'alpha': 0.3497176109339869, 'colsample_bytree': 0.4, 'subsample': 0.4, 'learning_rate': 0.012, 'max_depth': 15, 'random_state': 48, 'min_child_weight': 298}. Best is trial 16 with value: 0.9664961781588531.\u001b[0m\n",
            "\u001b[32m[I 2021-07-03 13:35:33,230]\u001b[0m Trial 25 finished with value: 0.9661802371154521 and parameters: {'lambda': 0.008553754604813191, 'alpha': 0.010383443637253126, 'colsample_bytree': 0.4, 'subsample': 0.8, 'learning_rate': 0.014, 'max_depth': 15, 'random_state': 48, 'min_child_weight': 56}. Best is trial 16 with value: 0.9664961781588531.\u001b[0m\n",
            "\u001b[32m[I 2021-07-03 13:36:21,724]\u001b[0m Trial 26 finished with value: 0.9663990659640549 and parameters: {'lambda': 0.03785620605363892, 'alpha': 0.00366817865425139, 'colsample_bytree': 0.4, 'subsample': 1.0, 'learning_rate': 0.012, 'max_depth': 15, 'random_state': 24, 'min_child_weight': 28}. Best is trial 16 with value: 0.9664961781588531.\u001b[0m\n",
            "\u001b[32m[I 2021-07-03 13:37:09,025]\u001b[0m Trial 27 finished with value: 0.9659814067807833 and parameters: {'lambda': 0.011887161277513221, 'alpha': 0.0022334644633789213, 'colsample_bytree': 0.4, 'subsample': 0.5, 'learning_rate': 0.012, 'max_depth': 15, 'random_state': 24, 'min_child_weight': 25}. Best is trial 16 with value: 0.9664961781588531.\u001b[0m\n",
            "\u001b[32m[I 2021-07-03 13:37:39,925]\u001b[0m Trial 28 finished with value: 0.9657993844652173 and parameters: {'lambda': 0.03269086093271246, 'alpha': 0.002591116596186556, 'colsample_bytree': 0.4, 'subsample': 0.6, 'learning_rate': 0.012, 'max_depth': 9, 'random_state': 24, 'min_child_weight': 23}. Best is trial 16 with value: 0.9664961781588531.\u001b[0m\n",
            "\u001b[32m[I 2021-07-03 13:38:06,678]\u001b[0m Trial 29 finished with value: 0.9632682107001242 and parameters: {'lambda': 0.0028161256757211007, 'alpha': 0.0010181643728821939, 'colsample_bytree': 1.0, 'subsample': 0.7, 'learning_rate': 0.01, 'max_depth': 7, 'random_state': 24, 'min_child_weight': 99}. Best is trial 16 with value: 0.9664961781588531.\u001b[0m\n",
            "\u001b[32m[I 2021-07-03 13:38:29,798]\u001b[0m Trial 30 finished with value: 0.9638549962767746 and parameters: {'lambda': 0.5323894003316153, 'alpha': 0.005644746026283066, 'colsample_bytree': 0.9, 'subsample': 1.0, 'learning_rate': 0.012, 'max_depth': 15, 'random_state': 24, 'min_child_weight': 129}. Best is trial 16 with value: 0.9664961781588531.\u001b[0m\n",
            "\u001b[32m[I 2021-07-03 13:39:10,746]\u001b[0m Trial 31 finished with value: 0.9662165573514324 and parameters: {'lambda': 0.1265430806657861, 'alpha': 0.03607744523557369, 'colsample_bytree': 0.4, 'subsample': 1.0, 'learning_rate': 0.014, 'max_depth': 15, 'random_state': 24, 'min_child_weight': 67}. Best is trial 16 with value: 0.9664961781588531.\u001b[0m\n",
            "\u001b[32m[I 2021-07-03 13:39:41,841]\u001b[0m Trial 32 finished with value: 0.965805495155772 and parameters: {'lambda': 0.03962702582341804, 'alpha': 0.06657948718332439, 'colsample_bytree': 0.4, 'subsample': 1.0, 'learning_rate': 0.012, 'max_depth': 11, 'random_state': 48, 'min_child_weight': 42}. Best is trial 16 with value: 0.9664961781588531.\u001b[0m\n",
            "\u001b[32m[I 2021-07-03 13:40:22,974]\u001b[0m Trial 33 finished with value: 0.9658125989542109 and parameters: {'lambda': 0.3263042905584334, 'alpha': 0.014621966829258828, 'colsample_bytree': 0.6, 'subsample': 1.0, 'learning_rate': 0.01, 'max_depth': 15, 'random_state': 24, 'min_child_weight': 76}. Best is trial 16 with value: 0.9664961781588531.\u001b[0m\n",
            "\u001b[32m[I 2021-07-03 13:40:59,992]\u001b[0m Trial 34 finished with value: 0.9660552117109559 and parameters: {'lambda': 0.12103628446814962, 'alpha': 0.0356361328795397, 'colsample_bytree': 0.4, 'subsample': 1.0, 'learning_rate': 0.012, 'max_depth': 13, 'random_state': 48, 'min_child_weight': 58}. Best is trial 16 with value: 0.9664961781588531.\u001b[0m\n",
            "\u001b[32m[I 2021-07-03 13:41:22,886]\u001b[0m Trial 35 finished with value: 0.9652533525125997 and parameters: {'lambda': 0.05215091371717967, 'alpha': 0.11395752205090479, 'colsample_bytree': 0.8, 'subsample': 0.5, 'learning_rate': 0.018, 'max_depth': 17, 'random_state': 24, 'min_child_weight': 37}. Best is trial 16 with value: 0.9664961781588531.\u001b[0m\n",
            "\u001b[32m[I 2021-07-03 13:41:46,007]\u001b[0m Trial 36 finished with value: 0.9653301078058069 and parameters: {'lambda': 0.8300674259125883, 'alpha': 0.0038249812316278288, 'colsample_bytree': 1.0, 'subsample': 0.4, 'learning_rate': 0.02, 'max_depth': 7, 'random_state': 2020, 'min_child_weight': 16}. Best is trial 16 with value: 0.9664961781588531.\u001b[0m\n",
            "\u001b[32m[I 2021-07-03 13:41:50,974]\u001b[0m Trial 37 finished with value: 0.9411099055288206 and parameters: {'lambda': 0.010576441432516159, 'alpha': 0.2553780859410673, 'colsample_bytree': 0.9, 'subsample': 1.0, 'learning_rate': 0.009, 'max_depth': 5, 'random_state': 48, 'min_child_weight': 81}. Best is trial 16 with value: 0.9664961781588531.\u001b[0m\n",
            "\u001b[32m[I 2021-07-03 13:42:35,777]\u001b[0m Trial 38 finished with value: 0.9662987439673464 and parameters: {'lambda': 0.023907742250035224, 'alpha': 0.0964642360899176, 'colsample_bytree': 0.4, 'subsample': 0.7, 'learning_rate': 0.014, 'max_depth': 15, 'random_state': 2020, 'min_child_weight': 41}. Best is trial 16 with value: 0.9664961781588531.\u001b[0m\n",
            "\u001b[32m[I 2021-07-03 13:43:12,544]\u001b[0m Trial 39 finished with value: 0.965898889531139 and parameters: {'lambda': 0.013747145139813862, 'alpha': 0.01254077864827821, 'colsample_bytree': 0.3, 'subsample': 1.0, 'learning_rate': 0.016, 'max_depth': 15, 'random_state': 48, 'min_child_weight': 65}. Best is trial 16 with value: 0.9664961781588531.\u001b[0m\n",
            "\u001b[32m[I 2021-07-03 13:43:43,219]\u001b[0m Trial 40 finished with value: 0.9651608836703399 and parameters: {'lambda': 0.12057384146600342, 'alpha': 0.006354843087402957, 'colsample_bytree': 0.6, 'subsample': 0.6, 'learning_rate': 0.012, 'max_depth': 11, 'random_state': 24, 'min_child_weight': 93}. Best is trial 16 with value: 0.9664961781588531.\u001b[0m\n",
            "\u001b[32m[I 2021-07-03 13:44:20,814]\u001b[0m Trial 41 finished with value: 0.9658953671958843 and parameters: {'lambda': 0.023312326888009435, 'alpha': 0.09590285438044613, 'colsample_bytree': 0.4, 'subsample': 0.7, 'learning_rate': 0.014, 'max_depth': 15, 'random_state': 2020, 'min_child_weight': 42}. Best is trial 16 with value: 0.9664961781588531.\u001b[0m\n",
            "\u001b[32m[I 2021-07-03 13:44:34,794]\u001b[0m Trial 42 finished with value: 0.9581546016680716 and parameters: {'lambda': 0.03005460208149567, 'alpha': 0.025891473088036694, 'colsample_bytree': 0.4, 'subsample': 0.7, 'learning_rate': 0.014, 'max_depth': 20, 'random_state': 2020, 'min_child_weight': 19}. Best is trial 16 with value: 0.9664961781588531.\u001b[0m\n",
            "\u001b[32m[I 2021-07-03 13:45:16,910]\u001b[0m Trial 43 finished with value: 0.9660153884468001 and parameters: {'lambda': 0.017027501529365368, 'alpha': 0.0926033448201442, 'colsample_bytree': 0.4, 'subsample': 0.7, 'learning_rate': 0.014, 'max_depth': 15, 'random_state': 2020, 'min_child_weight': 38}. Best is trial 16 with value: 0.9664961781588531.\u001b[0m\n",
            "\u001b[32m[I 2021-07-03 13:45:29,673]\u001b[0m Trial 44 finished with value: 0.9582815119261712 and parameters: {'lambda': 0.0498652563995772, 'alpha': 0.7044842190007566, 'colsample_bytree': 0.4, 'subsample': 0.7, 'learning_rate': 0.008, 'max_depth': 15, 'random_state': 2020, 'min_child_weight': 14}. Best is trial 16 with value: 0.9664961781588531.\u001b[0m\n",
            "\u001b[32m[I 2021-07-03 13:45:51,223]\u001b[0m Trial 45 finished with value: 0.9640948903554354 and parameters: {'lambda': 0.09962512320523084, 'alpha': 0.04598224416610351, 'colsample_bytree': 0.5, 'subsample': 0.8, 'learning_rate': 0.014, 'max_depth': 5, 'random_state': 2020, 'min_child_weight': 1}. Best is trial 16 with value: 0.9664961781588531.\u001b[0m\n",
            "\u001b[32m[I 2021-07-03 13:46:26,321]\u001b[0m Trial 46 finished with value: 0.9657404290923046 and parameters: {'lambda': 0.02585297640370347, 'alpha': 0.16959923307006608, 'colsample_bytree': 0.7, 'subsample': 0.7, 'learning_rate': 0.012, 'max_depth': 15, 'random_state': 2020, 'min_child_weight': 51}. Best is trial 16 with value: 0.9664961781588531.\u001b[0m\n",
            "\u001b[32m[I 2021-07-03 13:47:01,541]\u001b[0m Trial 47 finished with value: 0.9660348729097518 and parameters: {'lambda': 0.004220389968619446, 'alpha': 0.028392015763314685, 'colsample_bytree': 0.4, 'subsample': 0.8, 'learning_rate': 0.016, 'max_depth': 15, 'random_state': 24, 'min_child_weight': 67}. Best is trial 16 with value: 0.9664961781588531.\u001b[0m\n",
            "\u001b[32m[I 2021-07-03 13:47:58,615]\u001b[0m Trial 48 finished with value: 0.9660819761494438 and parameters: {'lambda': 0.08026597900346424, 'alpha': 0.11850315623816536, 'colsample_bytree': 0.4, 'subsample': 0.5, 'learning_rate': 0.014, 'max_depth': 20, 'random_state': 48, 'min_child_weight': 32}. Best is trial 16 with value: 0.9664961781588531.\u001b[0m\n",
            "\u001b[32m[I 2021-07-03 13:48:31,376]\u001b[0m Trial 49 finished with value: 0.9650435738573538 and parameters: {'lambda': 0.007245440807228051, 'alpha': 0.24203698386397063, 'colsample_bytree': 0.4, 'subsample': 1.0, 'learning_rate': 0.018, 'max_depth': 15, 'random_state': 2020, 'min_child_weight': 252}. Best is trial 16 with value: 0.9664961781588531.\u001b[0m\n"
          ],
          "name": "stderr"
        }
      ]
    },
    {
      "cell_type": "markdown",
      "metadata": {
        "id": "NMWPi_WCndtJ"
      },
      "source": [
        "Save best trials"
      ]
    },
    {
      "cell_type": "code",
      "metadata": {
        "colab": {
          "base_uri": "https://localhost:8080/"
        },
        "id": "oi18yiNFO99I",
        "outputId": "608f301a-a24a-481f-8cac-a475ce5f8151"
      },
      "source": [
        "print('Number of finished trials:', len(study.trials))\n",
        "print('Best trial:', study.best_trial.params)\n",
        "\n"
      ],
      "execution_count": null,
      "outputs": [
        {
          "output_type": "stream",
          "text": [
            "Number of finished trials: 50\n",
            "Best trial: {'lambda': 0.08287684030183871, 'alpha': 0.021800136799959794, 'colsample_bytree': 0.4, 'subsample': 1.0, 'learning_rate': 0.012, 'max_depth': 15, 'random_state': 48, 'min_child_weight': 44}\n"
          ],
          "name": "stdout"
        }
      ]
    },
    {
      "cell_type": "code",
      "metadata": {
        "id": "6r4WzHftPniG"
      },
      "source": [
        "Best_trial_fastai= {'lambda': 0.08287684030183871, 'alpha': 0.021800136799959794, 'colsample_bytree': 0.4, 'subsample': 1.0, 'learning_rate': 0.012, 'max_depth': 15, 'random_state': 48, 'min_child_weight': 44}"
      ],
      "execution_count": null,
      "outputs": []
    },
    {
      "cell_type": "markdown",
      "metadata": {
        "id": "_eLthJ1d6MRa"
      },
      "source": [
        "### Optuna Visualisation"
      ]
    },
    {
      "cell_type": "markdown",
      "metadata": {
        "id": "JqThKdL6nifm"
      },
      "source": [
        "plot_optimization_histor: shows the scores from all trials as well as the best score so far at each point."
      ]
    },
    {
      "cell_type": "code",
      "metadata": {
        "colab": {
          "base_uri": "https://localhost:8080/",
          "height": 542
        },
        "id": "o_R9DiTFyiUr",
        "outputId": "e1b016f8-6ed5-425d-eab2-cd1519b3c3f9"
      },
      "source": [
        "\n",
        "optuna.visualization.plot_optimization_history(study)\n"
      ],
      "execution_count": null,
      "outputs": [
        {
          "output_type": "display_data",
          "data": {
            "text/html": [
              "<html>\n",
              "<head><meta charset=\"utf-8\" /></head>\n",
              "<body>\n",
              "    <div>\n",
              "            <script src=\"https://cdnjs.cloudflare.com/ajax/libs/mathjax/2.7.5/MathJax.js?config=TeX-AMS-MML_SVG\"></script><script type=\"text/javascript\">if (window.MathJax) {MathJax.Hub.Config({SVG: {font: \"STIX-Web\"}});}</script>\n",
              "                <script type=\"text/javascript\">window.PlotlyConfig = {MathJaxConfig: 'local'};</script>\n",
              "        <script src=\"https://cdn.plot.ly/plotly-latest.min.js\"></script>    \n",
              "            <div id=\"0af55bf1-000f-4f56-a518-a6dd71c14376\" class=\"plotly-graph-div\" style=\"height:525px; width:100%;\"></div>\n",
              "            <script type=\"text/javascript\">\n",
              "                \n",
              "                    window.PLOTLYENV=window.PLOTLYENV || {};\n",
              "                    \n",
              "                if (document.getElementById(\"0af55bf1-000f-4f56-a518-a6dd71c14376\")) {\n",
              "                    Plotly.newPlot(\n",
              "                        '0af55bf1-000f-4f56-a518-a6dd71c14376',\n",
              "                        [{\"mode\": \"markers\", \"name\": \"Objective Value\", \"type\": \"scatter\", \"x\": [0, 1, 2, 3, 4, 5, 6, 7, 8, 9, 10, 11, 12, 13, 14, 15, 16, 17, 18, 19, 20, 21, 22, 23, 24, 25, 26, 27, 28, 29, 30, 31, 32, 33, 34, 35, 36, 37, 38, 39, 40, 41, 42, 43, 44, 45, 46, 47, 48, 49], \"y\": [0.9614490168531203, 0.96370909267955, 0.9663443798690221, 0.9659511091468089, 0.9659325248764232, 0.9655972055590062, 0.9349120024842033, 0.9430147359254457, 0.9633637626415875, 0.9652223224163096, 0.9661774617228225, 0.9660047912737255, 0.9654791512167799, 0.9646930333214024, 0.9657240892698717, 0.9641639083366684, 0.9664961781588531, 0.9656477756261004, 0.9661479134448582, 0.9654636560790603, 0.9634307014917336, 0.966360010156296, 0.9661228311356425, 0.9658870820455391, 0.960692411034934, 0.9661802371154521, 0.9663990659640549, 0.9659814067807833, 0.9657993844652173, 0.9632682107001242, 0.9638549962767746, 0.9662165573514324, 0.965805495155772, 0.9658125989542109, 0.9660552117109559, 0.9652533525125997, 0.9653301078058069, 0.9411099055288206, 0.9662987439673464, 0.965898889531139, 0.9651608836703399, 0.9658953671958843, 0.9581546016680716, 0.9660153884468001, 0.9582815119261712, 0.9640948903554354, 0.9657404290923046, 0.9660348729097518, 0.9660819761494438, 0.9650435738573538]}, {\"name\": \"Best Value\", \"type\": \"scatter\", \"x\": [0, 1, 2, 3, 4, 5, 6, 7, 8, 9, 10, 11, 12, 13, 14, 15, 16, 17, 18, 19, 20, 21, 22, 23, 24, 25, 26, 27, 28, 29, 30, 31, 32, 33, 34, 35, 36, 37, 38, 39, 40, 41, 42, 43, 44, 45, 46, 47, 48, 49], \"y\": [0.9614490168531203, 0.96370909267955, 0.9663443798690221, 0.9663443798690221, 0.9663443798690221, 0.9663443798690221, 0.9663443798690221, 0.9663443798690221, 0.9663443798690221, 0.9663443798690221, 0.9663443798690221, 0.9663443798690221, 0.9663443798690221, 0.9663443798690221, 0.9663443798690221, 0.9663443798690221, 0.9664961781588531, 0.9664961781588531, 0.9664961781588531, 0.9664961781588531, 0.9664961781588531, 0.9664961781588531, 0.9664961781588531, 0.9664961781588531, 0.9664961781588531, 0.9664961781588531, 0.9664961781588531, 0.9664961781588531, 0.9664961781588531, 0.9664961781588531, 0.9664961781588531, 0.9664961781588531, 0.9664961781588531, 0.9664961781588531, 0.9664961781588531, 0.9664961781588531, 0.9664961781588531, 0.9664961781588531, 0.9664961781588531, 0.9664961781588531, 0.9664961781588531, 0.9664961781588531, 0.9664961781588531, 0.9664961781588531, 0.9664961781588531, 0.9664961781588531, 0.9664961781588531, 0.9664961781588531, 0.9664961781588531, 0.9664961781588531]}],\n",
              "                        {\"template\": {\"data\": {\"bar\": [{\"error_x\": {\"color\": \"#2a3f5f\"}, \"error_y\": {\"color\": \"#2a3f5f\"}, \"marker\": {\"line\": {\"color\": \"#E5ECF6\", \"width\": 0.5}}, \"type\": \"bar\"}], \"barpolar\": [{\"marker\": {\"line\": {\"color\": \"#E5ECF6\", \"width\": 0.5}}, \"type\": \"barpolar\"}], \"carpet\": [{\"aaxis\": {\"endlinecolor\": \"#2a3f5f\", \"gridcolor\": \"white\", \"linecolor\": \"white\", \"minorgridcolor\": \"white\", \"startlinecolor\": \"#2a3f5f\"}, \"baxis\": {\"endlinecolor\": \"#2a3f5f\", \"gridcolor\": \"white\", \"linecolor\": \"white\", \"minorgridcolor\": \"white\", \"startlinecolor\": \"#2a3f5f\"}, \"type\": \"carpet\"}], \"choropleth\": [{\"colorbar\": {\"outlinewidth\": 0, \"ticks\": \"\"}, \"type\": \"choropleth\"}], \"contour\": [{\"colorbar\": {\"outlinewidth\": 0, \"ticks\": \"\"}, \"colorscale\": [[0.0, \"#0d0887\"], [0.1111111111111111, \"#46039f\"], [0.2222222222222222, \"#7201a8\"], [0.3333333333333333, \"#9c179e\"], [0.4444444444444444, \"#bd3786\"], [0.5555555555555556, \"#d8576b\"], [0.6666666666666666, \"#ed7953\"], [0.7777777777777778, \"#fb9f3a\"], [0.8888888888888888, \"#fdca26\"], [1.0, \"#f0f921\"]], \"type\": \"contour\"}], \"contourcarpet\": [{\"colorbar\": {\"outlinewidth\": 0, \"ticks\": \"\"}, \"type\": \"contourcarpet\"}], \"heatmap\": [{\"colorbar\": {\"outlinewidth\": 0, \"ticks\": \"\"}, \"colorscale\": [[0.0, \"#0d0887\"], [0.1111111111111111, \"#46039f\"], [0.2222222222222222, \"#7201a8\"], [0.3333333333333333, \"#9c179e\"], [0.4444444444444444, \"#bd3786\"], [0.5555555555555556, \"#d8576b\"], [0.6666666666666666, \"#ed7953\"], [0.7777777777777778, \"#fb9f3a\"], [0.8888888888888888, \"#fdca26\"], [1.0, \"#f0f921\"]], \"type\": \"heatmap\"}], \"heatmapgl\": [{\"colorbar\": {\"outlinewidth\": 0, \"ticks\": \"\"}, \"colorscale\": [[0.0, \"#0d0887\"], [0.1111111111111111, \"#46039f\"], [0.2222222222222222, \"#7201a8\"], [0.3333333333333333, \"#9c179e\"], [0.4444444444444444, \"#bd3786\"], [0.5555555555555556, \"#d8576b\"], [0.6666666666666666, \"#ed7953\"], [0.7777777777777778, \"#fb9f3a\"], [0.8888888888888888, \"#fdca26\"], [1.0, \"#f0f921\"]], \"type\": \"heatmapgl\"}], \"histogram\": [{\"marker\": {\"colorbar\": {\"outlinewidth\": 0, \"ticks\": \"\"}}, \"type\": \"histogram\"}], \"histogram2d\": [{\"colorbar\": {\"outlinewidth\": 0, \"ticks\": \"\"}, \"colorscale\": [[0.0, \"#0d0887\"], [0.1111111111111111, \"#46039f\"], [0.2222222222222222, \"#7201a8\"], [0.3333333333333333, \"#9c179e\"], [0.4444444444444444, \"#bd3786\"], [0.5555555555555556, \"#d8576b\"], [0.6666666666666666, \"#ed7953\"], [0.7777777777777778, \"#fb9f3a\"], [0.8888888888888888, \"#fdca26\"], [1.0, \"#f0f921\"]], \"type\": \"histogram2d\"}], \"histogram2dcontour\": [{\"colorbar\": {\"outlinewidth\": 0, \"ticks\": \"\"}, \"colorscale\": [[0.0, \"#0d0887\"], [0.1111111111111111, \"#46039f\"], [0.2222222222222222, \"#7201a8\"], [0.3333333333333333, \"#9c179e\"], [0.4444444444444444, \"#bd3786\"], [0.5555555555555556, \"#d8576b\"], [0.6666666666666666, \"#ed7953\"], [0.7777777777777778, \"#fb9f3a\"], [0.8888888888888888, \"#fdca26\"], [1.0, \"#f0f921\"]], \"type\": \"histogram2dcontour\"}], \"mesh3d\": [{\"colorbar\": {\"outlinewidth\": 0, \"ticks\": \"\"}, \"type\": \"mesh3d\"}], \"parcoords\": [{\"line\": {\"colorbar\": {\"outlinewidth\": 0, \"ticks\": \"\"}}, \"type\": \"parcoords\"}], \"pie\": [{\"automargin\": true, \"type\": \"pie\"}], \"scatter\": [{\"marker\": {\"colorbar\": {\"outlinewidth\": 0, \"ticks\": \"\"}}, \"type\": \"scatter\"}], \"scatter3d\": [{\"line\": {\"colorbar\": {\"outlinewidth\": 0, \"ticks\": \"\"}}, \"marker\": {\"colorbar\": {\"outlinewidth\": 0, \"ticks\": \"\"}}, \"type\": \"scatter3d\"}], \"scattercarpet\": [{\"marker\": {\"colorbar\": {\"outlinewidth\": 0, \"ticks\": \"\"}}, \"type\": \"scattercarpet\"}], \"scattergeo\": [{\"marker\": {\"colorbar\": {\"outlinewidth\": 0, \"ticks\": \"\"}}, \"type\": \"scattergeo\"}], \"scattergl\": [{\"marker\": {\"colorbar\": {\"outlinewidth\": 0, \"ticks\": \"\"}}, \"type\": \"scattergl\"}], \"scattermapbox\": [{\"marker\": {\"colorbar\": {\"outlinewidth\": 0, \"ticks\": \"\"}}, \"type\": \"scattermapbox\"}], \"scatterpolar\": [{\"marker\": {\"colorbar\": {\"outlinewidth\": 0, \"ticks\": \"\"}}, \"type\": \"scatterpolar\"}], \"scatterpolargl\": [{\"marker\": {\"colorbar\": {\"outlinewidth\": 0, \"ticks\": \"\"}}, \"type\": \"scatterpolargl\"}], \"scatterternary\": [{\"marker\": {\"colorbar\": {\"outlinewidth\": 0, \"ticks\": \"\"}}, \"type\": \"scatterternary\"}], \"surface\": [{\"colorbar\": {\"outlinewidth\": 0, \"ticks\": \"\"}, \"colorscale\": [[0.0, \"#0d0887\"], [0.1111111111111111, \"#46039f\"], [0.2222222222222222, \"#7201a8\"], [0.3333333333333333, \"#9c179e\"], [0.4444444444444444, \"#bd3786\"], [0.5555555555555556, \"#d8576b\"], [0.6666666666666666, \"#ed7953\"], [0.7777777777777778, \"#fb9f3a\"], [0.8888888888888888, \"#fdca26\"], [1.0, \"#f0f921\"]], \"type\": \"surface\"}], \"table\": [{\"cells\": {\"fill\": {\"color\": \"#EBF0F8\"}, \"line\": {\"color\": \"white\"}}, \"header\": {\"fill\": {\"color\": \"#C8D4E3\"}, \"line\": {\"color\": \"white\"}}, \"type\": \"table\"}]}, \"layout\": {\"annotationdefaults\": {\"arrowcolor\": \"#2a3f5f\", \"arrowhead\": 0, \"arrowwidth\": 1}, \"coloraxis\": {\"colorbar\": {\"outlinewidth\": 0, \"ticks\": \"\"}}, \"colorscale\": {\"diverging\": [[0, \"#8e0152\"], [0.1, \"#c51b7d\"], [0.2, \"#de77ae\"], [0.3, \"#f1b6da\"], [0.4, \"#fde0ef\"], [0.5, \"#f7f7f7\"], [0.6, \"#e6f5d0\"], [0.7, \"#b8e186\"], [0.8, \"#7fbc41\"], [0.9, \"#4d9221\"], [1, \"#276419\"]], \"sequential\": [[0.0, \"#0d0887\"], [0.1111111111111111, \"#46039f\"], [0.2222222222222222, \"#7201a8\"], [0.3333333333333333, \"#9c179e\"], [0.4444444444444444, \"#bd3786\"], [0.5555555555555556, \"#d8576b\"], [0.6666666666666666, \"#ed7953\"], [0.7777777777777778, \"#fb9f3a\"], [0.8888888888888888, \"#fdca26\"], [1.0, \"#f0f921\"]], \"sequentialminus\": [[0.0, \"#0d0887\"], [0.1111111111111111, \"#46039f\"], [0.2222222222222222, \"#7201a8\"], [0.3333333333333333, \"#9c179e\"], [0.4444444444444444, \"#bd3786\"], [0.5555555555555556, \"#d8576b\"], [0.6666666666666666, \"#ed7953\"], [0.7777777777777778, \"#fb9f3a\"], [0.8888888888888888, \"#fdca26\"], [1.0, \"#f0f921\"]]}, \"colorway\": [\"#636efa\", \"#EF553B\", \"#00cc96\", \"#ab63fa\", \"#FFA15A\", \"#19d3f3\", \"#FF6692\", \"#B6E880\", \"#FF97FF\", \"#FECB52\"], \"font\": {\"color\": \"#2a3f5f\"}, \"geo\": {\"bgcolor\": \"white\", \"lakecolor\": \"white\", \"landcolor\": \"#E5ECF6\", \"showlakes\": true, \"showland\": true, \"subunitcolor\": \"white\"}, \"hoverlabel\": {\"align\": \"left\"}, \"hovermode\": \"closest\", \"mapbox\": {\"style\": \"light\"}, \"paper_bgcolor\": \"white\", \"plot_bgcolor\": \"#E5ECF6\", \"polar\": {\"angularaxis\": {\"gridcolor\": \"white\", \"linecolor\": \"white\", \"ticks\": \"\"}, \"bgcolor\": \"#E5ECF6\", \"radialaxis\": {\"gridcolor\": \"white\", \"linecolor\": \"white\", \"ticks\": \"\"}}, \"scene\": {\"xaxis\": {\"backgroundcolor\": \"#E5ECF6\", \"gridcolor\": \"white\", \"gridwidth\": 2, \"linecolor\": \"white\", \"showbackground\": true, \"ticks\": \"\", \"zerolinecolor\": \"white\"}, \"yaxis\": {\"backgroundcolor\": \"#E5ECF6\", \"gridcolor\": \"white\", \"gridwidth\": 2, \"linecolor\": \"white\", \"showbackground\": true, \"ticks\": \"\", \"zerolinecolor\": \"white\"}, \"zaxis\": {\"backgroundcolor\": \"#E5ECF6\", \"gridcolor\": \"white\", \"gridwidth\": 2, \"linecolor\": \"white\", \"showbackground\": true, \"ticks\": \"\", \"zerolinecolor\": \"white\"}}, \"shapedefaults\": {\"line\": {\"color\": \"#2a3f5f\"}}, \"ternary\": {\"aaxis\": {\"gridcolor\": \"white\", \"linecolor\": \"white\", \"ticks\": \"\"}, \"baxis\": {\"gridcolor\": \"white\", \"linecolor\": \"white\", \"ticks\": \"\"}, \"bgcolor\": \"#E5ECF6\", \"caxis\": {\"gridcolor\": \"white\", \"linecolor\": \"white\", \"ticks\": \"\"}}, \"title\": {\"x\": 0.05}, \"xaxis\": {\"automargin\": true, \"gridcolor\": \"white\", \"linecolor\": \"white\", \"ticks\": \"\", \"title\": {\"standoff\": 15}, \"zerolinecolor\": \"white\", \"zerolinewidth\": 2}, \"yaxis\": {\"automargin\": true, \"gridcolor\": \"white\", \"linecolor\": \"white\", \"ticks\": \"\", \"title\": {\"standoff\": 15}, \"zerolinecolor\": \"white\", \"zerolinewidth\": 2}}}, \"title\": {\"text\": \"Optimization History Plot\"}, \"xaxis\": {\"title\": {\"text\": \"#Trials\"}}, \"yaxis\": {\"title\": {\"text\": \"Objective Value\"}}},\n",
              "                        {\"responsive\": true}\n",
              "                    ).then(function(){\n",
              "                            \n",
              "var gd = document.getElementById('0af55bf1-000f-4f56-a518-a6dd71c14376');\n",
              "var x = new MutationObserver(function (mutations, observer) {{\n",
              "        var display = window.getComputedStyle(gd).display;\n",
              "        if (!display || display === 'none') {{\n",
              "            console.log([gd, 'removed!']);\n",
              "            Plotly.purge(gd);\n",
              "            observer.disconnect();\n",
              "        }}\n",
              "}});\n",
              "\n",
              "// Listen for the removal of the full notebook cells\n",
              "var notebookContainer = gd.closest('#notebook-container');\n",
              "if (notebookContainer) {{\n",
              "    x.observe(notebookContainer, {childList: true});\n",
              "}}\n",
              "\n",
              "// Listen for the clearing of the current output cell\n",
              "var outputEl = gd.closest('.output');\n",
              "if (outputEl) {{\n",
              "    x.observe(outputEl, {childList: true});\n",
              "}}\n",
              "\n",
              "                        })\n",
              "                };\n",
              "                \n",
              "            </script>\n",
              "        </div>\n",
              "</body>\n",
              "</html>"
            ]
          },
          "metadata": {
            "tags": []
          }
        }
      ]
    },
    {
      "cell_type": "markdown",
      "metadata": {
        "id": "WJuMYAAlnkoN"
      },
      "source": [
        "plot_parallel_coordinate: interactively visualizes the hyperparameters and scores\n"
      ]
    },
    {
      "cell_type": "code",
      "metadata": {
        "colab": {
          "base_uri": "https://localhost:8080/",
          "height": 542
        },
        "id": "GzZGHNJ43kev",
        "outputId": "fd12f7b6-3901-40d0-c5c2-6c657e5d32f3"
      },
      "source": [
        "optuna.visualization.plot_parallel_coordinate(study)"
      ],
      "execution_count": null,
      "outputs": [
        {
          "output_type": "display_data",
          "data": {
            "text/html": [
              "<html>\n",
              "<head><meta charset=\"utf-8\" /></head>\n",
              "<body>\n",
              "    <div>\n",
              "            <script src=\"https://cdnjs.cloudflare.com/ajax/libs/mathjax/2.7.5/MathJax.js?config=TeX-AMS-MML_SVG\"></script><script type=\"text/javascript\">if (window.MathJax) {MathJax.Hub.Config({SVG: {font: \"STIX-Web\"}});}</script>\n",
              "                <script type=\"text/javascript\">window.PlotlyConfig = {MathJaxConfig: 'local'};</script>\n",
              "        <script src=\"https://cdn.plot.ly/plotly-latest.min.js\"></script>    \n",
              "            <div id=\"38f3bdd9-59f2-4a69-b734-3b930c205a92\" class=\"plotly-graph-div\" style=\"height:525px; width:100%;\"></div>\n",
              "            <script type=\"text/javascript\">\n",
              "                \n",
              "                    window.PLOTLYENV=window.PLOTLYENV || {};\n",
              "                    \n",
              "                if (document.getElementById(\"38f3bdd9-59f2-4a69-b734-3b930c205a92\")) {\n",
              "                    Plotly.newPlot(\n",
              "                        '38f3bdd9-59f2-4a69-b734-3b930c205a92',\n",
              "                        [{\"dimensions\": [{\"label\": \"Objective Value\", \"range\": [0.9349120024842033, 0.9664961781588531], \"values\": [0.9614490168531203, 0.96370909267955, 0.9663443798690221, 0.9659511091468089, 0.9659325248764232, 0.9655972055590062, 0.9349120024842033, 0.9430147359254457, 0.9633637626415875, 0.9652223224163096, 0.9661774617228225, 0.9660047912737255, 0.9654791512167799, 0.9646930333214024, 0.9657240892698717, 0.9641639083366684, 0.9664961781588531, 0.9656477756261004, 0.9661479134448582, 0.9654636560790603, 0.9634307014917336, 0.966360010156296, 0.9661228311356425, 0.9658870820455391, 0.960692411034934, 0.9661802371154521, 0.9663990659640549, 0.9659814067807833, 0.9657993844652173, 0.9632682107001242, 0.9638549962767746, 0.9662165573514324, 0.965805495155772, 0.9658125989542109, 0.9660552117109559, 0.9652533525125997, 0.9653301078058069, 0.9411099055288206, 0.9662987439673464, 0.965898889531139, 0.9651608836703399, 0.9658953671958843, 0.9581546016680716, 0.9660153884468001, 0.9582815119261712, 0.9640948903554354, 0.9657404290923046, 0.9660348729097518, 0.9660819761494438, 0.9650435738573538]}, {\"label\": \"alpha\", \"range\": [-2.992182103656343, 0.9492713819912579], \"ticktext\": [\"0.00102\", \"0.01\", \"0.1\", \"1\", \"8.9\"], \"tickvals\": [-2.992182103656343, -2, -1, 0, 0.9492713819912579], \"values\": [-1.3726507385448448, -2.350334872119949, -1.4305970856803267, -0.791284615134623, -2.0143969307537026, 0.07041088922872989, 0.13144351367915208, 0.005829099702585623, -0.759632071129243, -0.8110421477935468, 0.9320804087215235, 0.9324559495656068, -2.980330879205356, -1.5798854352852345, 0.9492713819912579, -2.656267909718791, -1.6615407811072642, -1.7467921475124424, -1.2443964791593298, -2.099832240256604, -0.42513042049369265, -1.2676979296069881, -1.1957854681723605, -1.7103129785983189, -0.45628249711920055, -1.9836585901646744, -2.435549520693923, -2.65102095319045, -2.586513044003322, -2.992182103656343, -2.2483555934848276, -1.4427642238844305, -1.176659554242586, -1.8349942056515878, -1.4481094303422, -0.9432570028453255, -2.417370691496106, -0.5928163723944266, -1.015633670570042, -1.9016754976239458, -2.19689516849571, -1.0181684666225694, -1.586843239800507, -1.033373326377496, -0.1521287309828047, -1.3374098367820197, -0.7705761159601504, -1.5468037725390673, -0.9262700824086083, -0.6161182676524992]}, {\"label\": \"colsample_bytree\", \"range\": [0, 7], \"ticktext\": [1.0, 0.9, 0.4, 0.6, 0.8, 0.3, 0.5, 0.7], \"tickvals\": [0, 1, 2, 3, 4, 5, 6, 7], \"values\": [0, 1, 2, 3, 4, 0, 1, 2, 3, 5, 2, 2, 6, 7, 2, 2, 2, 7, 5, 6, 4, 2, 2, 2, 2, 2, 2, 2, 2, 0, 1, 2, 2, 3, 2, 4, 0, 1, 2, 5, 3, 2, 2, 2, 2, 6, 7, 2, 2, 2]}, {\"label\": \"lambda\", \"range\": [-2.846482768955012, 0.9077461244002668], \"ticktext\": [\"0.00142\", \"0.01\", \"0.1\", \"1\", \"8.09\"], \"tickvals\": [-2.846482768955012, -2, -1, 0, 0.9077461244002668], \"values\": [-0.1792285750957787, 0.9077461244002668, -1.1578362224177403, -0.756887497476292, -1.7745568262872067, -1.6875997583406595, -0.3688763687218192, 0.4072704289742239, -1.728413981278211, -1.6701764004128772, -2.790462837687369, -2.846482768955012, -2.6866684783110237, -2.409223359357447, -1.1180998282132304, -2.262231174715794, -1.0815668148579405, -1.1325405535914004, -0.6876366476026281, 0.26229209676133974, -1.2265769893313414, -2.1101223103954467, -2.176968231809612, -1.4230904458337366, -0.656578825635071, -2.067843213198243, -1.4218629131543716, -1.924921845020061, -1.4855736418728933, -2.5503479677634893, -0.27377059974754075, -0.8977615969365689, -1.4020085220879437, -0.486377215658643, -0.9170844166086892, -1.282738078055229, -0.08088662869328339, -1.9756604311843544, -1.6214614349527454, -1.8617874821068776, -0.918746902305429, -1.632414375806439, -1.5220890176522663, -1.7688490720381647, -1.3022019435416685, -1.001631128508566, -1.5874894501989694, -2.374647417902137, -1.0954684928516518, -2.1399351872358614]}, {\"label\": \"learning_rate\", \"range\": [0, 7], \"ticktext\": [0.01, 0.014, 0.016, 0.018, 0.02, 0.009, 0.012, 0.008], \"tickvals\": [0, 1, 2, 3, 4, 5, 6, 7], \"values\": [0, 0, 1, 2, 3, 4, 5, 2, 1, 2, 6, 6, 7, 6, 1, 1, 6, 3, 4, 5, 7, 6, 6, 6, 6, 1, 6, 6, 6, 0, 6, 1, 6, 0, 6, 3, 4, 5, 1, 2, 6, 1, 1, 1, 7, 1, 6, 2, 1, 3]}, {\"label\": \"max_depth\", \"range\": [0, 7], \"ticktext\": [7, 11, 15, 13, 17, 5, 20, 9], \"tickvals\": [0, 1, 2, 3, 4, 5, 6, 7], \"values\": [0, 1, 2, 3, 4, 0, 5, 5, 6, 6, 2, 2, 2, 7, 2, 2, 2, 1, 4, 3, 7, 2, 2, 2, 2, 2, 2, 2, 7, 0, 2, 2, 1, 2, 3, 4, 0, 5, 2, 2, 1, 2, 6, 2, 2, 5, 2, 2, 6, 2]}, {\"label\": \"min_child_weight\", \"range\": [1, 298], \"values\": [253, 81, 44, 66, 30, 44, 78, 208, 220, 117, 7, 4, 6, 144, 4, 116, 44, 166, 49, 109, 180, 24, 28, 92, 298, 56, 28, 25, 23, 99, 129, 67, 42, 76, 58, 37, 16, 81, 41, 65, 93, 42, 19, 38, 14, 1, 51, 67, 32, 252]}, {\"label\": \"random_state\", \"range\": [0, 2], \"ticktext\": [48, 24, 2020], \"tickvals\": [0, 1, 2], \"values\": [0, 1, 0, 0, 2, 2, 2, 2, 0, 0, 1, 1, 1, 1, 0, 1, 0, 0, 0, 0, 0, 1, 0, 1, 0, 0, 1, 1, 1, 1, 1, 1, 0, 1, 0, 1, 2, 0, 2, 0, 1, 2, 2, 2, 2, 2, 2, 1, 0, 2]}, {\"label\": \"subsample\", \"range\": [0, 5], \"ticktext\": [0.5, 0.4, 1.0, 0.7, 0.6, 0.8], \"tickvals\": [0, 1, 2, 3, 4, 5], \"values\": [0, 1, 2, 2, 3, 2, 4, 3, 0, 4, 5, 5, 5, 5, 2, 1, 2, 2, 2, 2, 2, 5, 5, 2, 1, 5, 2, 0, 4, 3, 2, 2, 2, 2, 2, 0, 1, 2, 3, 2, 4, 3, 3, 3, 3, 5, 3, 5, 0, 2]}], \"labelangle\": 30, \"labelside\": \"bottom\", \"line\": {\"color\": [0.9614490168531203, 0.96370909267955, 0.9663443798690221, 0.9659511091468089, 0.9659325248764232, 0.9655972055590062, 0.9349120024842033, 0.9430147359254457, 0.9633637626415875, 0.9652223224163096, 0.9661774617228225, 0.9660047912737255, 0.9654791512167799, 0.9646930333214024, 0.9657240892698717, 0.9641639083366684, 0.9664961781588531, 0.9656477756261004, 0.9661479134448582, 0.9654636560790603, 0.9634307014917336, 0.966360010156296, 0.9661228311356425, 0.9658870820455391, 0.960692411034934, 0.9661802371154521, 0.9663990659640549, 0.9659814067807833, 0.9657993844652173, 0.9632682107001242, 0.9638549962767746, 0.9662165573514324, 0.965805495155772, 0.9658125989542109, 0.9660552117109559, 0.9652533525125997, 0.9653301078058069, 0.9411099055288206, 0.9662987439673464, 0.965898889531139, 0.9651608836703399, 0.9658953671958843, 0.9581546016680716, 0.9660153884468001, 0.9582815119261712, 0.9640948903554354, 0.9657404290923046, 0.9660348729097518, 0.9660819761494438, 0.9650435738573538], \"colorbar\": {\"title\": {\"text\": \"Objective Value\"}}, \"colorscale\": [[0.0, \"rgb(247,251,255)\"], [0.125, \"rgb(222,235,247)\"], [0.25, \"rgb(198,219,239)\"], [0.375, \"rgb(158,202,225)\"], [0.5, \"rgb(107,174,214)\"], [0.625, \"rgb(66,146,198)\"], [0.75, \"rgb(33,113,181)\"], [0.875, \"rgb(8,81,156)\"], [1.0, \"rgb(8,48,107)\"]], \"reversescale\": false, \"showscale\": true}, \"type\": \"parcoords\"}],\n",
              "                        {\"template\": {\"data\": {\"bar\": [{\"error_x\": {\"color\": \"#2a3f5f\"}, \"error_y\": {\"color\": \"#2a3f5f\"}, \"marker\": {\"line\": {\"color\": \"#E5ECF6\", \"width\": 0.5}}, \"type\": \"bar\"}], \"barpolar\": [{\"marker\": {\"line\": {\"color\": \"#E5ECF6\", \"width\": 0.5}}, \"type\": \"barpolar\"}], \"carpet\": [{\"aaxis\": {\"endlinecolor\": \"#2a3f5f\", \"gridcolor\": \"white\", \"linecolor\": \"white\", \"minorgridcolor\": \"white\", \"startlinecolor\": \"#2a3f5f\"}, \"baxis\": {\"endlinecolor\": \"#2a3f5f\", \"gridcolor\": \"white\", \"linecolor\": \"white\", \"minorgridcolor\": \"white\", \"startlinecolor\": \"#2a3f5f\"}, \"type\": \"carpet\"}], \"choropleth\": [{\"colorbar\": {\"outlinewidth\": 0, \"ticks\": \"\"}, \"type\": \"choropleth\"}], \"contour\": [{\"colorbar\": {\"outlinewidth\": 0, \"ticks\": \"\"}, \"colorscale\": [[0.0, \"#0d0887\"], [0.1111111111111111, \"#46039f\"], [0.2222222222222222, \"#7201a8\"], [0.3333333333333333, \"#9c179e\"], [0.4444444444444444, \"#bd3786\"], [0.5555555555555556, \"#d8576b\"], [0.6666666666666666, \"#ed7953\"], [0.7777777777777778, \"#fb9f3a\"], [0.8888888888888888, \"#fdca26\"], [1.0, \"#f0f921\"]], \"type\": \"contour\"}], \"contourcarpet\": [{\"colorbar\": {\"outlinewidth\": 0, \"ticks\": \"\"}, \"type\": \"contourcarpet\"}], \"heatmap\": [{\"colorbar\": {\"outlinewidth\": 0, \"ticks\": \"\"}, \"colorscale\": [[0.0, \"#0d0887\"], [0.1111111111111111, \"#46039f\"], [0.2222222222222222, \"#7201a8\"], [0.3333333333333333, \"#9c179e\"], [0.4444444444444444, \"#bd3786\"], [0.5555555555555556, \"#d8576b\"], [0.6666666666666666, \"#ed7953\"], [0.7777777777777778, \"#fb9f3a\"], [0.8888888888888888, \"#fdca26\"], [1.0, \"#f0f921\"]], \"type\": \"heatmap\"}], \"heatmapgl\": [{\"colorbar\": {\"outlinewidth\": 0, \"ticks\": \"\"}, \"colorscale\": [[0.0, \"#0d0887\"], [0.1111111111111111, \"#46039f\"], [0.2222222222222222, \"#7201a8\"], [0.3333333333333333, \"#9c179e\"], [0.4444444444444444, \"#bd3786\"], [0.5555555555555556, \"#d8576b\"], [0.6666666666666666, \"#ed7953\"], [0.7777777777777778, \"#fb9f3a\"], [0.8888888888888888, \"#fdca26\"], [1.0, \"#f0f921\"]], \"type\": \"heatmapgl\"}], \"histogram\": [{\"marker\": {\"colorbar\": {\"outlinewidth\": 0, \"ticks\": \"\"}}, \"type\": \"histogram\"}], \"histogram2d\": [{\"colorbar\": {\"outlinewidth\": 0, \"ticks\": \"\"}, \"colorscale\": [[0.0, \"#0d0887\"], [0.1111111111111111, \"#46039f\"], [0.2222222222222222, \"#7201a8\"], [0.3333333333333333, \"#9c179e\"], [0.4444444444444444, \"#bd3786\"], [0.5555555555555556, \"#d8576b\"], [0.6666666666666666, \"#ed7953\"], [0.7777777777777778, \"#fb9f3a\"], [0.8888888888888888, \"#fdca26\"], [1.0, \"#f0f921\"]], \"type\": \"histogram2d\"}], \"histogram2dcontour\": [{\"colorbar\": {\"outlinewidth\": 0, \"ticks\": \"\"}, \"colorscale\": [[0.0, \"#0d0887\"], [0.1111111111111111, \"#46039f\"], [0.2222222222222222, \"#7201a8\"], [0.3333333333333333, \"#9c179e\"], [0.4444444444444444, \"#bd3786\"], [0.5555555555555556, \"#d8576b\"], [0.6666666666666666, \"#ed7953\"], [0.7777777777777778, \"#fb9f3a\"], [0.8888888888888888, \"#fdca26\"], [1.0, \"#f0f921\"]], \"type\": \"histogram2dcontour\"}], \"mesh3d\": [{\"colorbar\": {\"outlinewidth\": 0, \"ticks\": \"\"}, \"type\": \"mesh3d\"}], \"parcoords\": [{\"line\": {\"colorbar\": {\"outlinewidth\": 0, \"ticks\": \"\"}}, \"type\": \"parcoords\"}], \"pie\": [{\"automargin\": true, \"type\": \"pie\"}], \"scatter\": [{\"marker\": {\"colorbar\": {\"outlinewidth\": 0, \"ticks\": \"\"}}, \"type\": \"scatter\"}], \"scatter3d\": [{\"line\": {\"colorbar\": {\"outlinewidth\": 0, \"ticks\": \"\"}}, \"marker\": {\"colorbar\": {\"outlinewidth\": 0, \"ticks\": \"\"}}, \"type\": \"scatter3d\"}], \"scattercarpet\": [{\"marker\": {\"colorbar\": {\"outlinewidth\": 0, \"ticks\": \"\"}}, \"type\": \"scattercarpet\"}], \"scattergeo\": [{\"marker\": {\"colorbar\": {\"outlinewidth\": 0, \"ticks\": \"\"}}, \"type\": \"scattergeo\"}], \"scattergl\": [{\"marker\": {\"colorbar\": {\"outlinewidth\": 0, \"ticks\": \"\"}}, \"type\": \"scattergl\"}], \"scattermapbox\": [{\"marker\": {\"colorbar\": {\"outlinewidth\": 0, \"ticks\": \"\"}}, \"type\": \"scattermapbox\"}], \"scatterpolar\": [{\"marker\": {\"colorbar\": {\"outlinewidth\": 0, \"ticks\": \"\"}}, \"type\": \"scatterpolar\"}], \"scatterpolargl\": [{\"marker\": {\"colorbar\": {\"outlinewidth\": 0, \"ticks\": \"\"}}, \"type\": \"scatterpolargl\"}], \"scatterternary\": [{\"marker\": {\"colorbar\": {\"outlinewidth\": 0, \"ticks\": \"\"}}, \"type\": \"scatterternary\"}], \"surface\": [{\"colorbar\": {\"outlinewidth\": 0, \"ticks\": \"\"}, \"colorscale\": [[0.0, \"#0d0887\"], [0.1111111111111111, \"#46039f\"], [0.2222222222222222, \"#7201a8\"], [0.3333333333333333, \"#9c179e\"], [0.4444444444444444, \"#bd3786\"], [0.5555555555555556, \"#d8576b\"], [0.6666666666666666, \"#ed7953\"], [0.7777777777777778, \"#fb9f3a\"], [0.8888888888888888, \"#fdca26\"], [1.0, \"#f0f921\"]], \"type\": \"surface\"}], \"table\": [{\"cells\": {\"fill\": {\"color\": \"#EBF0F8\"}, \"line\": {\"color\": \"white\"}}, \"header\": {\"fill\": {\"color\": \"#C8D4E3\"}, \"line\": {\"color\": \"white\"}}, \"type\": \"table\"}]}, \"layout\": {\"annotationdefaults\": {\"arrowcolor\": \"#2a3f5f\", \"arrowhead\": 0, \"arrowwidth\": 1}, \"coloraxis\": {\"colorbar\": {\"outlinewidth\": 0, \"ticks\": \"\"}}, \"colorscale\": {\"diverging\": [[0, \"#8e0152\"], [0.1, \"#c51b7d\"], [0.2, \"#de77ae\"], [0.3, \"#f1b6da\"], [0.4, \"#fde0ef\"], [0.5, \"#f7f7f7\"], [0.6, \"#e6f5d0\"], [0.7, \"#b8e186\"], [0.8, \"#7fbc41\"], [0.9, \"#4d9221\"], [1, \"#276419\"]], \"sequential\": [[0.0, \"#0d0887\"], [0.1111111111111111, \"#46039f\"], [0.2222222222222222, \"#7201a8\"], [0.3333333333333333, \"#9c179e\"], [0.4444444444444444, \"#bd3786\"], [0.5555555555555556, \"#d8576b\"], [0.6666666666666666, \"#ed7953\"], [0.7777777777777778, \"#fb9f3a\"], [0.8888888888888888, \"#fdca26\"], [1.0, \"#f0f921\"]], \"sequentialminus\": [[0.0, \"#0d0887\"], [0.1111111111111111, \"#46039f\"], [0.2222222222222222, \"#7201a8\"], [0.3333333333333333, \"#9c179e\"], [0.4444444444444444, \"#bd3786\"], [0.5555555555555556, \"#d8576b\"], [0.6666666666666666, \"#ed7953\"], [0.7777777777777778, \"#fb9f3a\"], [0.8888888888888888, \"#fdca26\"], [1.0, \"#f0f921\"]]}, \"colorway\": [\"#636efa\", \"#EF553B\", \"#00cc96\", \"#ab63fa\", \"#FFA15A\", \"#19d3f3\", \"#FF6692\", \"#B6E880\", \"#FF97FF\", \"#FECB52\"], \"font\": {\"color\": \"#2a3f5f\"}, \"geo\": {\"bgcolor\": \"white\", \"lakecolor\": \"white\", \"landcolor\": \"#E5ECF6\", \"showlakes\": true, \"showland\": true, \"subunitcolor\": \"white\"}, \"hoverlabel\": {\"align\": \"left\"}, \"hovermode\": \"closest\", \"mapbox\": {\"style\": \"light\"}, \"paper_bgcolor\": \"white\", \"plot_bgcolor\": \"#E5ECF6\", \"polar\": {\"angularaxis\": {\"gridcolor\": \"white\", \"linecolor\": \"white\", \"ticks\": \"\"}, \"bgcolor\": \"#E5ECF6\", \"radialaxis\": {\"gridcolor\": \"white\", \"linecolor\": \"white\", \"ticks\": \"\"}}, \"scene\": {\"xaxis\": {\"backgroundcolor\": \"#E5ECF6\", \"gridcolor\": \"white\", \"gridwidth\": 2, \"linecolor\": \"white\", \"showbackground\": true, \"ticks\": \"\", \"zerolinecolor\": \"white\"}, \"yaxis\": {\"backgroundcolor\": \"#E5ECF6\", \"gridcolor\": \"white\", \"gridwidth\": 2, \"linecolor\": \"white\", \"showbackground\": true, \"ticks\": \"\", \"zerolinecolor\": \"white\"}, \"zaxis\": {\"backgroundcolor\": \"#E5ECF6\", \"gridcolor\": \"white\", \"gridwidth\": 2, \"linecolor\": \"white\", \"showbackground\": true, \"ticks\": \"\", \"zerolinecolor\": \"white\"}}, \"shapedefaults\": {\"line\": {\"color\": \"#2a3f5f\"}}, \"ternary\": {\"aaxis\": {\"gridcolor\": \"white\", \"linecolor\": \"white\", \"ticks\": \"\"}, \"baxis\": {\"gridcolor\": \"white\", \"linecolor\": \"white\", \"ticks\": \"\"}, \"bgcolor\": \"#E5ECF6\", \"caxis\": {\"gridcolor\": \"white\", \"linecolor\": \"white\", \"ticks\": \"\"}}, \"title\": {\"x\": 0.05}, \"xaxis\": {\"automargin\": true, \"gridcolor\": \"white\", \"linecolor\": \"white\", \"ticks\": \"\", \"title\": {\"standoff\": 15}, \"zerolinecolor\": \"white\", \"zerolinewidth\": 2}, \"yaxis\": {\"automargin\": true, \"gridcolor\": \"white\", \"linecolor\": \"white\", \"ticks\": \"\", \"title\": {\"standoff\": 15}, \"zerolinecolor\": \"white\", \"zerolinewidth\": 2}}}, \"title\": {\"text\": \"Parallel Coordinate Plot\"}},\n",
              "                        {\"responsive\": true}\n",
              "                    ).then(function(){\n",
              "                            \n",
              "var gd = document.getElementById('38f3bdd9-59f2-4a69-b734-3b930c205a92');\n",
              "var x = new MutationObserver(function (mutations, observer) {{\n",
              "        var display = window.getComputedStyle(gd).display;\n",
              "        if (!display || display === 'none') {{\n",
              "            console.log([gd, 'removed!']);\n",
              "            Plotly.purge(gd);\n",
              "            observer.disconnect();\n",
              "        }}\n",
              "}});\n",
              "\n",
              "// Listen for the removal of the full notebook cells\n",
              "var notebookContainer = gd.closest('#notebook-container');\n",
              "if (notebookContainer) {{\n",
              "    x.observe(notebookContainer, {childList: true});\n",
              "}}\n",
              "\n",
              "// Listen for the clearing of the current output cell\n",
              "var outputEl = gd.closest('.output');\n",
              "if (outputEl) {{\n",
              "    x.observe(outputEl, {childList: true});\n",
              "}}\n",
              "\n",
              "                        })\n",
              "                };\n",
              "                \n",
              "            </script>\n",
              "        </div>\n",
              "</body>\n",
              "</html>"
            ]
          },
          "metadata": {
            "tags": []
          }
        }
      ]
    },
    {
      "cell_type": "markdown",
      "metadata": {
        "id": "Ft1vq2NAnmi_"
      },
      "source": [
        "plot_slice: shows the evolution of the search. You can see where in the hyperparameter space your search went and which parts of the space were explored more.\n"
      ]
    },
    {
      "cell_type": "code",
      "metadata": {
        "colab": {
          "base_uri": "https://localhost:8080/",
          "height": 562
        },
        "id": "aAW5lPiu3l4N",
        "outputId": "a420dd8b-e981-4668-e3f6-d10b375bcad8"
      },
      "source": [
        "optuna.visualization.plot_slice(study)"
      ],
      "execution_count": null,
      "outputs": [
        {
          "output_type": "display_data",
          "data": {
            "text/html": [
              "<html>\n",
              "<head><meta charset=\"utf-8\" /></head>\n",
              "<body>\n",
              "    <div>\n",
              "            <script src=\"https://cdnjs.cloudflare.com/ajax/libs/mathjax/2.7.5/MathJax.js?config=TeX-AMS-MML_SVG\"></script><script type=\"text/javascript\">if (window.MathJax) {MathJax.Hub.Config({SVG: {font: \"STIX-Web\"}});}</script>\n",
              "                <script type=\"text/javascript\">window.PlotlyConfig = {MathJaxConfig: 'local'};</script>\n",
              "        <script src=\"https://cdn.plot.ly/plotly-latest.min.js\"></script>    \n",
              "            <div id=\"d9749a9d-b170-4061-937a-eb04df906bd5\" class=\"plotly-graph-div\" style=\"height:525px; width:2400px;\"></div>\n",
              "            <script type=\"text/javascript\">\n",
              "                \n",
              "                    window.PLOTLYENV=window.PLOTLYENV || {};\n",
              "                    \n",
              "                if (document.getElementById(\"d9749a9d-b170-4061-937a-eb04df906bd5\")) {\n",
              "                    Plotly.newPlot(\n",
              "                        'd9749a9d-b170-4061-937a-eb04df906bd5',\n",
              "                        [{\"marker\": {\"color\": [0, 1, 2, 3, 4, 5, 6, 7, 8, 9, 10, 11, 12, 13, 14, 15, 16, 17, 18, 19, 20, 21, 22, 23, 24, 25, 26, 27, 28, 29, 30, 31, 32, 33, 34, 35, 36, 37, 38, 39, 40, 41, 42, 43, 44, 45, 46, 47, 48, 49], \"colorbar\": {\"title\": {\"text\": \"#Trials\"}, \"x\": 1.0, \"xpad\": 40}, \"colorscale\": [[0.0, \"rgb(247,251,255)\"], [0.125, \"rgb(222,235,247)\"], [0.25, \"rgb(198,219,239)\"], [0.375, \"rgb(158,202,225)\"], [0.5, \"rgb(107,174,214)\"], [0.625, \"rgb(66,146,198)\"], [0.75, \"rgb(33,113,181)\"], [0.875, \"rgb(8,81,156)\"], [1.0, \"rgb(8,48,107)\"]], \"line\": {\"color\": \"Grey\", \"width\": 0.5}, \"showscale\": true}, \"mode\": \"markers\", \"showlegend\": false, \"type\": \"scatter\", \"x\": [0.04239837985417904, 0.004463392998945948, 0.03710247783593982, 0.16170199753683476, 0.00967393286707375, 1.1760096602282823, 1.353454042817887, 1.013512477448444, 0.17392736957556704, 0.15451044816007484, 8.552250413676935, 8.559648869065919, 0.0010463310681730537, 0.02630961934977218, 8.897569356075648, 0.002206643068223733, 0.021800136799959794, 0.017914630395936607, 0.05696439914463783, 0.0079463512796583, 0.37572455565093704, 0.053988600576792355, 0.06371101614572536, 0.019484399312365754, 0.3497176109339869, 0.010383443637253126, 0.00366817865425139, 0.0022334644633789213, 0.002591116596186556, 0.0010181643728821939, 0.005644746026283066, 0.03607744523557369, 0.06657948718332439, 0.014621966829258828, 0.0356361328795397, 0.11395752205090479, 0.0038249812316278288, 0.2553780859410673, 0.0964642360899176, 0.01254077864827821, 0.006354843087402957, 0.09590285438044613, 0.025891473088036694, 0.0926033448201442, 0.7044842190007566, 0.04598224416610351, 0.16959923307006608, 0.028392015763314685, 0.11850315623816536, 0.24203698386397063], \"xaxis\": \"x\", \"y\": [0.9614490168531203, 0.96370909267955, 0.9663443798690221, 0.9659511091468089, 0.9659325248764232, 0.9655972055590062, 0.9349120024842033, 0.9430147359254457, 0.9633637626415875, 0.9652223224163096, 0.9661774617228225, 0.9660047912737255, 0.9654791512167799, 0.9646930333214024, 0.9657240892698717, 0.9641639083366684, 0.9664961781588531, 0.9656477756261004, 0.9661479134448582, 0.9654636560790603, 0.9634307014917336, 0.966360010156296, 0.9661228311356425, 0.9658870820455391, 0.960692411034934, 0.9661802371154521, 0.9663990659640549, 0.9659814067807833, 0.9657993844652173, 0.9632682107001242, 0.9638549962767746, 0.9662165573514324, 0.965805495155772, 0.9658125989542109, 0.9660552117109559, 0.9652533525125997, 0.9653301078058069, 0.9411099055288206, 0.9662987439673464, 0.965898889531139, 0.9651608836703399, 0.9658953671958843, 0.9581546016680716, 0.9660153884468001, 0.9582815119261712, 0.9640948903554354, 0.9657404290923046, 0.9660348729097518, 0.9660819761494438, 0.9650435738573538], \"yaxis\": \"y\"}, {\"marker\": {\"color\": [0, 1, 2, 3, 4, 5, 6, 7, 8, 9, 10, 11, 12, 13, 14, 15, 16, 17, 18, 19, 20, 21, 22, 23, 24, 25, 26, 27, 28, 29, 30, 31, 32, 33, 34, 35, 36, 37, 38, 39, 40, 41, 42, 43, 44, 45, 46, 47, 48, 49], \"colorbar\": {\"title\": {\"text\": \"#Trials\"}, \"x\": 1.0, \"xpad\": 40}, \"colorscale\": [[0.0, \"rgb(247,251,255)\"], [0.125, \"rgb(222,235,247)\"], [0.25, \"rgb(198,219,239)\"], [0.375, \"rgb(158,202,225)\"], [0.5, \"rgb(107,174,214)\"], [0.625, \"rgb(66,146,198)\"], [0.75, \"rgb(33,113,181)\"], [0.875, \"rgb(8,81,156)\"], [1.0, \"rgb(8,48,107)\"]], \"line\": {\"color\": \"Grey\", \"width\": 0.5}, \"showscale\": false}, \"mode\": \"markers\", \"showlegend\": false, \"type\": \"scatter\", \"x\": [1.0, 0.9, 0.4, 0.6, 0.8, 1.0, 0.9, 0.4, 0.6, 0.3, 0.4, 0.4, 0.5, 0.7, 0.4, 0.4, 0.4, 0.7, 0.3, 0.5, 0.8, 0.4, 0.4, 0.4, 0.4, 0.4, 0.4, 0.4, 0.4, 1.0, 0.9, 0.4, 0.4, 0.6, 0.4, 0.8, 1.0, 0.9, 0.4, 0.3, 0.6, 0.4, 0.4, 0.4, 0.4, 0.5, 0.7, 0.4, 0.4, 0.4], \"xaxis\": \"x2\", \"y\": [0.9614490168531203, 0.96370909267955, 0.9663443798690221, 0.9659511091468089, 0.9659325248764232, 0.9655972055590062, 0.9349120024842033, 0.9430147359254457, 0.9633637626415875, 0.9652223224163096, 0.9661774617228225, 0.9660047912737255, 0.9654791512167799, 0.9646930333214024, 0.9657240892698717, 0.9641639083366684, 0.9664961781588531, 0.9656477756261004, 0.9661479134448582, 0.9654636560790603, 0.9634307014917336, 0.966360010156296, 0.9661228311356425, 0.9658870820455391, 0.960692411034934, 0.9661802371154521, 0.9663990659640549, 0.9659814067807833, 0.9657993844652173, 0.9632682107001242, 0.9638549962767746, 0.9662165573514324, 0.965805495155772, 0.9658125989542109, 0.9660552117109559, 0.9652533525125997, 0.9653301078058069, 0.9411099055288206, 0.9662987439673464, 0.965898889531139, 0.9651608836703399, 0.9658953671958843, 0.9581546016680716, 0.9660153884468001, 0.9582815119261712, 0.9640948903554354, 0.9657404290923046, 0.9660348729097518, 0.9660819761494438, 0.9650435738573538], \"yaxis\": \"y2\"}, {\"marker\": {\"color\": [0, 1, 2, 3, 4, 5, 6, 7, 8, 9, 10, 11, 12, 13, 14, 15, 16, 17, 18, 19, 20, 21, 22, 23, 24, 25, 26, 27, 28, 29, 30, 31, 32, 33, 34, 35, 36, 37, 38, 39, 40, 41, 42, 43, 44, 45, 46, 47, 48, 49], \"colorbar\": {\"title\": {\"text\": \"#Trials\"}, \"x\": 1.0, \"xpad\": 40}, \"colorscale\": [[0.0, \"rgb(247,251,255)\"], [0.125, \"rgb(222,235,247)\"], [0.25, \"rgb(198,219,239)\"], [0.375, \"rgb(158,202,225)\"], [0.5, \"rgb(107,174,214)\"], [0.625, \"rgb(66,146,198)\"], [0.75, \"rgb(33,113,181)\"], [0.875, \"rgb(8,81,156)\"], [1.0, \"rgb(8,48,107)\"]], \"line\": {\"color\": \"Grey\", \"width\": 0.5}, \"showscale\": false}, \"mode\": \"markers\", \"showlegend\": false, \"type\": \"scatter\", \"x\": [0.6618680618471974, 8.086230640660201, 0.06952864689008562, 0.1750300039236326, 0.01680518019972616, 0.020530533816826284, 0.42768461846209, 2.5542913283137563, 0.018688998050368725, 0.02137093874894116, 0.001620082617449181, 0.0014240237450165209, 0.002057460573404571, 0.0038974148954420747, 0.07619038564231667, 0.005467248640780835, 0.08287684030183871, 0.0736986353742997, 0.20528790013698178, 1.8293301690601609, 0.05935031259030531, 0.007760285328621599, 0.006653218220222155, 0.03774935662196809, 0.22050638749514634, 0.008553754604813191, 0.03785620605363892, 0.011887161277513221, 0.03269086093271246, 0.0028161256757211007, 0.5323894003316153, 0.1265430806657861, 0.03962702582341804, 0.3263042905584334, 0.12103628446814962, 0.05215091371717967, 0.8300674259125883, 0.010576441432516159, 0.023907742250035224, 0.013747145139813862, 0.12057384146600342, 0.023312326888009435, 0.03005460208149567, 0.017027501529365368, 0.0498652563995772, 0.09962512320523084, 0.02585297640370347, 0.004220389968619446, 0.08026597900346424, 0.007245440807228051], \"xaxis\": \"x3\", \"y\": [0.9614490168531203, 0.96370909267955, 0.9663443798690221, 0.9659511091468089, 0.9659325248764232, 0.9655972055590062, 0.9349120024842033, 0.9430147359254457, 0.9633637626415875, 0.9652223224163096, 0.9661774617228225, 0.9660047912737255, 0.9654791512167799, 0.9646930333214024, 0.9657240892698717, 0.9641639083366684, 0.9664961781588531, 0.9656477756261004, 0.9661479134448582, 0.9654636560790603, 0.9634307014917336, 0.966360010156296, 0.9661228311356425, 0.9658870820455391, 0.960692411034934, 0.9661802371154521, 0.9663990659640549, 0.9659814067807833, 0.9657993844652173, 0.9632682107001242, 0.9638549962767746, 0.9662165573514324, 0.965805495155772, 0.9658125989542109, 0.9660552117109559, 0.9652533525125997, 0.9653301078058069, 0.9411099055288206, 0.9662987439673464, 0.965898889531139, 0.9651608836703399, 0.9658953671958843, 0.9581546016680716, 0.9660153884468001, 0.9582815119261712, 0.9640948903554354, 0.9657404290923046, 0.9660348729097518, 0.9660819761494438, 0.9650435738573538], \"yaxis\": \"y3\"}, {\"marker\": {\"color\": [0, 1, 2, 3, 4, 5, 6, 7, 8, 9, 10, 11, 12, 13, 14, 15, 16, 17, 18, 19, 20, 21, 22, 23, 24, 25, 26, 27, 28, 29, 30, 31, 32, 33, 34, 35, 36, 37, 38, 39, 40, 41, 42, 43, 44, 45, 46, 47, 48, 49], \"colorbar\": {\"title\": {\"text\": \"#Trials\"}, \"x\": 1.0, \"xpad\": 40}, \"colorscale\": [[0.0, \"rgb(247,251,255)\"], [0.125, \"rgb(222,235,247)\"], [0.25, \"rgb(198,219,239)\"], [0.375, \"rgb(158,202,225)\"], [0.5, \"rgb(107,174,214)\"], [0.625, \"rgb(66,146,198)\"], [0.75, \"rgb(33,113,181)\"], [0.875, \"rgb(8,81,156)\"], [1.0, \"rgb(8,48,107)\"]], \"line\": {\"color\": \"Grey\", \"width\": 0.5}, \"showscale\": false}, \"mode\": \"markers\", \"showlegend\": false, \"type\": \"scatter\", \"x\": [0.01, 0.01, 0.014, 0.016, 0.018, 0.02, 0.009, 0.016, 0.014, 0.016, 0.012, 0.012, 0.008, 0.012, 0.014, 0.014, 0.012, 0.018, 0.02, 0.009, 0.008, 0.012, 0.012, 0.012, 0.012, 0.014, 0.012, 0.012, 0.012, 0.01, 0.012, 0.014, 0.012, 0.01, 0.012, 0.018, 0.02, 0.009, 0.014, 0.016, 0.012, 0.014, 0.014, 0.014, 0.008, 0.014, 0.012, 0.016, 0.014, 0.018], \"xaxis\": \"x4\", \"y\": [0.9614490168531203, 0.96370909267955, 0.9663443798690221, 0.9659511091468089, 0.9659325248764232, 0.9655972055590062, 0.9349120024842033, 0.9430147359254457, 0.9633637626415875, 0.9652223224163096, 0.9661774617228225, 0.9660047912737255, 0.9654791512167799, 0.9646930333214024, 0.9657240892698717, 0.9641639083366684, 0.9664961781588531, 0.9656477756261004, 0.9661479134448582, 0.9654636560790603, 0.9634307014917336, 0.966360010156296, 0.9661228311356425, 0.9658870820455391, 0.960692411034934, 0.9661802371154521, 0.9663990659640549, 0.9659814067807833, 0.9657993844652173, 0.9632682107001242, 0.9638549962767746, 0.9662165573514324, 0.965805495155772, 0.9658125989542109, 0.9660552117109559, 0.9652533525125997, 0.9653301078058069, 0.9411099055288206, 0.9662987439673464, 0.965898889531139, 0.9651608836703399, 0.9658953671958843, 0.9581546016680716, 0.9660153884468001, 0.9582815119261712, 0.9640948903554354, 0.9657404290923046, 0.9660348729097518, 0.9660819761494438, 0.9650435738573538], \"yaxis\": \"y4\"}, {\"marker\": {\"color\": [0, 1, 2, 3, 4, 5, 6, 7, 8, 9, 10, 11, 12, 13, 14, 15, 16, 17, 18, 19, 20, 21, 22, 23, 24, 25, 26, 27, 28, 29, 30, 31, 32, 33, 34, 35, 36, 37, 38, 39, 40, 41, 42, 43, 44, 45, 46, 47, 48, 49], \"colorbar\": {\"title\": {\"text\": \"#Trials\"}, \"x\": 1.0, \"xpad\": 40}, \"colorscale\": [[0.0, \"rgb(247,251,255)\"], [0.125, \"rgb(222,235,247)\"], [0.25, \"rgb(198,219,239)\"], [0.375, \"rgb(158,202,225)\"], [0.5, \"rgb(107,174,214)\"], [0.625, \"rgb(66,146,198)\"], [0.75, \"rgb(33,113,181)\"], [0.875, \"rgb(8,81,156)\"], [1.0, \"rgb(8,48,107)\"]], \"line\": {\"color\": \"Grey\", \"width\": 0.5}, \"showscale\": false}, \"mode\": \"markers\", \"showlegend\": false, \"type\": \"scatter\", \"x\": [7, 11, 15, 13, 17, 7, 5, 5, 20, 20, 15, 15, 15, 9, 15, 15, 15, 11, 17, 13, 9, 15, 15, 15, 15, 15, 15, 15, 9, 7, 15, 15, 11, 15, 13, 17, 7, 5, 15, 15, 11, 15, 20, 15, 15, 5, 15, 15, 20, 15], \"xaxis\": \"x5\", \"y\": [0.9614490168531203, 0.96370909267955, 0.9663443798690221, 0.9659511091468089, 0.9659325248764232, 0.9655972055590062, 0.9349120024842033, 0.9430147359254457, 0.9633637626415875, 0.9652223224163096, 0.9661774617228225, 0.9660047912737255, 0.9654791512167799, 0.9646930333214024, 0.9657240892698717, 0.9641639083366684, 0.9664961781588531, 0.9656477756261004, 0.9661479134448582, 0.9654636560790603, 0.9634307014917336, 0.966360010156296, 0.9661228311356425, 0.9658870820455391, 0.960692411034934, 0.9661802371154521, 0.9663990659640549, 0.9659814067807833, 0.9657993844652173, 0.9632682107001242, 0.9638549962767746, 0.9662165573514324, 0.965805495155772, 0.9658125989542109, 0.9660552117109559, 0.9652533525125997, 0.9653301078058069, 0.9411099055288206, 0.9662987439673464, 0.965898889531139, 0.9651608836703399, 0.9658953671958843, 0.9581546016680716, 0.9660153884468001, 0.9582815119261712, 0.9640948903554354, 0.9657404290923046, 0.9660348729097518, 0.9660819761494438, 0.9650435738573538], \"yaxis\": \"y5\"}, {\"marker\": {\"color\": [0, 1, 2, 3, 4, 5, 6, 7, 8, 9, 10, 11, 12, 13, 14, 15, 16, 17, 18, 19, 20, 21, 22, 23, 24, 25, 26, 27, 28, 29, 30, 31, 32, 33, 34, 35, 36, 37, 38, 39, 40, 41, 42, 43, 44, 45, 46, 47, 48, 49], \"colorbar\": {\"title\": {\"text\": \"#Trials\"}, \"x\": 1.0, \"xpad\": 40}, \"colorscale\": [[0.0, \"rgb(247,251,255)\"], [0.125, \"rgb(222,235,247)\"], [0.25, \"rgb(198,219,239)\"], [0.375, \"rgb(158,202,225)\"], [0.5, \"rgb(107,174,214)\"], [0.625, \"rgb(66,146,198)\"], [0.75, \"rgb(33,113,181)\"], [0.875, \"rgb(8,81,156)\"], [1.0, \"rgb(8,48,107)\"]], \"line\": {\"color\": \"Grey\", \"width\": 0.5}, \"showscale\": false}, \"mode\": \"markers\", \"showlegend\": false, \"type\": \"scatter\", \"x\": [253, 81, 44, 66, 30, 44, 78, 208, 220, 117, 7, 4, 6, 144, 4, 116, 44, 166, 49, 109, 180, 24, 28, 92, 298, 56, 28, 25, 23, 99, 129, 67, 42, 76, 58, 37, 16, 81, 41, 65, 93, 42, 19, 38, 14, 1, 51, 67, 32, 252], \"xaxis\": \"x6\", \"y\": [0.9614490168531203, 0.96370909267955, 0.9663443798690221, 0.9659511091468089, 0.9659325248764232, 0.9655972055590062, 0.9349120024842033, 0.9430147359254457, 0.9633637626415875, 0.9652223224163096, 0.9661774617228225, 0.9660047912737255, 0.9654791512167799, 0.9646930333214024, 0.9657240892698717, 0.9641639083366684, 0.9664961781588531, 0.9656477756261004, 0.9661479134448582, 0.9654636560790603, 0.9634307014917336, 0.966360010156296, 0.9661228311356425, 0.9658870820455391, 0.960692411034934, 0.9661802371154521, 0.9663990659640549, 0.9659814067807833, 0.9657993844652173, 0.9632682107001242, 0.9638549962767746, 0.9662165573514324, 0.965805495155772, 0.9658125989542109, 0.9660552117109559, 0.9652533525125997, 0.9653301078058069, 0.9411099055288206, 0.9662987439673464, 0.965898889531139, 0.9651608836703399, 0.9658953671958843, 0.9581546016680716, 0.9660153884468001, 0.9582815119261712, 0.9640948903554354, 0.9657404290923046, 0.9660348729097518, 0.9660819761494438, 0.9650435738573538], \"yaxis\": \"y6\"}, {\"marker\": {\"color\": [0, 1, 2, 3, 4, 5, 6, 7, 8, 9, 10, 11, 12, 13, 14, 15, 16, 17, 18, 19, 20, 21, 22, 23, 24, 25, 26, 27, 28, 29, 30, 31, 32, 33, 34, 35, 36, 37, 38, 39, 40, 41, 42, 43, 44, 45, 46, 47, 48, 49], \"colorbar\": {\"title\": {\"text\": \"#Trials\"}, \"x\": 1.0, \"xpad\": 40}, \"colorscale\": [[0.0, \"rgb(247,251,255)\"], [0.125, \"rgb(222,235,247)\"], [0.25, \"rgb(198,219,239)\"], [0.375, \"rgb(158,202,225)\"], [0.5, \"rgb(107,174,214)\"], [0.625, \"rgb(66,146,198)\"], [0.75, \"rgb(33,113,181)\"], [0.875, \"rgb(8,81,156)\"], [1.0, \"rgb(8,48,107)\"]], \"line\": {\"color\": \"Grey\", \"width\": 0.5}, \"showscale\": false}, \"mode\": \"markers\", \"showlegend\": false, \"type\": \"scatter\", \"x\": [48, 24, 48, 48, 2020, 2020, 2020, 2020, 48, 48, 24, 24, 24, 24, 48, 24, 48, 48, 48, 48, 48, 24, 48, 24, 48, 48, 24, 24, 24, 24, 24, 24, 48, 24, 48, 24, 2020, 48, 2020, 48, 24, 2020, 2020, 2020, 2020, 2020, 2020, 24, 48, 2020], \"xaxis\": \"x7\", \"y\": [0.9614490168531203, 0.96370909267955, 0.9663443798690221, 0.9659511091468089, 0.9659325248764232, 0.9655972055590062, 0.9349120024842033, 0.9430147359254457, 0.9633637626415875, 0.9652223224163096, 0.9661774617228225, 0.9660047912737255, 0.9654791512167799, 0.9646930333214024, 0.9657240892698717, 0.9641639083366684, 0.9664961781588531, 0.9656477756261004, 0.9661479134448582, 0.9654636560790603, 0.9634307014917336, 0.966360010156296, 0.9661228311356425, 0.9658870820455391, 0.960692411034934, 0.9661802371154521, 0.9663990659640549, 0.9659814067807833, 0.9657993844652173, 0.9632682107001242, 0.9638549962767746, 0.9662165573514324, 0.965805495155772, 0.9658125989542109, 0.9660552117109559, 0.9652533525125997, 0.9653301078058069, 0.9411099055288206, 0.9662987439673464, 0.965898889531139, 0.9651608836703399, 0.9658953671958843, 0.9581546016680716, 0.9660153884468001, 0.9582815119261712, 0.9640948903554354, 0.9657404290923046, 0.9660348729097518, 0.9660819761494438, 0.9650435738573538], \"yaxis\": \"y7\"}, {\"marker\": {\"color\": [0, 1, 2, 3, 4, 5, 6, 7, 8, 9, 10, 11, 12, 13, 14, 15, 16, 17, 18, 19, 20, 21, 22, 23, 24, 25, 26, 27, 28, 29, 30, 31, 32, 33, 34, 35, 36, 37, 38, 39, 40, 41, 42, 43, 44, 45, 46, 47, 48, 49], \"colorbar\": {\"title\": {\"text\": \"#Trials\"}, \"x\": 1.0, \"xpad\": 40}, \"colorscale\": [[0.0, \"rgb(247,251,255)\"], [0.125, \"rgb(222,235,247)\"], [0.25, \"rgb(198,219,239)\"], [0.375, \"rgb(158,202,225)\"], [0.5, \"rgb(107,174,214)\"], [0.625, \"rgb(66,146,198)\"], [0.75, \"rgb(33,113,181)\"], [0.875, \"rgb(8,81,156)\"], [1.0, \"rgb(8,48,107)\"]], \"line\": {\"color\": \"Grey\", \"width\": 0.5}, \"showscale\": false}, \"mode\": \"markers\", \"showlegend\": false, \"type\": \"scatter\", \"x\": [0.5, 0.4, 1.0, 1.0, 0.7, 1.0, 0.6, 0.7, 0.5, 0.6, 0.8, 0.8, 0.8, 0.8, 1.0, 0.4, 1.0, 1.0, 1.0, 1.0, 1.0, 0.8, 0.8, 1.0, 0.4, 0.8, 1.0, 0.5, 0.6, 0.7, 1.0, 1.0, 1.0, 1.0, 1.0, 0.5, 0.4, 1.0, 0.7, 1.0, 0.6, 0.7, 0.7, 0.7, 0.7, 0.8, 0.7, 0.8, 0.5, 1.0], \"xaxis\": \"x8\", \"y\": [0.9614490168531203, 0.96370909267955, 0.9663443798690221, 0.9659511091468089, 0.9659325248764232, 0.9655972055590062, 0.9349120024842033, 0.9430147359254457, 0.9633637626415875, 0.9652223224163096, 0.9661774617228225, 0.9660047912737255, 0.9654791512167799, 0.9646930333214024, 0.9657240892698717, 0.9641639083366684, 0.9664961781588531, 0.9656477756261004, 0.9661479134448582, 0.9654636560790603, 0.9634307014917336, 0.966360010156296, 0.9661228311356425, 0.9658870820455391, 0.960692411034934, 0.9661802371154521, 0.9663990659640549, 0.9659814067807833, 0.9657993844652173, 0.9632682107001242, 0.9638549962767746, 0.9662165573514324, 0.965805495155772, 0.9658125989542109, 0.9660552117109559, 0.9652533525125997, 0.9653301078058069, 0.9411099055288206, 0.9662987439673464, 0.965898889531139, 0.9651608836703399, 0.9658953671958843, 0.9581546016680716, 0.9660153884468001, 0.9582815119261712, 0.9640948903554354, 0.9657404290923046, 0.9660348729097518, 0.9660819761494438, 0.9650435738573538], \"yaxis\": \"y8\"}],\n",
              "                        {\"template\": {\"data\": {\"bar\": [{\"error_x\": {\"color\": \"#2a3f5f\"}, \"error_y\": {\"color\": \"#2a3f5f\"}, \"marker\": {\"line\": {\"color\": \"#E5ECF6\", \"width\": 0.5}}, \"type\": \"bar\"}], \"barpolar\": [{\"marker\": {\"line\": {\"color\": \"#E5ECF6\", \"width\": 0.5}}, \"type\": \"barpolar\"}], \"carpet\": [{\"aaxis\": {\"endlinecolor\": \"#2a3f5f\", \"gridcolor\": \"white\", \"linecolor\": \"white\", \"minorgridcolor\": \"white\", \"startlinecolor\": \"#2a3f5f\"}, \"baxis\": {\"endlinecolor\": \"#2a3f5f\", \"gridcolor\": \"white\", \"linecolor\": \"white\", \"minorgridcolor\": \"white\", \"startlinecolor\": \"#2a3f5f\"}, \"type\": \"carpet\"}], \"choropleth\": [{\"colorbar\": {\"outlinewidth\": 0, \"ticks\": \"\"}, \"type\": \"choropleth\"}], \"contour\": [{\"colorbar\": {\"outlinewidth\": 0, \"ticks\": \"\"}, \"colorscale\": [[0.0, \"#0d0887\"], [0.1111111111111111, \"#46039f\"], [0.2222222222222222, \"#7201a8\"], [0.3333333333333333, \"#9c179e\"], [0.4444444444444444, \"#bd3786\"], [0.5555555555555556, \"#d8576b\"], [0.6666666666666666, \"#ed7953\"], [0.7777777777777778, \"#fb9f3a\"], [0.8888888888888888, \"#fdca26\"], [1.0, \"#f0f921\"]], \"type\": \"contour\"}], \"contourcarpet\": [{\"colorbar\": {\"outlinewidth\": 0, \"ticks\": \"\"}, \"type\": \"contourcarpet\"}], \"heatmap\": [{\"colorbar\": {\"outlinewidth\": 0, \"ticks\": \"\"}, \"colorscale\": [[0.0, \"#0d0887\"], [0.1111111111111111, \"#46039f\"], [0.2222222222222222, \"#7201a8\"], [0.3333333333333333, \"#9c179e\"], [0.4444444444444444, \"#bd3786\"], [0.5555555555555556, \"#d8576b\"], [0.6666666666666666, \"#ed7953\"], [0.7777777777777778, \"#fb9f3a\"], [0.8888888888888888, \"#fdca26\"], [1.0, \"#f0f921\"]], \"type\": \"heatmap\"}], \"heatmapgl\": [{\"colorbar\": {\"outlinewidth\": 0, \"ticks\": \"\"}, \"colorscale\": [[0.0, \"#0d0887\"], [0.1111111111111111, \"#46039f\"], [0.2222222222222222, \"#7201a8\"], [0.3333333333333333, \"#9c179e\"], [0.4444444444444444, \"#bd3786\"], [0.5555555555555556, \"#d8576b\"], [0.6666666666666666, \"#ed7953\"], [0.7777777777777778, \"#fb9f3a\"], [0.8888888888888888, \"#fdca26\"], [1.0, \"#f0f921\"]], \"type\": \"heatmapgl\"}], \"histogram\": [{\"marker\": {\"colorbar\": {\"outlinewidth\": 0, \"ticks\": \"\"}}, \"type\": \"histogram\"}], \"histogram2d\": [{\"colorbar\": {\"outlinewidth\": 0, \"ticks\": \"\"}, \"colorscale\": [[0.0, \"#0d0887\"], [0.1111111111111111, \"#46039f\"], [0.2222222222222222, \"#7201a8\"], [0.3333333333333333, \"#9c179e\"], [0.4444444444444444, \"#bd3786\"], [0.5555555555555556, \"#d8576b\"], [0.6666666666666666, \"#ed7953\"], [0.7777777777777778, \"#fb9f3a\"], [0.8888888888888888, \"#fdca26\"], [1.0, \"#f0f921\"]], \"type\": \"histogram2d\"}], \"histogram2dcontour\": [{\"colorbar\": {\"outlinewidth\": 0, \"ticks\": \"\"}, \"colorscale\": [[0.0, \"#0d0887\"], [0.1111111111111111, \"#46039f\"], [0.2222222222222222, \"#7201a8\"], [0.3333333333333333, \"#9c179e\"], [0.4444444444444444, \"#bd3786\"], [0.5555555555555556, \"#d8576b\"], [0.6666666666666666, \"#ed7953\"], [0.7777777777777778, \"#fb9f3a\"], [0.8888888888888888, \"#fdca26\"], [1.0, \"#f0f921\"]], \"type\": \"histogram2dcontour\"}], \"mesh3d\": [{\"colorbar\": {\"outlinewidth\": 0, \"ticks\": \"\"}, \"type\": \"mesh3d\"}], \"parcoords\": [{\"line\": {\"colorbar\": {\"outlinewidth\": 0, \"ticks\": \"\"}}, \"type\": \"parcoords\"}], \"pie\": [{\"automargin\": true, \"type\": \"pie\"}], \"scatter\": [{\"marker\": {\"colorbar\": {\"outlinewidth\": 0, \"ticks\": \"\"}}, \"type\": \"scatter\"}], \"scatter3d\": [{\"line\": {\"colorbar\": {\"outlinewidth\": 0, \"ticks\": \"\"}}, \"marker\": {\"colorbar\": {\"outlinewidth\": 0, \"ticks\": \"\"}}, \"type\": \"scatter3d\"}], \"scattercarpet\": [{\"marker\": {\"colorbar\": {\"outlinewidth\": 0, \"ticks\": \"\"}}, \"type\": \"scattercarpet\"}], \"scattergeo\": [{\"marker\": {\"colorbar\": {\"outlinewidth\": 0, \"ticks\": \"\"}}, \"type\": \"scattergeo\"}], \"scattergl\": [{\"marker\": {\"colorbar\": {\"outlinewidth\": 0, \"ticks\": \"\"}}, \"type\": \"scattergl\"}], \"scattermapbox\": [{\"marker\": {\"colorbar\": {\"outlinewidth\": 0, \"ticks\": \"\"}}, \"type\": \"scattermapbox\"}], \"scatterpolar\": [{\"marker\": {\"colorbar\": {\"outlinewidth\": 0, \"ticks\": \"\"}}, \"type\": \"scatterpolar\"}], \"scatterpolargl\": [{\"marker\": {\"colorbar\": {\"outlinewidth\": 0, \"ticks\": \"\"}}, \"type\": \"scatterpolargl\"}], \"scatterternary\": [{\"marker\": {\"colorbar\": {\"outlinewidth\": 0, \"ticks\": \"\"}}, \"type\": \"scatterternary\"}], \"surface\": [{\"colorbar\": {\"outlinewidth\": 0, \"ticks\": \"\"}, \"colorscale\": [[0.0, \"#0d0887\"], [0.1111111111111111, \"#46039f\"], [0.2222222222222222, \"#7201a8\"], [0.3333333333333333, \"#9c179e\"], [0.4444444444444444, \"#bd3786\"], [0.5555555555555556, \"#d8576b\"], [0.6666666666666666, \"#ed7953\"], [0.7777777777777778, \"#fb9f3a\"], [0.8888888888888888, \"#fdca26\"], [1.0, \"#f0f921\"]], \"type\": \"surface\"}], \"table\": [{\"cells\": {\"fill\": {\"color\": \"#EBF0F8\"}, \"line\": {\"color\": \"white\"}}, \"header\": {\"fill\": {\"color\": \"#C8D4E3\"}, \"line\": {\"color\": \"white\"}}, \"type\": \"table\"}]}, \"layout\": {\"annotationdefaults\": {\"arrowcolor\": \"#2a3f5f\", \"arrowhead\": 0, \"arrowwidth\": 1}, \"coloraxis\": {\"colorbar\": {\"outlinewidth\": 0, \"ticks\": \"\"}}, \"colorscale\": {\"diverging\": [[0, \"#8e0152\"], [0.1, \"#c51b7d\"], [0.2, \"#de77ae\"], [0.3, \"#f1b6da\"], [0.4, \"#fde0ef\"], [0.5, \"#f7f7f7\"], [0.6, \"#e6f5d0\"], [0.7, \"#b8e186\"], [0.8, \"#7fbc41\"], [0.9, \"#4d9221\"], [1, \"#276419\"]], \"sequential\": [[0.0, \"#0d0887\"], [0.1111111111111111, \"#46039f\"], [0.2222222222222222, \"#7201a8\"], [0.3333333333333333, \"#9c179e\"], [0.4444444444444444, \"#bd3786\"], [0.5555555555555556, \"#d8576b\"], [0.6666666666666666, \"#ed7953\"], [0.7777777777777778, \"#fb9f3a\"], [0.8888888888888888, \"#fdca26\"], [1.0, \"#f0f921\"]], \"sequentialminus\": [[0.0, \"#0d0887\"], [0.1111111111111111, \"#46039f\"], [0.2222222222222222, \"#7201a8\"], [0.3333333333333333, \"#9c179e\"], [0.4444444444444444, \"#bd3786\"], [0.5555555555555556, \"#d8576b\"], [0.6666666666666666, \"#ed7953\"], [0.7777777777777778, \"#fb9f3a\"], [0.8888888888888888, \"#fdca26\"], [1.0, \"#f0f921\"]]}, \"colorway\": [\"#636efa\", \"#EF553B\", \"#00cc96\", \"#ab63fa\", \"#FFA15A\", \"#19d3f3\", \"#FF6692\", \"#B6E880\", \"#FF97FF\", \"#FECB52\"], \"font\": {\"color\": \"#2a3f5f\"}, \"geo\": {\"bgcolor\": \"white\", \"lakecolor\": \"white\", \"landcolor\": \"#E5ECF6\", \"showlakes\": true, \"showland\": true, \"subunitcolor\": \"white\"}, \"hoverlabel\": {\"align\": \"left\"}, \"hovermode\": \"closest\", \"mapbox\": {\"style\": \"light\"}, \"paper_bgcolor\": \"white\", \"plot_bgcolor\": \"#E5ECF6\", \"polar\": {\"angularaxis\": {\"gridcolor\": \"white\", \"linecolor\": \"white\", \"ticks\": \"\"}, \"bgcolor\": \"#E5ECF6\", \"radialaxis\": {\"gridcolor\": \"white\", \"linecolor\": \"white\", \"ticks\": \"\"}}, \"scene\": {\"xaxis\": {\"backgroundcolor\": \"#E5ECF6\", \"gridcolor\": \"white\", \"gridwidth\": 2, \"linecolor\": \"white\", \"showbackground\": true, \"ticks\": \"\", \"zerolinecolor\": \"white\"}, \"yaxis\": {\"backgroundcolor\": \"#E5ECF6\", \"gridcolor\": \"white\", \"gridwidth\": 2, \"linecolor\": \"white\", \"showbackground\": true, \"ticks\": \"\", \"zerolinecolor\": \"white\"}, \"zaxis\": {\"backgroundcolor\": \"#E5ECF6\", \"gridcolor\": \"white\", \"gridwidth\": 2, \"linecolor\": \"white\", \"showbackground\": true, \"ticks\": \"\", \"zerolinecolor\": \"white\"}}, \"shapedefaults\": {\"line\": {\"color\": \"#2a3f5f\"}}, \"ternary\": {\"aaxis\": {\"gridcolor\": \"white\", \"linecolor\": \"white\", \"ticks\": \"\"}, \"baxis\": {\"gridcolor\": \"white\", \"linecolor\": \"white\", \"ticks\": \"\"}, \"bgcolor\": \"#E5ECF6\", \"caxis\": {\"gridcolor\": \"white\", \"linecolor\": \"white\", \"ticks\": \"\"}}, \"title\": {\"x\": 0.05}, \"xaxis\": {\"automargin\": true, \"gridcolor\": \"white\", \"linecolor\": \"white\", \"ticks\": \"\", \"title\": {\"standoff\": 15}, \"zerolinecolor\": \"white\", \"zerolinewidth\": 2}, \"yaxis\": {\"automargin\": true, \"gridcolor\": \"white\", \"linecolor\": \"white\", \"ticks\": \"\", \"title\": {\"standoff\": 15}, \"zerolinecolor\": \"white\", \"zerolinewidth\": 2}}}, \"title\": {\"text\": \"Slice Plot\"}, \"width\": 2400, \"xaxis\": {\"anchor\": \"y\", \"domain\": [0.0, 0.103125], \"title\": {\"text\": \"alpha\"}, \"type\": \"log\"}, \"xaxis2\": {\"anchor\": \"y2\", \"domain\": [0.128125, 0.23124999999999998], \"title\": {\"text\": \"colsample_bytree\"}}, \"xaxis3\": {\"anchor\": \"y3\", \"domain\": [0.25625, 0.359375], \"title\": {\"text\": \"lambda\"}, \"type\": \"log\"}, \"xaxis4\": {\"anchor\": \"y4\", \"domain\": [0.38437499999999997, 0.48749999999999993], \"title\": {\"text\": \"learning_rate\"}}, \"xaxis5\": {\"anchor\": \"y5\", \"domain\": [0.5125, 0.615625], \"title\": {\"text\": \"max_depth\"}}, \"xaxis6\": {\"anchor\": \"y6\", \"domain\": [0.640625, 0.74375], \"title\": {\"text\": \"min_child_weight\"}}, \"xaxis7\": {\"anchor\": \"y7\", \"domain\": [0.76875, 0.8718750000000001], \"title\": {\"text\": \"random_state\"}}, \"xaxis8\": {\"anchor\": \"y8\", \"domain\": [0.8968750000000001, 1.0], \"title\": {\"text\": \"subsample\"}}, \"yaxis\": {\"anchor\": \"x\", \"domain\": [0.0, 1.0], \"title\": {\"text\": \"Objective Value\"}}, \"yaxis2\": {\"anchor\": \"x2\", \"domain\": [0.0, 1.0], \"matches\": \"y\", \"showticklabels\": false}, \"yaxis3\": {\"anchor\": \"x3\", \"domain\": [0.0, 1.0], \"matches\": \"y\", \"showticklabels\": false}, \"yaxis4\": {\"anchor\": \"x4\", \"domain\": [0.0, 1.0], \"matches\": \"y\", \"showticklabels\": false}, \"yaxis5\": {\"anchor\": \"x5\", \"domain\": [0.0, 1.0], \"matches\": \"y\", \"showticklabels\": false}, \"yaxis6\": {\"anchor\": \"x6\", \"domain\": [0.0, 1.0], \"matches\": \"y\", \"showticklabels\": false}, \"yaxis7\": {\"anchor\": \"x7\", \"domain\": [0.0, 1.0], \"matches\": \"y\", \"showticklabels\": false}, \"yaxis8\": {\"anchor\": \"x8\", \"domain\": [0.0, 1.0], \"matches\": \"y\", \"showticklabels\": false}},\n",
              "                        {\"responsive\": true}\n",
              "                    ).then(function(){\n",
              "                            \n",
              "var gd = document.getElementById('d9749a9d-b170-4061-937a-eb04df906bd5');\n",
              "var x = new MutationObserver(function (mutations, observer) {{\n",
              "        var display = window.getComputedStyle(gd).display;\n",
              "        if (!display || display === 'none') {{\n",
              "            console.log([gd, 'removed!']);\n",
              "            Plotly.purge(gd);\n",
              "            observer.disconnect();\n",
              "        }}\n",
              "}});\n",
              "\n",
              "// Listen for the removal of the full notebook cells\n",
              "var notebookContainer = gd.closest('#notebook-container');\n",
              "if (notebookContainer) {{\n",
              "    x.observe(notebookContainer, {childList: true});\n",
              "}}\n",
              "\n",
              "// Listen for the clearing of the current output cell\n",
              "var outputEl = gd.closest('.output');\n",
              "if (outputEl) {{\n",
              "    x.observe(outputEl, {childList: true});\n",
              "}}\n",
              "\n",
              "                        })\n",
              "                };\n",
              "                \n",
              "            </script>\n",
              "        </div>\n",
              "</body>\n",
              "</html>"
            ]
          },
          "metadata": {
            "tags": []
          }
        }
      ]
    },
    {
      "cell_type": "markdown",
      "metadata": {
        "id": "Vv0mi_QYnsRY"
      },
      "source": [
        "plot_contour: plots parameter interactions on an interactive chart. You can choose which hyperparameters you would like to explore.\n"
      ]
    },
    {
      "cell_type": "code",
      "metadata": {
        "colab": {
          "base_uri": "https://localhost:8080/",
          "height": 542
        },
        "id": "A0nBEvsN3nIB",
        "outputId": "ebb73ddc-4a53-4da9-8cf9-991d5b0500b0"
      },
      "source": [
        "optuna.visualization.plot_contour(study, params=['alpha',\n",
        "                            #'max_depth',\n",
        "                            'lambda',\n",
        "                            'subsample',\n",
        "                            'learning_rate',\n",
        "                            'subsample'])"
      ],
      "execution_count": null,
      "outputs": [
        {
          "output_type": "display_data",
          "data": {
            "text/html": [
              "<html>\n",
              "<head><meta charset=\"utf-8\" /></head>\n",
              "<body>\n",
              "    <div>\n",
              "            <script src=\"https://cdnjs.cloudflare.com/ajax/libs/mathjax/2.7.5/MathJax.js?config=TeX-AMS-MML_SVG\"></script><script type=\"text/javascript\">if (window.MathJax) {MathJax.Hub.Config({SVG: {font: \"STIX-Web\"}});}</script>\n",
              "                <script type=\"text/javascript\">window.PlotlyConfig = {MathJaxConfig: 'local'};</script>\n",
              "        <script src=\"https://cdn.plot.ly/plotly-latest.min.js\"></script>    \n",
              "            <div id=\"6f7e56cf-4dd7-477e-9864-19831b628d99\" class=\"plotly-graph-div\" style=\"height:525px; width:100%;\"></div>\n",
              "            <script type=\"text/javascript\">\n",
              "                \n",
              "                    window.PLOTLYENV=window.PLOTLYENV || {};\n",
              "                    \n",
              "                if (document.getElementById(\"6f7e56cf-4dd7-477e-9864-19831b628d99\")) {\n",
              "                    Plotly.newPlot(\n",
              "                        '6f7e56cf-4dd7-477e-9864-19831b628d99',\n",
              "                        [{\"type\": \"scatter\", \"xaxis\": \"x\", \"yaxis\": \"y\"}, {\"colorbar\": {\"title\": {\"text\": \"Objective Value\"}}, \"colorscale\": [[0, \"rgb(5,10,172)\"], [0.35, \"rgb(40,60,190)\"], [0.5, \"rgb(70,100,245)\"], [0.6, \"rgb(90,120,245)\"], [0.7, \"rgb(106,137,247)\"], [1, \"rgb(220,220,220)\"]], \"connectgaps\": true, \"contours\": {\"coloring\": \"heatmap\"}, \"hoverinfo\": \"none\", \"line\": {\"smoothing\": 1.3}, \"reversescale\": false, \"showscale\": true, \"type\": \"contour\", \"x\": [0.0006467630822397339, 0.0010181643728821939, 0.0010463310681730537, 0.002206643068223733, 0.0022334644633789213, 0.002591116596186556, 0.00366817865425139, 0.0038249812316278288, 0.004463392998945948, 0.005644746026283066, 0.006354843087402957, 0.0079463512796583, 0.00967393286707375, 0.010383443637253126, 0.01254077864827821, 0.014621966829258828, 0.017914630395936607, 0.019484399312365754, 0.021800136799959794, 0.025891473088036694, 0.02630961934977218, 0.028392015763314685, 0.0356361328795397, 0.03607744523557369, 0.03710247783593982, 0.04239837985417904, 0.04598224416610351, 0.053988600576792355, 0.05696439914463783, 0.06371101614572536, 0.06657948718332439, 0.0926033448201442, 0.09590285438044613, 0.0964642360899176, 0.11395752205090479, 0.11850315623816536, 0.15451044816007484, 0.16170199753683476, 0.16959923307006608, 0.17392736957556704, 0.24203698386397063, 0.2553780859410673, 0.3497176109339869, 0.37572455565093704, 0.7044842190007566, 1.013512477448444, 1.1760096602282823, 1.353454042817887, 8.552250413676935, 8.559648869065919, 8.897569356075648, 14.006965413413381], \"xaxis\": \"x5\", \"y\": [0.0009242847474723136, 0.0014240237450165209, 0.001620082617449181, 0.002057460573404571, 0.0028161256757211007, 0.0038974148954420747, 0.004220389968619446, 0.005467248640780835, 0.006653218220222155, 0.007245440807228051, 0.007760285328621599, 0.008553754604813191, 0.010576441432516159, 0.011887161277513221, 0.013747145139813862, 0.01680518019972616, 0.017027501529365368, 0.018688998050368725, 0.020530533816826284, 0.02137093874894116, 0.023312326888009435, 0.023907742250035224, 0.02585297640370347, 0.03005460208149567, 0.03269086093271246, 0.03774935662196809, 0.03785620605363892, 0.03962702582341804, 0.0498652563995772, 0.05215091371717967, 0.05935031259030531, 0.06952864689008562, 0.0736986353742997, 0.07619038564231667, 0.08026597900346424, 0.08287684030183871, 0.09962512320523084, 0.12057384146600342, 0.12103628446814962, 0.1265430806657861, 0.1750300039236326, 0.20528790013698178, 0.22050638749514634, 0.3263042905584334, 0.42768461846209, 0.5323894003316153, 0.6618680618471974, 0.8300674259125883, 1.8293301690601609, 2.5542913283137563, 8.086230640660201, 12.458265130384182], \"yaxis\": \"y5\", \"z\": [[null, null, null, null, null, null, null, null, null, null, null, null, null, null, null, null, null, null, null, null, null, null, null, null, null, null, null, null, null, null, null, null, null, null, null, null, null, null, null, null, null, null, null, null, null, null, null, null, null, null, null, null], [null, null, null, null, null, null, null, null, null, null, null, null, null, null, null, null, null, null, null, null, null, null, null, null, null, null, null, null, null, null, null, null, null, null, null, null, null, null, null, null, null, null, null, null, null, null, null, null, null, 0.9660047912737255, null, null], [null, null, null, null, null, null, null, null, null, null, null, null, null, null, null, null, null, null, null, null, null, null, null, null, null, null, null, null, null, null, null, null, null, null, null, null, null, null, null, null, null, null, null, null, null, null, null, null, 0.9661774617228225, null, null, null], [null, null, 0.9654791512167799, null, null, null, null, null, null, null, null, null, null, null, null, null, null, null, null, null, null, null, null, null, null, null, null, null, null, null, null, null, null, null, null, null, null, null, null, null, null, null, null, null, null, null, null, null, null, null, null, null], [null, 0.9632682107001242, null, null, null, null, null, null, null, null, null, null, null, null, null, null, null, null, null, null, null, null, null, null, null, null, null, null, null, null, null, null, null, null, null, null, null, null, null, null, null, null, null, null, null, null, null, null, null, null, null, null], [null, null, null, null, null, null, null, null, null, null, null, null, null, null, null, null, null, null, null, null, 0.9646930333214024, null, null, null, null, null, null, null, null, null, null, null, null, null, null, null, null, null, null, null, null, null, null, null, null, null, null, null, null, null, null, null], [null, null, null, null, null, null, null, null, null, null, null, null, null, null, null, null, null, null, null, null, null, 0.9660348729097518, null, null, null, null, null, null, null, null, null, null, null, null, null, null, null, null, null, null, null, null, null, null, null, null, null, null, null, null, null, null], [null, null, null, 0.9641639083366684, null, null, null, null, null, null, null, null, null, null, null, null, null, null, null, null, null, null, null, null, null, null, null, null, null, null, null, null, null, null, null, null, null, null, null, null, null, null, null, null, null, null, null, null, null, null, null, null], [null, null, null, null, null, null, null, null, null, null, null, null, null, null, null, null, null, null, null, null, null, null, null, null, null, null, null, null, null, 0.9661228311356425, null, null, null, null, null, null, null, null, null, null, null, null, null, null, null, null, null, null, null, null, null, null], [null, null, null, null, null, null, null, null, null, null, null, null, null, null, null, null, null, null, null, null, null, null, null, null, null, null, null, null, null, null, null, null, null, null, null, null, null, null, null, null, 0.9650435738573538, null, null, null, null, null, null, null, null, null, null, null], [null, null, null, null, null, null, null, null, null, null, null, null, null, null, null, null, null, null, null, null, null, null, null, null, null, null, null, 0.966360010156296, null, null, null, null, null, null, null, null, null, null, null, null, null, null, null, null, null, null, null, null, null, null, null, null], [null, null, null, null, null, null, null, null, null, null, null, null, null, 0.9661802371154521, null, null, null, null, null, null, null, null, null, null, null, null, null, null, null, null, null, null, null, null, null, null, null, null, null, null, null, null, null, null, null, null, null, null, null, null, null, null], [null, null, null, null, null, null, null, null, null, null, null, null, null, null, null, null, null, null, null, null, null, null, null, null, null, null, null, null, null, null, null, null, null, null, null, null, null, null, null, null, null, 0.9411099055288206, null, null, null, null, null, null, null, null, null, null], [null, null, null, null, 0.9659814067807833, null, null, null, null, null, null, null, null, null, null, null, null, null, null, null, null, null, null, null, null, null, null, null, null, null, null, null, null, null, null, null, null, null, null, null, null, null, null, null, null, null, null, null, null, null, null, null], [null, null, null, null, null, null, null, null, null, null, null, null, null, null, 0.965898889531139, null, null, null, null, null, null, null, null, null, null, null, null, null, null, null, null, null, null, null, null, null, null, null, null, null, null, null, null, null, null, null, null, null, null, null, null, null], [null, null, null, null, null, null, null, null, null, null, null, null, 0.9659325248764232, null, null, null, null, null, null, null, null, null, null, null, null, null, null, null, null, null, null, null, null, null, null, null, null, null, null, null, null, null, null, null, null, null, null, null, null, null, null, null], [null, null, null, null, null, null, null, null, null, null, null, null, null, null, null, null, null, null, null, null, null, null, null, null, null, null, null, null, null, null, null, 0.9660153884468001, null, null, null, null, null, null, null, null, null, null, null, null, null, null, null, null, null, null, null, null], [null, null, null, null, null, null, null, null, null, null, null, null, null, null, null, null, null, null, null, null, null, null, null, null, null, null, null, null, null, null, null, null, null, null, null, null, null, null, null, 0.9633637626415875, null, null, null, null, null, null, null, null, null, null, null, null], [null, null, null, null, null, null, null, null, null, null, null, null, null, null, null, null, null, null, null, null, null, null, null, null, null, null, null, null, null, null, null, null, null, null, null, null, null, null, null, null, null, null, null, null, null, null, 0.9655972055590062, null, null, null, null, null], [null, null, null, null, null, null, null, null, null, null, null, null, null, null, null, null, null, null, null, null, null, null, null, null, null, null, null, null, null, null, null, null, null, null, null, null, 0.9652223224163096, null, null, null, null, null, null, null, null, null, null, null, null, null, null, null], [null, null, null, null, null, null, null, null, null, null, null, null, null, null, null, null, null, null, null, null, null, null, null, null, null, null, null, null, null, null, null, null, 0.9658953671958843, null, null, null, null, null, null, null, null, null, null, null, null, null, null, null, null, null, null, null], [null, null, null, null, null, null, null, null, null, null, null, null, null, null, null, null, null, null, null, null, null, null, null, null, null, null, null, null, null, null, null, null, null, 0.9662987439673464, null, null, null, null, null, null, null, null, null, null, null, null, null, null, null, null, null, null], [null, null, null, null, null, null, null, null, null, null, null, null, null, null, null, null, null, null, null, null, null, null, null, null, null, null, null, null, null, null, null, null, null, null, null, null, null, null, 0.9657404290923046, null, null, null, null, null, null, null, null, null, null, null, null, null], [null, null, null, null, null, null, null, null, null, null, null, null, null, null, null, null, null, null, null, 0.9581546016680716, null, null, null, null, null, null, null, null, null, null, null, null, null, null, null, null, null, null, null, null, null, null, null, null, null, null, null, null, null, null, null, null], [null, null, null, null, null, 0.9657993844652173, null, null, null, null, null, null, null, null, null, null, null, null, null, null, null, null, null, null, null, null, null, null, null, null, null, null, null, null, null, null, null, null, null, null, null, null, null, null, null, null, null, null, null, null, null, null], [null, null, null, null, null, null, null, null, null, null, null, null, null, null, null, null, null, 0.9658870820455391, null, null, null, null, null, null, null, null, null, null, null, null, null, null, null, null, null, null, null, null, null, null, null, null, null, null, null, null, null, null, null, null, null, null], [null, null, null, null, null, null, 0.9663990659640549, null, null, null, null, null, null, null, null, null, null, null, null, null, null, null, null, null, null, null, null, null, null, null, null, null, null, null, null, null, null, null, null, null, null, null, null, null, null, null, null, null, null, null, null, null], [null, null, null, null, null, null, null, null, null, null, null, null, null, null, null, null, null, null, null, null, null, null, null, null, null, null, null, null, null, null, 0.965805495155772, null, null, null, null, null, null, null, null, null, null, null, null, null, null, null, null, null, null, null, null, null], [null, null, null, null, null, null, null, null, null, null, null, null, null, null, null, null, null, null, null, null, null, null, null, null, null, null, null, null, null, null, null, null, null, null, null, null, null, null, null, null, null, null, null, null, 0.9582815119261712, null, null, null, null, null, null, null], [null, null, null, null, null, null, null, null, null, null, null, null, null, null, null, null, null, null, null, null, null, null, null, null, null, null, null, null, null, null, null, null, null, null, 0.9652533525125997, null, null, null, null, null, null, null, null, null, null, null, null, null, null, null, null, null], [null, null, null, null, null, null, null, null, null, null, null, null, null, null, null, null, null, null, null, null, null, null, null, null, null, null, null, null, null, null, null, null, null, null, null, null, null, null, null, null, null, null, null, 0.9634307014917336, null, null, null, null, null, null, null, null], [null, null, null, null, null, null, null, null, null, null, null, null, null, null, null, null, null, null, null, null, null, null, null, null, 0.9663443798690221, null, null, null, null, null, null, null, null, null, null, null, null, null, null, null, null, null, null, null, null, null, null, null, null, null, null, null], [null, null, null, null, null, null, null, null, null, null, null, null, null, null, null, null, 0.9656477756261004, null, null, null, null, null, null, null, null, null, null, null, null, null, null, null, null, null, null, null, null, null, null, null, null, null, null, null, null, null, null, null, null, null, null, null], [null, null, null, null, null, null, null, null, null, null, null, null, null, null, null, null, null, null, null, null, null, null, null, null, null, null, null, null, null, null, null, null, null, null, null, null, null, null, null, null, null, null, null, null, null, null, null, null, null, null, 0.9657240892698717, null], [null, null, null, null, null, null, null, null, null, null, null, null, null, null, null, null, null, null, null, null, null, null, null, null, null, null, null, null, null, null, null, null, null, null, null, 0.9660819761494438, null, null, null, null, null, null, null, null, null, null, null, null, null, null, null, null], [null, null, null, null, null, null, null, null, null, null, null, null, null, null, null, null, null, null, 0.9664961781588531, null, null, null, null, null, null, null, null, null, null, null, null, null, null, null, null, null, null, null, null, null, null, null, null, null, null, null, null, null, null, null, null, null], [null, null, null, null, null, null, null, null, null, null, null, null, null, null, null, null, null, null, null, null, null, null, null, null, null, null, 0.9640948903554354, null, null, null, null, null, null, null, null, null, null, null, null, null, null, null, null, null, null, null, null, null, null, null, null, null], [null, null, null, null, null, null, null, null, null, null, 0.9651608836703399, null, null, null, null, null, null, null, null, null, null, null, null, null, null, null, null, null, null, null, null, null, null, null, null, null, null, null, null, null, null, null, null, null, null, null, null, null, null, null, null, null], [null, null, null, null, null, null, null, null, null, null, null, null, null, null, null, null, null, null, null, null, null, null, 0.9660552117109559, null, null, null, null, null, null, null, null, null, null, null, null, null, null, null, null, null, null, null, null, null, null, null, null, null, null, null, null, null], [null, null, null, null, null, null, null, null, null, null, null, null, null, null, null, null, null, null, null, null, null, null, null, 0.9662165573514324, null, null, null, null, null, null, null, null, null, null, null, null, null, null, null, null, null, null, null, null, null, null, null, null, null, null, null, null], [null, null, null, null, null, null, null, null, null, null, null, null, null, null, null, null, null, null, null, null, null, null, null, null, null, null, null, null, null, null, null, null, null, null, null, null, null, 0.9659511091468089, null, null, null, null, null, null, null, null, null, null, null, null, null, null], [null, null, null, null, null, null, null, null, null, null, null, null, null, null, null, null, null, null, null, null, null, null, null, null, null, null, null, null, 0.9661479134448582, null, null, null, null, null, null, null, null, null, null, null, null, null, null, null, null, null, null, null, null, null, null, null], [null, null, null, null, null, null, null, null, null, null, null, null, null, null, null, null, null, null, null, null, null, null, null, null, null, null, null, null, null, null, null, null, null, null, null, null, null, null, null, null, null, null, 0.960692411034934, null, null, null, null, null, null, null, null, null], [null, null, null, null, null, null, null, null, null, null, null, null, null, null, null, 0.9658125989542109, null, null, null, null, null, null, null, null, null, null, null, null, null, null, null, null, null, null, null, null, null, null, null, null, null, null, null, null, null, null, null, null, null, null, null, null], [null, null, null, null, null, null, null, null, null, null, null, null, null, null, null, null, null, null, null, null, null, null, null, null, null, null, null, null, null, null, null, null, null, null, null, null, null, null, null, null, null, null, null, null, null, null, null, 0.9349120024842033, null, null, null, null], [null, null, null, null, null, null, null, null, null, 0.9638549962767746, null, null, null, null, null, null, null, null, null, null, null, null, null, null, null, null, null, null, null, null, null, null, null, null, null, null, null, null, null, null, null, null, null, null, null, null, null, null, null, null, null, null], [null, null, null, null, null, null, null, null, null, null, null, null, null, null, null, null, null, null, null, null, null, null, null, null, null, 0.9614490168531203, null, null, null, null, null, null, null, null, null, null, null, null, null, null, null, null, null, null, null, null, null, null, null, null, null, null], [null, null, null, null, null, null, null, 0.9653301078058069, null, null, null, null, null, null, null, null, null, null, null, null, null, null, null, null, null, null, null, null, null, null, null, null, null, null, null, null, null, null, null, null, null, null, null, null, null, null, null, null, null, null, null, null], [null, null, null, null, null, null, null, null, null, null, null, 0.9654636560790603, null, null, null, null, null, null, null, null, null, null, null, null, null, null, null, null, null, null, null, null, null, null, null, null, null, null, null, null, null, null, null, null, null, null, null, null, null, null, null, null], [null, null, null, null, null, null, null, null, null, null, null, null, null, null, null, null, null, null, null, null, null, null, null, null, null, null, null, null, null, null, null, null, null, null, null, null, null, null, null, null, null, null, null, null, null, 0.9430147359254457, null, null, null, null, null, null], [null, null, null, null, null, null, null, null, 0.96370909267955, null, null, null, null, null, null, null, null, null, null, null, null, null, null, null, null, null, null, null, null, null, null, null, null, null, null, null, null, null, null, null, null, null, null, null, null, null, null, null, null, null, null, null], [null, null, null, null, null, null, null, null, null, null, null, null, null, null, null, null, null, null, null, null, null, null, null, null, null, null, null, null, null, null, null, null, null, null, null, null, null, null, null, null, null, null, null, null, null, null, null, null, null, null, null, null]]}, {\"marker\": {\"color\": \"black\", \"line\": {\"color\": \"Grey\", \"width\": 0.5}}, \"mode\": \"markers\", \"showlegend\": false, \"type\": \"scatter\", \"x\": [0.04239837985417904, 0.004463392998945948, 0.03710247783593982, 0.16170199753683476, 0.00967393286707375, 1.1760096602282823, 1.353454042817887, 1.013512477448444, 0.17392736957556704, 0.15451044816007484, 8.552250413676935, 8.559648869065919, 0.0010463310681730537, 0.02630961934977218, 8.897569356075648, 0.002206643068223733, 0.021800136799959794, 0.017914630395936607, 0.05696439914463783, 0.0079463512796583, 0.37572455565093704, 0.053988600576792355, 0.06371101614572536, 0.019484399312365754, 0.3497176109339869, 0.010383443637253126, 0.00366817865425139, 0.0022334644633789213, 0.002591116596186556, 0.0010181643728821939, 0.005644746026283066, 0.03607744523557369, 0.06657948718332439, 0.014621966829258828, 0.0356361328795397, 0.11395752205090479, 0.0038249812316278288, 0.2553780859410673, 0.0964642360899176, 0.01254077864827821, 0.006354843087402957, 0.09590285438044613, 0.025891473088036694, 0.0926033448201442, 0.7044842190007566, 0.04598224416610351, 0.16959923307006608, 0.028392015763314685, 0.11850315623816536, 0.24203698386397063], \"xaxis\": \"x5\", \"y\": [0.6618680618471974, 8.086230640660201, 0.06952864689008562, 0.1750300039236326, 0.01680518019972616, 0.020530533816826284, 0.42768461846209, 2.5542913283137563, 0.018688998050368725, 0.02137093874894116, 0.001620082617449181, 0.0014240237450165209, 0.002057460573404571, 0.0038974148954420747, 0.07619038564231667, 0.005467248640780835, 0.08287684030183871, 0.0736986353742997, 0.20528790013698178, 1.8293301690601609, 0.05935031259030531, 0.007760285328621599, 0.006653218220222155, 0.03774935662196809, 0.22050638749514634, 0.008553754604813191, 0.03785620605363892, 0.011887161277513221, 0.03269086093271246, 0.0028161256757211007, 0.5323894003316153, 0.1265430806657861, 0.03962702582341804, 0.3263042905584334, 0.12103628446814962, 0.05215091371717967, 0.8300674259125883, 0.010576441432516159, 0.023907742250035224, 0.013747145139813862, 0.12057384146600342, 0.023312326888009435, 0.03005460208149567, 0.017027501529365368, 0.0498652563995772, 0.09962512320523084, 0.02585297640370347, 0.004220389968619446, 0.08026597900346424, 0.007245440807228051], \"yaxis\": \"y5\"}, {\"colorbar\": {\"title\": {\"text\": \"Objective Value\"}}, \"colorscale\": [[0, \"rgb(5,10,172)\"], [0.35, \"rgb(40,60,190)\"], [0.5, \"rgb(70,100,245)\"], [0.6, \"rgb(90,120,245)\"], [0.7, \"rgb(106,137,247)\"], [1, \"rgb(220,220,220)\"]], \"connectgaps\": true, \"contours\": {\"coloring\": \"heatmap\"}, \"hoverinfo\": \"none\", \"line\": {\"smoothing\": 1.3}, \"reversescale\": false, \"showscale\": false, \"type\": \"contour\", \"x\": [0.0006467630822397339, 0.0010181643728821939, 0.0010463310681730537, 0.002206643068223733, 0.0022334644633789213, 0.002591116596186556, 0.00366817865425139, 0.0038249812316278288, 0.004463392998945948, 0.005644746026283066, 0.006354843087402957, 0.0079463512796583, 0.00967393286707375, 0.010383443637253126, 0.01254077864827821, 0.014621966829258828, 0.017914630395936607, 0.019484399312365754, 0.021800136799959794, 0.025891473088036694, 0.02630961934977218, 0.028392015763314685, 0.0356361328795397, 0.03607744523557369, 0.03710247783593982, 0.04239837985417904, 0.04598224416610351, 0.053988600576792355, 0.05696439914463783, 0.06371101614572536, 0.06657948718332439, 0.0926033448201442, 0.09590285438044613, 0.0964642360899176, 0.11395752205090479, 0.11850315623816536, 0.15451044816007484, 0.16170199753683476, 0.16959923307006608, 0.17392736957556704, 0.24203698386397063, 0.2553780859410673, 0.3497176109339869, 0.37572455565093704, 0.7044842190007566, 1.013512477448444, 1.1760096602282823, 1.353454042817887, 8.552250413676935, 8.559648869065919, 8.897569356075648, 14.006965413413381], \"xaxis\": \"x9\", \"y\": [0.0074, 0.008, 0.009, 0.01, 0.012, 0.014, 0.016, 0.018, 0.02, 0.0206], \"yaxis\": \"y9\", \"z\": [[null, null, null, null, null, null, null, null, null, null, null, null, null, null, null, null, null, null, null, null, null, null, null, null, null, null, null, null, null, null, null, null, null, null, null, null, null, null, null, null, null, null, null, null, null, null, null, null, null, null, null, null], [null, null, 0.9654791512167799, null, null, null, null, null, null, null, null, null, null, null, null, null, null, null, null, null, null, null, null, null, null, null, null, null, null, null, null, null, null, null, null, null, null, null, null, null, null, null, null, 0.9634307014917336, 0.9582815119261712, null, null, null, null, null, null, null], [null, null, null, null, null, null, null, null, null, null, null, 0.9654636560790603, null, null, null, null, null, null, null, null, null, null, null, null, null, null, null, null, null, null, null, null, null, null, null, null, null, null, null, null, null, 0.9411099055288206, null, null, null, null, null, 0.9349120024842033, null, null, null, null], [null, 0.9632682107001242, null, null, null, null, null, null, 0.96370909267955, null, null, null, null, null, null, 0.9658125989542109, null, null, null, null, null, null, null, null, null, 0.9614490168531203, null, null, null, null, null, null, null, null, null, null, null, null, null, null, null, null, null, null, null, null, null, null, null, null, null, null], [null, null, null, null, 0.9659814067807833, 0.9657993844652173, 0.9663990659640549, null, null, 0.9638549962767746, 0.9651608836703399, null, null, null, null, null, null, 0.9658870820455391, 0.9664961781588531, null, 0.9646930333214024, null, 0.9660552117109559, null, null, null, null, 0.966360010156296, null, 0.9661228311356425, 0.965805495155772, null, null, null, null, null, null, null, 0.9657404290923046, null, null, null, 0.960692411034934, null, null, null, null, null, 0.9661774617228225, 0.9660047912737255, null, null], [null, null, null, 0.9641639083366684, null, null, null, null, null, null, null, null, null, 0.9661802371154521, null, null, null, null, null, 0.9581546016680716, null, null, null, 0.9662165573514324, 0.9663443798690221, null, 0.9640948903554354, null, null, null, null, 0.9660153884468001, 0.9658953671958843, 0.9662987439673464, null, 0.9660819761494438, null, null, null, 0.9633637626415875, null, null, null, null, null, null, null, null, null, null, 0.9657240892698717, null], [null, null, null, null, null, null, null, null, null, null, null, null, null, null, 0.965898889531139, null, null, null, null, null, null, 0.9660348729097518, null, null, null, null, null, null, null, null, null, null, null, null, null, null, 0.9652223224163096, 0.9659511091468089, null, null, null, null, null, null, null, 0.9430147359254457, null, null, null, null, null, null], [null, null, null, null, null, null, null, null, null, null, null, null, 0.9659325248764232, null, null, null, 0.9656477756261004, null, null, null, null, null, null, null, null, null, null, null, null, null, null, null, null, null, 0.9652533525125997, null, null, null, null, null, 0.9650435738573538, null, null, null, null, null, null, null, null, null, null, null], [null, null, null, null, null, null, null, 0.9653301078058069, null, null, null, null, null, null, null, null, null, null, null, null, null, null, null, null, null, null, null, null, 0.9661479134448582, null, null, null, null, null, null, null, null, null, null, null, null, null, null, null, null, null, 0.9655972055590062, null, null, null, null, null], [null, null, null, null, null, null, null, null, null, null, null, null, null, null, null, null, null, null, null, null, null, null, null, null, null, null, null, null, null, null, null, null, null, null, null, null, null, null, null, null, null, null, null, null, null, null, null, null, null, null, null, null]]}, {\"marker\": {\"color\": \"black\", \"line\": {\"color\": \"Grey\", \"width\": 0.5}}, \"mode\": \"markers\", \"showlegend\": false, \"type\": \"scatter\", \"x\": [0.04239837985417904, 0.004463392998945948, 0.03710247783593982, 0.16170199753683476, 0.00967393286707375, 1.1760096602282823, 1.353454042817887, 1.013512477448444, 0.17392736957556704, 0.15451044816007484, 8.552250413676935, 8.559648869065919, 0.0010463310681730537, 0.02630961934977218, 8.897569356075648, 0.002206643068223733, 0.021800136799959794, 0.017914630395936607, 0.05696439914463783, 0.0079463512796583, 0.37572455565093704, 0.053988600576792355, 0.06371101614572536, 0.019484399312365754, 0.3497176109339869, 0.010383443637253126, 0.00366817865425139, 0.0022334644633789213, 0.002591116596186556, 0.0010181643728821939, 0.005644746026283066, 0.03607744523557369, 0.06657948718332439, 0.014621966829258828, 0.0356361328795397, 0.11395752205090479, 0.0038249812316278288, 0.2553780859410673, 0.0964642360899176, 0.01254077864827821, 0.006354843087402957, 0.09590285438044613, 0.025891473088036694, 0.0926033448201442, 0.7044842190007566, 0.04598224416610351, 0.16959923307006608, 0.028392015763314685, 0.11850315623816536, 0.24203698386397063], \"xaxis\": \"x9\", \"y\": [0.01, 0.01, 0.014, 0.016, 0.018, 0.02, 0.009, 0.016, 0.014, 0.016, 0.012, 0.012, 0.008, 0.012, 0.014, 0.014, 0.012, 0.018, 0.02, 0.009, 0.008, 0.012, 0.012, 0.012, 0.012, 0.014, 0.012, 0.012, 0.012, 0.01, 0.012, 0.014, 0.012, 0.01, 0.012, 0.018, 0.02, 0.009, 0.014, 0.016, 0.012, 0.014, 0.014, 0.014, 0.008, 0.014, 0.012, 0.016, 0.014, 0.018], \"yaxis\": \"y9\"}, {\"colorbar\": {\"title\": {\"text\": \"Objective Value\"}}, \"colorscale\": [[0, \"rgb(5,10,172)\"], [0.35, \"rgb(40,60,190)\"], [0.5, \"rgb(70,100,245)\"], [0.6, \"rgb(90,120,245)\"], [0.7, \"rgb(106,137,247)\"], [1, \"rgb(220,220,220)\"]], \"connectgaps\": true, \"contours\": {\"coloring\": \"heatmap\"}, \"hoverinfo\": \"none\", \"line\": {\"smoothing\": 1.3}, \"reversescale\": false, \"showscale\": false, \"type\": \"contour\", \"x\": [0.0006467630822397339, 0.0010181643728821939, 0.0010463310681730537, 0.002206643068223733, 0.0022334644633789213, 0.002591116596186556, 0.00366817865425139, 0.0038249812316278288, 0.004463392998945948, 0.005644746026283066, 0.006354843087402957, 0.0079463512796583, 0.00967393286707375, 0.010383443637253126, 0.01254077864827821, 0.014621966829258828, 0.017914630395936607, 0.019484399312365754, 0.021800136799959794, 0.025891473088036694, 0.02630961934977218, 0.028392015763314685, 0.0356361328795397, 0.03607744523557369, 0.03710247783593982, 0.04239837985417904, 0.04598224416610351, 0.053988600576792355, 0.05696439914463783, 0.06371101614572536, 0.06657948718332439, 0.0926033448201442, 0.09590285438044613, 0.0964642360899176, 0.11395752205090479, 0.11850315623816536, 0.15451044816007484, 0.16170199753683476, 0.16959923307006608, 0.17392736957556704, 0.24203698386397063, 0.2553780859410673, 0.3497176109339869, 0.37572455565093704, 0.7044842190007566, 1.013512477448444, 1.1760096602282823, 1.353454042817887, 8.552250413676935, 8.559648869065919, 8.897569356075648, 14.006965413413381], \"xaxis\": \"x13\", \"y\": [0.37, 0.4, 0.5, 0.6, 0.7, 0.8, 1.0, 1.03], \"yaxis\": \"y13\", \"z\": [[null, null, null, null, null, null, null, null, null, null, null, null, null, null, null, null, null, null, null, null, null, null, null, null, null, null, null, null, null, null, null, null, null, null, null, null, null, null, null, null, null, null, null, null, null, null, null, null, null, null, null, null], [null, null, null, 0.9641639083366684, null, null, null, 0.9653301078058069, 0.96370909267955, null, null, null, null, null, null, null, null, null, null, null, null, null, null, null, null, null, null, null, null, null, null, null, null, null, null, null, null, null, null, null, null, null, 0.960692411034934, null, null, null, null, null, null, null, null, null], [null, null, null, null, 0.9659814067807833, null, null, null, null, null, null, null, null, null, null, null, null, null, null, null, null, null, null, null, null, 0.9614490168531203, null, null, null, null, null, null, null, null, 0.9652533525125997, 0.9660819761494438, null, null, null, 0.9633637626415875, null, null, null, null, null, null, null, null, null, null, null, null], [null, null, null, null, null, 0.9657993844652173, null, null, null, null, 0.9651608836703399, null, null, null, null, null, null, null, null, null, null, null, null, null, null, null, null, null, null, null, null, null, null, null, null, null, 0.9652223224163096, null, null, null, null, null, null, null, null, null, null, 0.9349120024842033, null, null, null, null], [null, 0.9632682107001242, null, null, null, null, null, null, null, null, null, null, 0.9659325248764232, null, null, null, null, null, null, 0.9581546016680716, null, null, null, null, null, null, null, null, null, null, null, 0.9660153884468001, 0.9658953671958843, 0.9662987439673464, null, null, null, null, 0.9657404290923046, null, null, null, null, null, 0.9582815119261712, 0.9430147359254457, null, null, null, null, null, null], [null, null, 0.9654791512167799, null, null, null, null, null, null, null, null, null, null, 0.9661802371154521, null, null, null, null, null, null, 0.9646930333214024, 0.9660348729097518, null, null, null, null, 0.9640948903554354, 0.966360010156296, null, 0.9661228311356425, null, null, null, null, null, null, null, null, null, null, null, null, null, null, null, null, null, null, 0.9661774617228225, 0.9660047912737255, null, null], [null, null, null, null, null, null, 0.9663990659640549, null, null, 0.9638549962767746, null, 0.9654636560790603, null, null, 0.965898889531139, 0.9658125989542109, 0.9656477756261004, 0.9658870820455391, 0.9664961781588531, null, null, null, 0.9660552117109559, 0.9662165573514324, 0.9663443798690221, null, null, null, 0.9661479134448582, null, 0.965805495155772, null, null, null, null, null, null, 0.9659511091468089, null, null, 0.9650435738573538, 0.9411099055288206, null, 0.9634307014917336, null, null, 0.9655972055590062, null, null, null, 0.9657240892698717, null], [null, null, null, null, null, null, null, null, null, null, null, null, null, null, null, null, null, null, null, null, null, null, null, null, null, null, null, null, null, null, null, null, null, null, null, null, null, null, null, null, null, null, null, null, null, null, null, null, null, null, null, null]]}, {\"marker\": {\"color\": \"black\", \"line\": {\"color\": \"Grey\", \"width\": 0.5}}, \"mode\": \"markers\", \"showlegend\": false, \"type\": \"scatter\", \"x\": [0.04239837985417904, 0.004463392998945948, 0.03710247783593982, 0.16170199753683476, 0.00967393286707375, 1.1760096602282823, 1.353454042817887, 1.013512477448444, 0.17392736957556704, 0.15451044816007484, 8.552250413676935, 8.559648869065919, 0.0010463310681730537, 0.02630961934977218, 8.897569356075648, 0.002206643068223733, 0.021800136799959794, 0.017914630395936607, 0.05696439914463783, 0.0079463512796583, 0.37572455565093704, 0.053988600576792355, 0.06371101614572536, 0.019484399312365754, 0.3497176109339869, 0.010383443637253126, 0.00366817865425139, 0.0022334644633789213, 0.002591116596186556, 0.0010181643728821939, 0.005644746026283066, 0.03607744523557369, 0.06657948718332439, 0.014621966829258828, 0.0356361328795397, 0.11395752205090479, 0.0038249812316278288, 0.2553780859410673, 0.0964642360899176, 0.01254077864827821, 0.006354843087402957, 0.09590285438044613, 0.025891473088036694, 0.0926033448201442, 0.7044842190007566, 0.04598224416610351, 0.16959923307006608, 0.028392015763314685, 0.11850315623816536, 0.24203698386397063], \"xaxis\": \"x13\", \"y\": [0.5, 0.4, 1.0, 1.0, 0.7, 1.0, 0.6, 0.7, 0.5, 0.6, 0.8, 0.8, 0.8, 0.8, 1.0, 0.4, 1.0, 1.0, 1.0, 1.0, 1.0, 0.8, 0.8, 1.0, 0.4, 0.8, 1.0, 0.5, 0.6, 0.7, 1.0, 1.0, 1.0, 1.0, 1.0, 0.5, 0.4, 1.0, 0.7, 1.0, 0.6, 0.7, 0.7, 0.7, 0.7, 0.8, 0.7, 0.8, 0.5, 1.0], \"yaxis\": \"y13\"}, {\"colorbar\": {\"title\": {\"text\": \"Objective Value\"}}, \"colorscale\": [[0, \"rgb(5,10,172)\"], [0.35, \"rgb(40,60,190)\"], [0.5, \"rgb(70,100,245)\"], [0.6, \"rgb(90,120,245)\"], [0.7, \"rgb(106,137,247)\"], [1, \"rgb(220,220,220)\"]], \"connectgaps\": true, \"contours\": {\"coloring\": \"heatmap\"}, \"hoverinfo\": \"none\", \"line\": {\"smoothing\": 1.3}, \"reversescale\": false, \"showscale\": false, \"type\": \"contour\", \"x\": [0.0009242847474723136, 0.0014240237450165209, 0.001620082617449181, 0.002057460573404571, 0.0028161256757211007, 0.0038974148954420747, 0.004220389968619446, 0.005467248640780835, 0.006653218220222155, 0.007245440807228051, 0.007760285328621599, 0.008553754604813191, 0.010576441432516159, 0.011887161277513221, 0.013747145139813862, 0.01680518019972616, 0.017027501529365368, 0.018688998050368725, 0.020530533816826284, 0.02137093874894116, 0.023312326888009435, 0.023907742250035224, 0.02585297640370347, 0.03005460208149567, 0.03269086093271246, 0.03774935662196809, 0.03785620605363892, 0.03962702582341804, 0.0498652563995772, 0.05215091371717967, 0.05935031259030531, 0.06952864689008562, 0.0736986353742997, 0.07619038564231667, 0.08026597900346424, 0.08287684030183871, 0.09962512320523084, 0.12057384146600342, 0.12103628446814962, 0.1265430806657861, 0.1750300039236326, 0.20528790013698178, 0.22050638749514634, 0.3263042905584334, 0.42768461846209, 0.5323894003316153, 0.6618680618471974, 0.8300674259125883, 1.8293301690601609, 2.5542913283137563, 8.086230640660201, 12.458265130384182], \"xaxis\": \"x2\", \"y\": [0.0006467630822397339, 0.0010181643728821939, 0.0010463310681730537, 0.002206643068223733, 0.0022334644633789213, 0.002591116596186556, 0.00366817865425139, 0.0038249812316278288, 0.004463392998945948, 0.005644746026283066, 0.006354843087402957, 0.0079463512796583, 0.00967393286707375, 0.010383443637253126, 0.01254077864827821, 0.014621966829258828, 0.017914630395936607, 0.019484399312365754, 0.021800136799959794, 0.025891473088036694, 0.02630961934977218, 0.028392015763314685, 0.0356361328795397, 0.03607744523557369, 0.03710247783593982, 0.04239837985417904, 0.04598224416610351, 0.053988600576792355, 0.05696439914463783, 0.06371101614572536, 0.06657948718332439, 0.0926033448201442, 0.09590285438044613, 0.0964642360899176, 0.11395752205090479, 0.11850315623816536, 0.15451044816007484, 0.16170199753683476, 0.16959923307006608, 0.17392736957556704, 0.24203698386397063, 0.2553780859410673, 0.3497176109339869, 0.37572455565093704, 0.7044842190007566, 1.013512477448444, 1.1760096602282823, 1.353454042817887, 8.552250413676935, 8.559648869065919, 8.897569356075648, 14.006965413413381], \"yaxis\": \"y2\", \"z\": [[null, null, null, null, null, null, null, null, null, null, null, null, null, null, null, null, null, null, null, null, null, null, null, null, null, null, null, null, null, null, null, null, null, null, null, null, null, null, null, null, null, null, null, null, null, null, null, null, null, null, null, null], [null, null, null, null, 0.9632682107001242, null, null, null, null, null, null, null, null, null, null, null, null, null, null, null, null, null, null, null, null, null, null, null, null, null, null, null, null, null, null, null, null, null, null, null, null, null, null, null, null, null, null, null, null, null, null, null], [null, null, null, 0.9654791512167799, null, null, null, null, null, null, null, null, null, null, null, null, null, null, null, null, null, null, null, null, null, null, null, null, null, null, null, null, null, null, null, null, null, null, null, null, null, null, null, null, null, null, null, null, null, null, null, null], [null, null, null, null, null, null, null, 0.9641639083366684, null, null, null, null, null, null, null, null, null, null, null, null, null, null, null, null, null, null, null, null, null, null, null, null, null, null, null, null, null, null, null, null, null, null, null, null, null, null, null, null, null, null, null, null], [null, null, null, null, null, null, null, null, null, null, null, null, null, 0.9659814067807833, null, null, null, null, null, null, null, null, null, null, null, null, null, null, null, null, null, null, null, null, null, null, null, null, null, null, null, null, null, null, null, null, null, null, null, null, null, null], [null, null, null, null, null, null, null, null, null, null, null, null, null, null, null, null, null, null, null, null, null, null, null, null, 0.9657993844652173, null, null, null, null, null, null, null, null, null, null, null, null, null, null, null, null, null, null, null, null, null, null, null, null, null, null, null], [null, null, null, null, null, null, null, null, null, null, null, null, null, null, null, null, null, null, null, null, null, null, null, null, null, null, 0.9663990659640549, null, null, null, null, null, null, null, null, null, null, null, null, null, null, null, null, null, null, null, null, null, null, null, null, null], [null, null, null, null, null, null, null, null, null, null, null, null, null, null, null, null, null, null, null, null, null, null, null, null, null, null, null, null, null, null, null, null, null, null, null, null, null, null, null, null, null, null, null, null, null, null, null, 0.9653301078058069, null, null, null, null], [null, null, null, null, null, null, null, null, null, null, null, null, null, null, null, null, null, null, null, null, null, null, null, null, null, null, null, null, null, null, null, null, null, null, null, null, null, null, null, null, null, null, null, null, null, null, null, null, null, null, 0.96370909267955, null], [null, null, null, null, null, null, null, null, null, null, null, null, null, null, null, null, null, null, null, null, null, null, null, null, null, null, null, null, null, null, null, null, null, null, null, null, null, null, null, null, null, null, null, null, null, 0.9638549962767746, null, null, null, null, null, null], [null, null, null, null, null, null, null, null, null, null, null, null, null, null, null, null, null, null, null, null, null, null, null, null, null, null, null, null, null, null, null, null, null, null, null, null, null, 0.9651608836703399, null, null, null, null, null, null, null, null, null, null, null, null, null, null], [null, null, null, null, null, null, null, null, null, null, null, null, null, null, null, null, null, null, null, null, null, null, null, null, null, null, null, null, null, null, null, null, null, null, null, null, null, null, null, null, null, null, null, null, null, null, null, null, 0.9654636560790603, null, null, null], [null, null, null, null, null, null, null, null, null, null, null, null, null, null, null, 0.9659325248764232, null, null, null, null, null, null, null, null, null, null, null, null, null, null, null, null, null, null, null, null, null, null, null, null, null, null, null, null, null, null, null, null, null, null, null, null], [null, null, null, null, null, null, null, null, null, null, null, 0.9661802371154521, null, null, null, null, null, null, null, null, null, null, null, null, null, null, null, null, null, null, null, null, null, null, null, null, null, null, null, null, null, null, null, null, null, null, null, null, null, null, null, null], [null, null, null, null, null, null, null, null, null, null, null, null, null, null, 0.965898889531139, null, null, null, null, null, null, null, null, null, null, null, null, null, null, null, null, null, null, null, null, null, null, null, null, null, null, null, null, null, null, null, null, null, null, null, null, null], [null, null, null, null, null, null, null, null, null, null, null, null, null, null, null, null, null, null, null, null, null, null, null, null, null, null, null, null, null, null, null, null, null, null, null, null, null, null, null, null, null, null, null, 0.9658125989542109, null, null, null, null, null, null, null, null], [null, null, null, null, null, null, null, null, null, null, null, null, null, null, null, null, null, null, null, null, null, null, null, null, null, null, null, null, null, null, null, null, 0.9656477756261004, null, null, null, null, null, null, null, null, null, null, null, null, null, null, null, null, null, null, null], [null, null, null, null, null, null, null, null, null, null, null, null, null, null, null, null, null, null, null, null, null, null, null, null, null, 0.9658870820455391, null, null, null, null, null, null, null, null, null, null, null, null, null, null, null, null, null, null, null, null, null, null, null, null, null, null], [null, null, null, null, null, null, null, null, null, null, null, null, null, null, null, null, null, null, null, null, null, null, null, null, null, null, null, null, null, null, null, null, null, null, null, 0.9664961781588531, null, null, null, null, null, null, null, null, null, null, null, null, null, null, null, null], [null, null, null, null, null, null, null, null, null, null, null, null, null, null, null, null, null, null, null, null, null, null, null, 0.9581546016680716, null, null, null, null, null, null, null, null, null, null, null, null, null, null, null, null, null, null, null, null, null, null, null, null, null, null, null, null], [null, null, null, null, null, 0.9646930333214024, null, null, null, null, null, null, null, null, null, null, null, null, null, null, null, null, null, null, null, null, null, null, null, null, null, null, null, null, null, null, null, null, null, null, null, null, null, null, null, null, null, null, null, null, null, null], [null, null, null, null, null, null, 0.9660348729097518, null, null, null, null, null, null, null, null, null, null, null, null, null, null, null, null, null, null, null, null, null, null, null, null, null, null, null, null, null, null, null, null, null, null, null, null, null, null, null, null, null, null, null, null, null], [null, null, null, null, null, null, null, null, null, null, null, null, null, null, null, null, null, null, null, null, null, null, null, null, null, null, null, null, null, null, null, null, null, null, null, null, null, null, 0.9660552117109559, null, null, null, null, null, null, null, null, null, null, null, null, null], [null, null, null, null, null, null, null, null, null, null, null, null, null, null, null, null, null, null, null, null, null, null, null, null, null, null, null, null, null, null, null, null, null, null, null, null, null, null, null, 0.9662165573514324, null, null, null, null, null, null, null, null, null, null, null, null], [null, null, null, null, null, null, null, null, null, null, null, null, null, null, null, null, null, null, null, null, null, null, null, null, null, null, null, null, null, null, null, 0.9663443798690221, null, null, null, null, null, null, null, null, null, null, null, null, null, null, null, null, null, null, null, null], [null, null, null, null, null, null, null, null, null, null, null, null, null, null, null, null, null, null, null, null, null, null, null, null, null, null, null, null, null, null, null, null, null, null, null, null, null, null, null, null, null, null, null, null, null, null, 0.9614490168531203, null, null, null, null, null], [null, null, null, null, null, null, null, null, null, null, null, null, null, null, null, null, null, null, null, null, null, null, null, null, null, null, null, null, null, null, null, null, null, null, null, null, 0.9640948903554354, null, null, null, null, null, null, null, null, null, null, null, null, null, null, null], [null, null, null, null, null, null, null, null, null, null, 0.966360010156296, null, null, null, null, null, null, null, null, null, null, null, null, null, null, null, null, null, null, null, null, null, null, null, null, null, null, null, null, null, null, null, null, null, null, null, null, null, null, null, null, null], [null, null, null, null, null, null, null, null, null, null, null, null, null, null, null, null, null, null, null, null, null, null, null, null, null, null, null, null, null, null, null, null, null, null, null, null, null, null, null, null, null, 0.9661479134448582, null, null, null, null, null, null, null, null, null, null], [null, null, null, null, null, null, null, null, 0.9661228311356425, null, null, null, null, null, null, null, null, null, null, null, null, null, null, null, null, null, null, null, null, null, null, null, null, null, null, null, null, null, null, null, null, null, null, null, null, null, null, null, null, null, null, null], [null, null, null, null, null, null, null, null, null, null, null, null, null, null, null, null, null, null, null, null, null, null, null, null, null, null, null, 0.965805495155772, null, null, null, null, null, null, null, null, null, null, null, null, null, null, null, null, null, null, null, null, null, null, null, null], [null, null, null, null, null, null, null, null, null, null, null, null, null, null, null, null, 0.9660153884468001, null, null, null, null, null, null, null, null, null, null, null, null, null, null, null, null, null, null, null, null, null, null, null, null, null, null, null, null, null, null, null, null, null, null, null], [null, null, null, null, null, null, null, null, null, null, null, null, null, null, null, null, null, null, null, null, 0.9658953671958843, null, null, null, null, null, null, null, null, null, null, null, null, null, null, null, null, null, null, null, null, null, null, null, null, null, null, null, null, null, null, null], [null, null, null, null, null, null, null, null, null, null, null, null, null, null, null, null, null, null, null, null, null, 0.9662987439673464, null, null, null, null, null, null, null, null, null, null, null, null, null, null, null, null, null, null, null, null, null, null, null, null, null, null, null, null, null, null], [null, null, null, null, null, null, null, null, null, null, null, null, null, null, null, null, null, null, null, null, null, null, null, null, null, null, null, null, null, 0.9652533525125997, null, null, null, null, null, null, null, null, null, null, null, null, null, null, null, null, null, null, null, null, null, null], [null, null, null, null, null, null, null, null, null, null, null, null, null, null, null, null, null, null, null, null, null, null, null, null, null, null, null, null, null, null, null, null, null, null, 0.9660819761494438, null, null, null, null, null, null, null, null, null, null, null, null, null, null, null, null, null], [null, null, null, null, null, null, null, null, null, null, null, null, null, null, null, null, null, null, null, 0.9652223224163096, null, null, null, null, null, null, null, null, null, null, null, null, null, null, null, null, null, null, null, null, null, null, null, null, null, null, null, null, null, null, null, null], [null, null, null, null, null, null, null, null, null, null, null, null, null, null, null, null, null, null, null, null, null, null, null, null, null, null, null, null, null, null, null, null, null, null, null, null, null, null, null, null, 0.9659511091468089, null, null, null, null, null, null, null, null, null, null, null], [null, null, null, null, null, null, null, null, null, null, null, null, null, null, null, null, null, null, null, null, null, null, 0.9657404290923046, null, null, null, null, null, null, null, null, null, null, null, null, null, null, null, null, null, null, null, null, null, null, null, null, null, null, null, null, null], [null, null, null, null, null, null, null, null, null, null, null, null, null, null, null, null, null, 0.9633637626415875, null, null, null, null, null, null, null, null, null, null, null, null, null, null, null, null, null, null, null, null, null, null, null, null, null, null, null, null, null, null, null, null, null, null], [null, null, null, null, null, null, null, null, null, 0.9650435738573538, null, null, null, null, null, null, null, null, null, null, null, null, null, null, null, null, null, null, null, null, null, null, null, null, null, null, null, null, null, null, null, null, null, null, null, null, null, null, null, null, null, null], [null, null, null, null, null, null, null, null, null, null, null, null, 0.9411099055288206, null, null, null, null, null, null, null, null, null, null, null, null, null, null, null, null, null, null, null, null, null, null, null, null, null, null, null, null, null, null, null, null, null, null, null, null, null, null, null], [null, null, null, null, null, null, null, null, null, null, null, null, null, null, null, null, null, null, null, null, null, null, null, null, null, null, null, null, null, null, null, null, null, null, null, null, null, null, null, null, null, null, 0.960692411034934, null, null, null, null, null, null, null, null, null], [null, null, null, null, null, null, null, null, null, null, null, null, null, null, null, null, null, null, null, null, null, null, null, null, null, null, null, null, null, null, 0.9634307014917336, null, null, null, null, null, null, null, null, null, null, null, null, null, null, null, null, null, null, null, null, null], [null, null, null, null, null, null, null, null, null, null, null, null, null, null, null, null, null, null, null, null, null, null, null, null, null, null, null, null, 0.9582815119261712, null, null, null, null, null, null, null, null, null, null, null, null, null, null, null, null, null, null, null, null, null, null, null], [null, null, null, null, null, null, null, null, null, null, null, null, null, null, null, null, null, null, null, null, null, null, null, null, null, null, null, null, null, null, null, null, null, null, null, null, null, null, null, null, null, null, null, null, null, null, null, null, null, 0.9430147359254457, null, null], [null, null, null, null, null, null, null, null, null, null, null, null, null, null, null, null, null, null, 0.9655972055590062, null, null, null, null, null, null, null, null, null, null, null, null, null, null, null, null, null, null, null, null, null, null, null, null, null, null, null, null, null, null, null, null, null], [null, null, null, null, null, null, null, null, null, null, null, null, null, null, null, null, null, null, null, null, null, null, null, null, null, null, null, null, null, null, null, null, null, null, null, null, null, null, null, null, null, null, null, null, 0.9349120024842033, null, null, null, null, null, null, null], [null, null, 0.9661774617228225, null, null, null, null, null, null, null, null, null, null, null, null, null, null, null, null, null, null, null, null, null, null, null, null, null, null, null, null, null, null, null, null, null, null, null, null, null, null, null, null, null, null, null, null, null, null, null, null, null], [null, 0.9660047912737255, null, null, null, null, null, null, null, null, null, null, null, null, null, null, null, null, null, null, null, null, null, null, null, null, null, null, null, null, null, null, null, null, null, null, null, null, null, null, null, null, null, null, null, null, null, null, null, null, null, null], [null, null, null, null, null, null, null, null, null, null, null, null, null, null, null, null, null, null, null, null, null, null, null, null, null, null, null, null, null, null, null, null, null, 0.9657240892698717, null, null, null, null, null, null, null, null, null, null, null, null, null, null, null, null, null, null], [null, null, null, null, null, null, null, null, null, null, null, null, null, null, null, null, null, null, null, null, null, null, null, null, null, null, null, null, null, null, null, null, null, null, null, null, null, null, null, null, null, null, null, null, null, null, null, null, null, null, null, null]]}, {\"marker\": {\"color\": \"black\", \"line\": {\"color\": \"Grey\", \"width\": 0.5}}, \"mode\": \"markers\", \"showlegend\": false, \"type\": \"scatter\", \"x\": [0.6618680618471974, 8.086230640660201, 0.06952864689008562, 0.1750300039236326, 0.01680518019972616, 0.020530533816826284, 0.42768461846209, 2.5542913283137563, 0.018688998050368725, 0.02137093874894116, 0.001620082617449181, 0.0014240237450165209, 0.002057460573404571, 0.0038974148954420747, 0.07619038564231667, 0.005467248640780835, 0.08287684030183871, 0.0736986353742997, 0.20528790013698178, 1.8293301690601609, 0.05935031259030531, 0.007760285328621599, 0.006653218220222155, 0.03774935662196809, 0.22050638749514634, 0.008553754604813191, 0.03785620605363892, 0.011887161277513221, 0.03269086093271246, 0.0028161256757211007, 0.5323894003316153, 0.1265430806657861, 0.03962702582341804, 0.3263042905584334, 0.12103628446814962, 0.05215091371717967, 0.8300674259125883, 0.010576441432516159, 0.023907742250035224, 0.013747145139813862, 0.12057384146600342, 0.023312326888009435, 0.03005460208149567, 0.017027501529365368, 0.0498652563995772, 0.09962512320523084, 0.02585297640370347, 0.004220389968619446, 0.08026597900346424, 0.007245440807228051], \"xaxis\": \"x2\", \"y\": [0.04239837985417904, 0.004463392998945948, 0.03710247783593982, 0.16170199753683476, 0.00967393286707375, 1.1760096602282823, 1.353454042817887, 1.013512477448444, 0.17392736957556704, 0.15451044816007484, 8.552250413676935, 8.559648869065919, 0.0010463310681730537, 0.02630961934977218, 8.897569356075648, 0.002206643068223733, 0.021800136799959794, 0.017914630395936607, 0.05696439914463783, 0.0079463512796583, 0.37572455565093704, 0.053988600576792355, 0.06371101614572536, 0.019484399312365754, 0.3497176109339869, 0.010383443637253126, 0.00366817865425139, 0.0022334644633789213, 0.002591116596186556, 0.0010181643728821939, 0.005644746026283066, 0.03607744523557369, 0.06657948718332439, 0.014621966829258828, 0.0356361328795397, 0.11395752205090479, 0.0038249812316278288, 0.2553780859410673, 0.0964642360899176, 0.01254077864827821, 0.006354843087402957, 0.09590285438044613, 0.025891473088036694, 0.0926033448201442, 0.7044842190007566, 0.04598224416610351, 0.16959923307006608, 0.028392015763314685, 0.11850315623816536, 0.24203698386397063], \"yaxis\": \"y2\"}, {\"type\": \"scatter\", \"xaxis\": \"x6\", \"yaxis\": \"y6\"}, {\"colorbar\": {\"title\": {\"text\": \"Objective Value\"}}, \"colorscale\": [[0, \"rgb(5,10,172)\"], [0.35, \"rgb(40,60,190)\"], [0.5, \"rgb(70,100,245)\"], [0.6, \"rgb(90,120,245)\"], [0.7, \"rgb(106,137,247)\"], [1, \"rgb(220,220,220)\"]], \"connectgaps\": true, \"contours\": {\"coloring\": \"heatmap\"}, \"hoverinfo\": \"none\", \"line\": {\"smoothing\": 1.3}, \"reversescale\": false, \"showscale\": false, \"type\": \"contour\", \"x\": [0.0009242847474723136, 0.0014240237450165209, 0.001620082617449181, 0.002057460573404571, 0.0028161256757211007, 0.0038974148954420747, 0.004220389968619446, 0.005467248640780835, 0.006653218220222155, 0.007245440807228051, 0.007760285328621599, 0.008553754604813191, 0.010576441432516159, 0.011887161277513221, 0.013747145139813862, 0.01680518019972616, 0.017027501529365368, 0.018688998050368725, 0.020530533816826284, 0.02137093874894116, 0.023312326888009435, 0.023907742250035224, 0.02585297640370347, 0.03005460208149567, 0.03269086093271246, 0.03774935662196809, 0.03785620605363892, 0.03962702582341804, 0.0498652563995772, 0.05215091371717967, 0.05935031259030531, 0.06952864689008562, 0.0736986353742997, 0.07619038564231667, 0.08026597900346424, 0.08287684030183871, 0.09962512320523084, 0.12057384146600342, 0.12103628446814962, 0.1265430806657861, 0.1750300039236326, 0.20528790013698178, 0.22050638749514634, 0.3263042905584334, 0.42768461846209, 0.5323894003316153, 0.6618680618471974, 0.8300674259125883, 1.8293301690601609, 2.5542913283137563, 8.086230640660201, 12.458265130384182], \"xaxis\": \"x10\", \"y\": [0.0074, 0.008, 0.009, 0.01, 0.012, 0.014, 0.016, 0.018, 0.02, 0.0206], \"yaxis\": \"y10\", \"z\": [[null, null, null, null, null, null, null, null, null, null, null, null, null, null, null, null, null, null, null, null, null, null, null, null, null, null, null, null, null, null, null, null, null, null, null, null, null, null, null, null, null, null, null, null, null, null, null, null, null, null, null, null], [null, null, null, 0.9654791512167799, null, null, null, null, null, null, null, null, null, null, null, null, null, null, null, null, null, null, null, null, null, null, null, null, 0.9582815119261712, null, 0.9634307014917336, null, null, null, null, null, null, null, null, null, null, null, null, null, null, null, null, null, null, null, null, null], [null, null, null, null, null, null, null, null, null, null, null, null, 0.9411099055288206, null, null, null, null, null, null, null, null, null, null, null, null, null, null, null, null, null, null, null, null, null, null, null, null, null, null, null, null, null, null, null, 0.9349120024842033, null, null, null, 0.9654636560790603, null, null, null], [null, null, null, null, 0.9632682107001242, null, null, null, null, null, null, null, null, null, null, null, null, null, null, null, null, null, null, null, null, null, null, null, null, null, null, null, null, null, null, null, null, null, null, null, null, null, null, 0.9658125989542109, null, null, 0.9614490168531203, null, null, null, 0.96370909267955, null], [null, 0.9660047912737255, 0.9661774617228225, null, null, 0.9646930333214024, null, null, 0.9661228311356425, null, 0.966360010156296, null, null, 0.9659814067807833, null, null, null, null, null, null, null, null, 0.9657404290923046, null, 0.9657993844652173, 0.9658870820455391, 0.9663990659640549, 0.965805495155772, null, null, null, null, null, null, null, 0.9664961781588531, null, 0.9651608836703399, 0.9660552117109559, null, null, null, 0.960692411034934, null, null, 0.9638549962767746, null, null, null, null, null, null], [null, null, null, null, null, null, null, 0.9641639083366684, null, null, null, 0.9661802371154521, null, null, null, null, 0.9660153884468001, 0.9633637626415875, null, null, 0.9658953671958843, 0.9662987439673464, null, 0.9581546016680716, null, null, null, null, null, null, null, 0.9663443798690221, null, 0.9657240892698717, 0.9660819761494438, null, 0.9640948903554354, null, null, 0.9662165573514324, null, null, null, null, null, null, null, null, null, null, null, null], [null, null, null, null, null, null, 0.9660348729097518, null, null, null, null, null, null, null, 0.965898889531139, null, null, null, null, 0.9652223224163096, null, null, null, null, null, null, null, null, null, null, null, null, null, null, null, null, null, null, null, null, 0.9659511091468089, null, null, null, null, null, null, null, null, 0.9430147359254457, null, null], [null, null, null, null, null, null, null, null, null, 0.9650435738573538, null, null, null, null, null, 0.9659325248764232, null, null, null, null, null, null, null, null, null, null, null, null, null, 0.9652533525125997, null, null, 0.9656477756261004, null, null, null, null, null, null, null, null, null, null, null, null, null, null, null, null, null, null, null], [null, null, null, null, null, null, null, null, null, null, null, null, null, null, null, null, null, null, 0.9655972055590062, null, null, null, null, null, null, null, null, null, null, null, null, null, null, null, null, null, null, null, null, null, null, 0.9661479134448582, null, null, null, null, null, 0.9653301078058069, null, null, null, null], [null, null, null, null, null, null, null, null, null, null, null, null, null, null, null, null, null, null, null, null, null, null, null, null, null, null, null, null, null, null, null, null, null, null, null, null, null, null, null, null, null, null, null, null, null, null, null, null, null, null, null, null]]}, {\"marker\": {\"color\": \"black\", \"line\": {\"color\": \"Grey\", \"width\": 0.5}}, \"mode\": \"markers\", \"showlegend\": false, \"type\": \"scatter\", \"x\": [0.6618680618471974, 8.086230640660201, 0.06952864689008562, 0.1750300039236326, 0.01680518019972616, 0.020530533816826284, 0.42768461846209, 2.5542913283137563, 0.018688998050368725, 0.02137093874894116, 0.001620082617449181, 0.0014240237450165209, 0.002057460573404571, 0.0038974148954420747, 0.07619038564231667, 0.005467248640780835, 0.08287684030183871, 0.0736986353742997, 0.20528790013698178, 1.8293301690601609, 0.05935031259030531, 0.007760285328621599, 0.006653218220222155, 0.03774935662196809, 0.22050638749514634, 0.008553754604813191, 0.03785620605363892, 0.011887161277513221, 0.03269086093271246, 0.0028161256757211007, 0.5323894003316153, 0.1265430806657861, 0.03962702582341804, 0.3263042905584334, 0.12103628446814962, 0.05215091371717967, 0.8300674259125883, 0.010576441432516159, 0.023907742250035224, 0.013747145139813862, 0.12057384146600342, 0.023312326888009435, 0.03005460208149567, 0.017027501529365368, 0.0498652563995772, 0.09962512320523084, 0.02585297640370347, 0.004220389968619446, 0.08026597900346424, 0.007245440807228051], \"xaxis\": \"x10\", \"y\": [0.01, 0.01, 0.014, 0.016, 0.018, 0.02, 0.009, 0.016, 0.014, 0.016, 0.012, 0.012, 0.008, 0.012, 0.014, 0.014, 0.012, 0.018, 0.02, 0.009, 0.008, 0.012, 0.012, 0.012, 0.012, 0.014, 0.012, 0.012, 0.012, 0.01, 0.012, 0.014, 0.012, 0.01, 0.012, 0.018, 0.02, 0.009, 0.014, 0.016, 0.012, 0.014, 0.014, 0.014, 0.008, 0.014, 0.012, 0.016, 0.014, 0.018], \"yaxis\": \"y10\"}, {\"colorbar\": {\"title\": {\"text\": \"Objective Value\"}}, \"colorscale\": [[0, \"rgb(5,10,172)\"], [0.35, \"rgb(40,60,190)\"], [0.5, \"rgb(70,100,245)\"], [0.6, \"rgb(90,120,245)\"], [0.7, \"rgb(106,137,247)\"], [1, \"rgb(220,220,220)\"]], \"connectgaps\": true, \"contours\": {\"coloring\": \"heatmap\"}, \"hoverinfo\": \"none\", \"line\": {\"smoothing\": 1.3}, \"reversescale\": false, \"showscale\": false, \"type\": \"contour\", \"x\": [0.0009242847474723136, 0.0014240237450165209, 0.001620082617449181, 0.002057460573404571, 0.0028161256757211007, 0.0038974148954420747, 0.004220389968619446, 0.005467248640780835, 0.006653218220222155, 0.007245440807228051, 0.007760285328621599, 0.008553754604813191, 0.010576441432516159, 0.011887161277513221, 0.013747145139813862, 0.01680518019972616, 0.017027501529365368, 0.018688998050368725, 0.020530533816826284, 0.02137093874894116, 0.023312326888009435, 0.023907742250035224, 0.02585297640370347, 0.03005460208149567, 0.03269086093271246, 0.03774935662196809, 0.03785620605363892, 0.03962702582341804, 0.0498652563995772, 0.05215091371717967, 0.05935031259030531, 0.06952864689008562, 0.0736986353742997, 0.07619038564231667, 0.08026597900346424, 0.08287684030183871, 0.09962512320523084, 0.12057384146600342, 0.12103628446814962, 0.1265430806657861, 0.1750300039236326, 0.20528790013698178, 0.22050638749514634, 0.3263042905584334, 0.42768461846209, 0.5323894003316153, 0.6618680618471974, 0.8300674259125883, 1.8293301690601609, 2.5542913283137563, 8.086230640660201, 12.458265130384182], \"xaxis\": \"x14\", \"y\": [0.37, 0.4, 0.5, 0.6, 0.7, 0.8, 1.0, 1.03], \"yaxis\": \"y14\", \"z\": [[null, null, null, null, null, null, null, null, null, null, null, null, null, null, null, null, null, null, null, null, null, null, null, null, null, null, null, null, null, null, null, null, null, null, null, null, null, null, null, null, null, null, null, null, null, null, null, null, null, null, null, null], [null, null, null, null, null, null, null, 0.9641639083366684, null, null, null, null, null, null, null, null, null, null, null, null, null, null, null, null, null, null, null, null, null, null, null, null, null, null, null, null, null, null, null, null, null, null, 0.960692411034934, null, null, null, null, 0.9653301078058069, null, null, 0.96370909267955, null], [null, null, null, null, null, null, null, null, null, null, null, null, null, 0.9659814067807833, null, null, null, 0.9633637626415875, null, null, null, null, null, null, null, null, null, null, null, 0.9652533525125997, null, null, null, null, 0.9660819761494438, null, null, null, null, null, null, null, null, null, null, null, 0.9614490168531203, null, null, null, null, null], [null, null, null, null, null, null, null, null, null, null, null, null, null, null, null, null, null, null, null, 0.9652223224163096, null, null, null, null, 0.9657993844652173, null, null, null, null, null, null, null, null, null, null, null, null, 0.9651608836703399, null, null, null, null, null, null, 0.9349120024842033, null, null, null, null, null, null, null], [null, null, null, null, 0.9632682107001242, null, null, null, null, null, null, null, null, null, null, 0.9659325248764232, 0.9660153884468001, null, null, null, 0.9658953671958843, 0.9662987439673464, 0.9657404290923046, 0.9581546016680716, null, null, null, null, 0.9582815119261712, null, null, null, null, null, null, null, null, null, null, null, null, null, null, null, null, null, null, null, null, 0.9430147359254457, null, null], [null, 0.9660047912737255, 0.9661774617228225, 0.9654791512167799, null, 0.9646930333214024, 0.9660348729097518, null, 0.9661228311356425, null, 0.966360010156296, 0.9661802371154521, null, null, null, null, null, null, null, null, null, null, null, null, null, null, null, null, null, null, null, null, null, null, null, null, 0.9640948903554354, null, null, null, null, null, null, null, null, null, null, null, null, null, null, null], [null, null, null, null, null, null, null, null, null, 0.9650435738573538, null, null, 0.9411099055288206, null, 0.965898889531139, null, null, null, 0.9655972055590062, null, null, null, null, null, null, 0.9658870820455391, 0.9663990659640549, 0.965805495155772, null, null, 0.9634307014917336, 0.9663443798690221, 0.9656477756261004, 0.9657240892698717, null, 0.9664961781588531, null, null, 0.9660552117109559, 0.9662165573514324, 0.9659511091468089, 0.9661479134448582, null, 0.9658125989542109, null, 0.9638549962767746, null, null, 0.9654636560790603, null, null, null], [null, null, null, null, null, null, null, null, null, null, null, null, null, null, null, null, null, null, null, null, null, null, null, null, null, null, null, null, null, null, null, null, null, null, null, null, null, null, null, null, null, null, null, null, null, null, null, null, null, null, null, null]]}, {\"marker\": {\"color\": \"black\", \"line\": {\"color\": \"Grey\", \"width\": 0.5}}, \"mode\": \"markers\", \"showlegend\": false, \"type\": \"scatter\", \"x\": [0.6618680618471974, 8.086230640660201, 0.06952864689008562, 0.1750300039236326, 0.01680518019972616, 0.020530533816826284, 0.42768461846209, 2.5542913283137563, 0.018688998050368725, 0.02137093874894116, 0.001620082617449181, 0.0014240237450165209, 0.002057460573404571, 0.0038974148954420747, 0.07619038564231667, 0.005467248640780835, 0.08287684030183871, 0.0736986353742997, 0.20528790013698178, 1.8293301690601609, 0.05935031259030531, 0.007760285328621599, 0.006653218220222155, 0.03774935662196809, 0.22050638749514634, 0.008553754604813191, 0.03785620605363892, 0.011887161277513221, 0.03269086093271246, 0.0028161256757211007, 0.5323894003316153, 0.1265430806657861, 0.03962702582341804, 0.3263042905584334, 0.12103628446814962, 0.05215091371717967, 0.8300674259125883, 0.010576441432516159, 0.023907742250035224, 0.013747145139813862, 0.12057384146600342, 0.023312326888009435, 0.03005460208149567, 0.017027501529365368, 0.0498652563995772, 0.09962512320523084, 0.02585297640370347, 0.004220389968619446, 0.08026597900346424, 0.007245440807228051], \"xaxis\": \"x14\", \"y\": [0.5, 0.4, 1.0, 1.0, 0.7, 1.0, 0.6, 0.7, 0.5, 0.6, 0.8, 0.8, 0.8, 0.8, 1.0, 0.4, 1.0, 1.0, 1.0, 1.0, 1.0, 0.8, 0.8, 1.0, 0.4, 0.8, 1.0, 0.5, 0.6, 0.7, 1.0, 1.0, 1.0, 1.0, 1.0, 0.5, 0.4, 1.0, 0.7, 1.0, 0.6, 0.7, 0.7, 0.7, 0.7, 0.8, 0.7, 0.8, 0.5, 1.0], \"yaxis\": \"y14\"}, {\"colorbar\": {\"title\": {\"text\": \"Objective Value\"}}, \"colorscale\": [[0, \"rgb(5,10,172)\"], [0.35, \"rgb(40,60,190)\"], [0.5, \"rgb(70,100,245)\"], [0.6, \"rgb(90,120,245)\"], [0.7, \"rgb(106,137,247)\"], [1, \"rgb(220,220,220)\"]], \"connectgaps\": true, \"contours\": {\"coloring\": \"heatmap\"}, \"hoverinfo\": \"none\", \"line\": {\"smoothing\": 1.3}, \"reversescale\": false, \"showscale\": false, \"type\": \"contour\", \"x\": [0.0074, 0.008, 0.009, 0.01, 0.012, 0.014, 0.016, 0.018, 0.02, 0.0206], \"xaxis\": \"x3\", \"y\": [0.0006467630822397339, 0.0010181643728821939, 0.0010463310681730537, 0.002206643068223733, 0.0022334644633789213, 0.002591116596186556, 0.00366817865425139, 0.0038249812316278288, 0.004463392998945948, 0.005644746026283066, 0.006354843087402957, 0.0079463512796583, 0.00967393286707375, 0.010383443637253126, 0.01254077864827821, 0.014621966829258828, 0.017914630395936607, 0.019484399312365754, 0.021800136799959794, 0.025891473088036694, 0.02630961934977218, 0.028392015763314685, 0.0356361328795397, 0.03607744523557369, 0.03710247783593982, 0.04239837985417904, 0.04598224416610351, 0.053988600576792355, 0.05696439914463783, 0.06371101614572536, 0.06657948718332439, 0.0926033448201442, 0.09590285438044613, 0.0964642360899176, 0.11395752205090479, 0.11850315623816536, 0.15451044816007484, 0.16170199753683476, 0.16959923307006608, 0.17392736957556704, 0.24203698386397063, 0.2553780859410673, 0.3497176109339869, 0.37572455565093704, 0.7044842190007566, 1.013512477448444, 1.1760096602282823, 1.353454042817887, 8.552250413676935, 8.559648869065919, 8.897569356075648, 14.006965413413381], \"yaxis\": \"y3\", \"z\": [[null, null, null, null, null, null, null, null, null, null], [null, null, null, 0.9632682107001242, null, null, null, null, null, null], [null, 0.9654791512167799, null, null, null, null, null, null, null, null], [null, null, null, null, null, 0.9641639083366684, null, null, null, null], [null, null, null, null, 0.9659814067807833, null, null, null, null, null], [null, null, null, null, 0.9657993844652173, null, null, null, null, null], [null, null, null, null, 0.9663990659640549, null, null, null, null, null], [null, null, null, null, null, null, null, null, 0.9653301078058069, null], [null, null, null, 0.96370909267955, null, null, null, null, null, null], [null, null, null, null, 0.9638549962767746, null, null, null, null, null], [null, null, null, null, 0.9651608836703399, null, null, null, null, null], [null, null, 0.9654636560790603, null, null, null, null, null, null, null], [null, null, null, null, null, null, null, 0.9659325248764232, null, null], [null, null, null, null, null, 0.9661802371154521, null, null, null, null], [null, null, null, null, null, null, 0.965898889531139, null, null, null], [null, null, null, 0.9658125989542109, null, null, null, null, null, null], [null, null, null, null, null, null, null, 0.9656477756261004, null, null], [null, null, null, null, 0.9658870820455391, null, null, null, null, null], [null, null, null, null, 0.9664961781588531, null, null, null, null, null], [null, null, null, null, null, 0.9581546016680716, null, null, null, null], [null, null, null, null, 0.9646930333214024, null, null, null, null, null], [null, null, null, null, null, null, 0.9660348729097518, null, null, null], [null, null, null, null, 0.9660552117109559, null, null, null, null, null], [null, null, null, null, null, 0.9662165573514324, null, null, null, null], [null, null, null, null, null, 0.9663443798690221, null, null, null, null], [null, null, null, 0.9614490168531203, null, null, null, null, null, null], [null, null, null, null, null, 0.9640948903554354, null, null, null, null], [null, null, null, null, 0.966360010156296, null, null, null, null, null], [null, null, null, null, null, null, null, null, 0.9661479134448582, null], [null, null, null, null, 0.9661228311356425, null, null, null, null, null], [null, null, null, null, 0.965805495155772, null, null, null, null, null], [null, null, null, null, null, 0.9660153884468001, null, null, null, null], [null, null, null, null, null, 0.9658953671958843, null, null, null, null], [null, null, null, null, null, 0.9662987439673464, null, null, null, null], [null, null, null, null, null, null, null, 0.9652533525125997, null, null], [null, null, null, null, null, 0.9660819761494438, null, null, null, null], [null, null, null, null, null, null, 0.9652223224163096, null, null, null], [null, null, null, null, null, null, 0.9659511091468089, null, null, null], [null, null, null, null, 0.9657404290923046, null, null, null, null, null], [null, null, null, null, null, 0.9633637626415875, null, null, null, null], [null, null, null, null, null, null, null, 0.9650435738573538, null, null], [null, null, 0.9411099055288206, null, null, null, null, null, null, null], [null, null, null, null, 0.960692411034934, null, null, null, null, null], [null, 0.9634307014917336, null, null, null, null, null, null, null, null], [null, 0.9582815119261712, null, null, null, null, null, null, null, null], [null, null, null, null, null, null, 0.9430147359254457, null, null, null], [null, null, null, null, null, null, null, null, 0.9655972055590062, null], [null, null, 0.9349120024842033, null, null, null, null, null, null, null], [null, null, null, null, 0.9661774617228225, null, null, null, null, null], [null, null, null, null, 0.9660047912737255, null, null, null, null, null], [null, null, null, null, null, 0.9657240892698717, null, null, null, null], [null, null, null, null, null, null, null, null, null, null]]}, {\"marker\": {\"color\": \"black\", \"line\": {\"color\": \"Grey\", \"width\": 0.5}}, \"mode\": \"markers\", \"showlegend\": false, \"type\": \"scatter\", \"x\": [0.01, 0.01, 0.014, 0.016, 0.018, 0.02, 0.009, 0.016, 0.014, 0.016, 0.012, 0.012, 0.008, 0.012, 0.014, 0.014, 0.012, 0.018, 0.02, 0.009, 0.008, 0.012, 0.012, 0.012, 0.012, 0.014, 0.012, 0.012, 0.012, 0.01, 0.012, 0.014, 0.012, 0.01, 0.012, 0.018, 0.02, 0.009, 0.014, 0.016, 0.012, 0.014, 0.014, 0.014, 0.008, 0.014, 0.012, 0.016, 0.014, 0.018], \"xaxis\": \"x3\", \"y\": [0.04239837985417904, 0.004463392998945948, 0.03710247783593982, 0.16170199753683476, 0.00967393286707375, 1.1760096602282823, 1.353454042817887, 1.013512477448444, 0.17392736957556704, 0.15451044816007484, 8.552250413676935, 8.559648869065919, 0.0010463310681730537, 0.02630961934977218, 8.897569356075648, 0.002206643068223733, 0.021800136799959794, 0.017914630395936607, 0.05696439914463783, 0.0079463512796583, 0.37572455565093704, 0.053988600576792355, 0.06371101614572536, 0.019484399312365754, 0.3497176109339869, 0.010383443637253126, 0.00366817865425139, 0.0022334644633789213, 0.002591116596186556, 0.0010181643728821939, 0.005644746026283066, 0.03607744523557369, 0.06657948718332439, 0.014621966829258828, 0.0356361328795397, 0.11395752205090479, 0.0038249812316278288, 0.2553780859410673, 0.0964642360899176, 0.01254077864827821, 0.006354843087402957, 0.09590285438044613, 0.025891473088036694, 0.0926033448201442, 0.7044842190007566, 0.04598224416610351, 0.16959923307006608, 0.028392015763314685, 0.11850315623816536, 0.24203698386397063], \"yaxis\": \"y3\"}, {\"colorbar\": {\"title\": {\"text\": \"Objective Value\"}}, \"colorscale\": [[0, \"rgb(5,10,172)\"], [0.35, \"rgb(40,60,190)\"], [0.5, \"rgb(70,100,245)\"], [0.6, \"rgb(90,120,245)\"], [0.7, \"rgb(106,137,247)\"], [1, \"rgb(220,220,220)\"]], \"connectgaps\": true, \"contours\": {\"coloring\": \"heatmap\"}, \"hoverinfo\": \"none\", \"line\": {\"smoothing\": 1.3}, \"reversescale\": false, \"showscale\": false, \"type\": \"contour\", \"x\": [0.0074, 0.008, 0.009, 0.01, 0.012, 0.014, 0.016, 0.018, 0.02, 0.0206], \"xaxis\": \"x7\", \"y\": [0.0009242847474723136, 0.0014240237450165209, 0.001620082617449181, 0.002057460573404571, 0.0028161256757211007, 0.0038974148954420747, 0.004220389968619446, 0.005467248640780835, 0.006653218220222155, 0.007245440807228051, 0.007760285328621599, 0.008553754604813191, 0.010576441432516159, 0.011887161277513221, 0.013747145139813862, 0.01680518019972616, 0.017027501529365368, 0.018688998050368725, 0.020530533816826284, 0.02137093874894116, 0.023312326888009435, 0.023907742250035224, 0.02585297640370347, 0.03005460208149567, 0.03269086093271246, 0.03774935662196809, 0.03785620605363892, 0.03962702582341804, 0.0498652563995772, 0.05215091371717967, 0.05935031259030531, 0.06952864689008562, 0.0736986353742997, 0.07619038564231667, 0.08026597900346424, 0.08287684030183871, 0.09962512320523084, 0.12057384146600342, 0.12103628446814962, 0.1265430806657861, 0.1750300039236326, 0.20528790013698178, 0.22050638749514634, 0.3263042905584334, 0.42768461846209, 0.5323894003316153, 0.6618680618471974, 0.8300674259125883, 1.8293301690601609, 2.5542913283137563, 8.086230640660201, 12.458265130384182], \"yaxis\": \"y7\", \"z\": [[null, null, null, null, null, null, null, null, null, null], [null, null, null, null, 0.9660047912737255, null, null, null, null, null], [null, null, null, null, 0.9661774617228225, null, null, null, null, null], [null, 0.9654791512167799, null, null, null, null, null, null, null, null], [null, null, null, 0.9632682107001242, null, null, null, null, null, null], [null, null, null, null, 0.9646930333214024, null, null, null, null, null], [null, null, null, null, null, null, 0.9660348729097518, null, null, null], [null, null, null, null, null, 0.9641639083366684, null, null, null, null], [null, null, null, null, 0.9661228311356425, null, null, null, null, null], [null, null, null, null, null, null, null, 0.9650435738573538, null, null], [null, null, null, null, 0.966360010156296, null, null, null, null, null], [null, null, null, null, null, 0.9661802371154521, null, null, null, null], [null, null, 0.9411099055288206, null, null, null, null, null, null, null], [null, null, null, null, 0.9659814067807833, null, null, null, null, null], [null, null, null, null, null, null, 0.965898889531139, null, null, null], [null, null, null, null, null, null, null, 0.9659325248764232, null, null], [null, null, null, null, null, 0.9660153884468001, null, null, null, null], [null, null, null, null, null, 0.9633637626415875, null, null, null, null], [null, null, null, null, null, null, null, null, 0.9655972055590062, null], [null, null, null, null, null, null, 0.9652223224163096, null, null, null], [null, null, null, null, null, 0.9658953671958843, null, null, null, null], [null, null, null, null, null, 0.9662987439673464, null, null, null, null], [null, null, null, null, 0.9657404290923046, null, null, null, null, null], [null, null, null, null, null, 0.9581546016680716, null, null, null, null], [null, null, null, null, 0.9657993844652173, null, null, null, null, null], [null, null, null, null, 0.9658870820455391, null, null, null, null, null], [null, null, null, null, 0.9663990659640549, null, null, null, null, null], [null, null, null, null, 0.965805495155772, null, null, null, null, null], [null, 0.9582815119261712, null, null, null, null, null, null, null, null], [null, null, null, null, null, null, null, 0.9652533525125997, null, null], [null, 0.9634307014917336, null, null, null, null, null, null, null, null], [null, null, null, null, null, 0.9663443798690221, null, null, null, null], [null, null, null, null, null, null, null, 0.9656477756261004, null, null], [null, null, null, null, null, 0.9657240892698717, null, null, null, null], [null, null, null, null, null, 0.9660819761494438, null, null, null, null], [null, null, null, null, 0.9664961781588531, null, null, null, null, null], [null, null, null, null, null, 0.9640948903554354, null, null, null, null], [null, null, null, null, 0.9651608836703399, null, null, null, null, null], [null, null, null, null, 0.9660552117109559, null, null, null, null, null], [null, null, null, null, null, 0.9662165573514324, null, null, null, null], [null, null, null, null, null, null, 0.9659511091468089, null, null, null], [null, null, null, null, null, null, null, null, 0.9661479134448582, null], [null, null, null, null, 0.960692411034934, null, null, null, null, null], [null, null, null, 0.9658125989542109, null, null, null, null, null, null], [null, null, 0.9349120024842033, null, null, null, null, null, null, null], [null, null, null, null, 0.9638549962767746, null, null, null, null, null], [null, null, null, 0.9614490168531203, null, null, null, null, null, null], [null, null, null, null, null, null, null, null, 0.9653301078058069, null], [null, null, 0.9654636560790603, null, null, null, null, null, null, null], [null, null, null, null, null, null, 0.9430147359254457, null, null, null], [null, null, null, 0.96370909267955, null, null, null, null, null, null], [null, null, null, null, null, null, null, null, null, null]]}, {\"marker\": {\"color\": \"black\", \"line\": {\"color\": \"Grey\", \"width\": 0.5}}, \"mode\": \"markers\", \"showlegend\": false, \"type\": \"scatter\", \"x\": [0.01, 0.01, 0.014, 0.016, 0.018, 0.02, 0.009, 0.016, 0.014, 0.016, 0.012, 0.012, 0.008, 0.012, 0.014, 0.014, 0.012, 0.018, 0.02, 0.009, 0.008, 0.012, 0.012, 0.012, 0.012, 0.014, 0.012, 0.012, 0.012, 0.01, 0.012, 0.014, 0.012, 0.01, 0.012, 0.018, 0.02, 0.009, 0.014, 0.016, 0.012, 0.014, 0.014, 0.014, 0.008, 0.014, 0.012, 0.016, 0.014, 0.018], \"xaxis\": \"x7\", \"y\": [0.6618680618471974, 8.086230640660201, 0.06952864689008562, 0.1750300039236326, 0.01680518019972616, 0.020530533816826284, 0.42768461846209, 2.5542913283137563, 0.018688998050368725, 0.02137093874894116, 0.001620082617449181, 0.0014240237450165209, 0.002057460573404571, 0.0038974148954420747, 0.07619038564231667, 0.005467248640780835, 0.08287684030183871, 0.0736986353742997, 0.20528790013698178, 1.8293301690601609, 0.05935031259030531, 0.007760285328621599, 0.006653218220222155, 0.03774935662196809, 0.22050638749514634, 0.008553754604813191, 0.03785620605363892, 0.011887161277513221, 0.03269086093271246, 0.0028161256757211007, 0.5323894003316153, 0.1265430806657861, 0.03962702582341804, 0.3263042905584334, 0.12103628446814962, 0.05215091371717967, 0.8300674259125883, 0.010576441432516159, 0.023907742250035224, 0.013747145139813862, 0.12057384146600342, 0.023312326888009435, 0.03005460208149567, 0.017027501529365368, 0.0498652563995772, 0.09962512320523084, 0.02585297640370347, 0.004220389968619446, 0.08026597900346424, 0.007245440807228051], \"yaxis\": \"y7\"}, {\"type\": \"scatter\", \"xaxis\": \"x11\", \"yaxis\": \"y11\"}, {\"colorbar\": {\"title\": {\"text\": \"Objective Value\"}}, \"colorscale\": [[0, \"rgb(5,10,172)\"], [0.35, \"rgb(40,60,190)\"], [0.5, \"rgb(70,100,245)\"], [0.6, \"rgb(90,120,245)\"], [0.7, \"rgb(106,137,247)\"], [1, \"rgb(220,220,220)\"]], \"connectgaps\": true, \"contours\": {\"coloring\": \"heatmap\"}, \"hoverinfo\": \"none\", \"line\": {\"smoothing\": 1.3}, \"reversescale\": false, \"showscale\": false, \"type\": \"contour\", \"x\": [0.0074, 0.008, 0.009, 0.01, 0.012, 0.014, 0.016, 0.018, 0.02, 0.0206], \"xaxis\": \"x15\", \"y\": [0.37, 0.4, 0.5, 0.6, 0.7, 0.8, 1.0, 1.03], \"yaxis\": \"y15\", \"z\": [[null, null, null, null, null, null, null, null, null, null], [null, null, null, 0.96370909267955, 0.960692411034934, 0.9641639083366684, null, null, 0.9653301078058069, null], [null, null, null, 0.9614490168531203, 0.9659814067807833, 0.9660819761494438, null, 0.9652533525125997, null, null], [null, null, 0.9349120024842033, null, 0.9651608836703399, null, 0.9652223224163096, null, null, null], [null, 0.9582815119261712, null, 0.9632682107001242, 0.9657404290923046, 0.9660153884468001, 0.9430147359254457, 0.9659325248764232, null, null], [null, 0.9654791512167799, null, null, 0.9661228311356425, 0.9640948903554354, 0.9660348729097518, null, null, null], [null, 0.9634307014917336, 0.9411099055288206, 0.9658125989542109, 0.9660552117109559, 0.9662165573514324, 0.965898889531139, 0.9650435738573538, 0.9661479134448582, null], [null, null, null, null, null, null, null, null, null, null]]}, {\"marker\": {\"color\": \"black\", \"line\": {\"color\": \"Grey\", \"width\": 0.5}}, \"mode\": \"markers\", \"showlegend\": false, \"type\": \"scatter\", \"x\": [0.01, 0.01, 0.014, 0.016, 0.018, 0.02, 0.009, 0.016, 0.014, 0.016, 0.012, 0.012, 0.008, 0.012, 0.014, 0.014, 0.012, 0.018, 0.02, 0.009, 0.008, 0.012, 0.012, 0.012, 0.012, 0.014, 0.012, 0.012, 0.012, 0.01, 0.012, 0.014, 0.012, 0.01, 0.012, 0.018, 0.02, 0.009, 0.014, 0.016, 0.012, 0.014, 0.014, 0.014, 0.008, 0.014, 0.012, 0.016, 0.014, 0.018], \"xaxis\": \"x15\", \"y\": [0.5, 0.4, 1.0, 1.0, 0.7, 1.0, 0.6, 0.7, 0.5, 0.6, 0.8, 0.8, 0.8, 0.8, 1.0, 0.4, 1.0, 1.0, 1.0, 1.0, 1.0, 0.8, 0.8, 1.0, 0.4, 0.8, 1.0, 0.5, 0.6, 0.7, 1.0, 1.0, 1.0, 1.0, 1.0, 0.5, 0.4, 1.0, 0.7, 1.0, 0.6, 0.7, 0.7, 0.7, 0.7, 0.8, 0.7, 0.8, 0.5, 1.0], \"yaxis\": \"y15\"}, {\"colorbar\": {\"title\": {\"text\": \"Objective Value\"}}, \"colorscale\": [[0, \"rgb(5,10,172)\"], [0.35, \"rgb(40,60,190)\"], [0.5, \"rgb(70,100,245)\"], [0.6, \"rgb(90,120,245)\"], [0.7, \"rgb(106,137,247)\"], [1, \"rgb(220,220,220)\"]], \"connectgaps\": true, \"contours\": {\"coloring\": \"heatmap\"}, \"hoverinfo\": \"none\", \"line\": {\"smoothing\": 1.3}, \"reversescale\": false, \"showscale\": false, \"type\": \"contour\", \"x\": [0.37, 0.4, 0.5, 0.6, 0.7, 0.8, 1.0, 1.03], \"xaxis\": \"x4\", \"y\": [0.0006467630822397339, 0.0010181643728821939, 0.0010463310681730537, 0.002206643068223733, 0.0022334644633789213, 0.002591116596186556, 0.00366817865425139, 0.0038249812316278288, 0.004463392998945948, 0.005644746026283066, 0.006354843087402957, 0.0079463512796583, 0.00967393286707375, 0.010383443637253126, 0.01254077864827821, 0.014621966829258828, 0.017914630395936607, 0.019484399312365754, 0.021800136799959794, 0.025891473088036694, 0.02630961934977218, 0.028392015763314685, 0.0356361328795397, 0.03607744523557369, 0.03710247783593982, 0.04239837985417904, 0.04598224416610351, 0.053988600576792355, 0.05696439914463783, 0.06371101614572536, 0.06657948718332439, 0.0926033448201442, 0.09590285438044613, 0.0964642360899176, 0.11395752205090479, 0.11850315623816536, 0.15451044816007484, 0.16170199753683476, 0.16959923307006608, 0.17392736957556704, 0.24203698386397063, 0.2553780859410673, 0.3497176109339869, 0.37572455565093704, 0.7044842190007566, 1.013512477448444, 1.1760096602282823, 1.353454042817887, 8.552250413676935, 8.559648869065919, 8.897569356075648, 14.006965413413381], \"yaxis\": \"y4\", \"z\": [[null, null, null, null, null, null, null, null], [null, null, null, null, 0.9632682107001242, null, null, null], [null, null, null, null, null, 0.9654791512167799, null, null], [null, 0.9641639083366684, null, null, null, null, null, null], [null, null, 0.9659814067807833, null, null, null, null, null], [null, null, null, 0.9657993844652173, null, null, null, null], [null, null, null, null, null, null, 0.9663990659640549, null], [null, 0.9653301078058069, null, null, null, null, null, null], [null, 0.96370909267955, null, null, null, null, null, null], [null, null, null, null, null, null, 0.9638549962767746, null], [null, null, null, 0.9651608836703399, null, null, null, null], [null, null, null, null, null, null, 0.9654636560790603, null], [null, null, null, null, 0.9659325248764232, null, null, null], [null, null, null, null, null, 0.9661802371154521, null, null], [null, null, null, null, null, null, 0.965898889531139, null], [null, null, null, null, null, null, 0.9658125989542109, null], [null, null, null, null, null, null, 0.9656477756261004, null], [null, null, null, null, null, null, 0.9658870820455391, null], [null, null, null, null, null, null, 0.9664961781588531, null], [null, null, null, null, 0.9581546016680716, null, null, null], [null, null, null, null, null, 0.9646930333214024, null, null], [null, null, null, null, null, 0.9660348729097518, null, null], [null, null, null, null, null, null, 0.9660552117109559, null], [null, null, null, null, null, null, 0.9662165573514324, null], [null, null, null, null, null, null, 0.9663443798690221, null], [null, null, 0.9614490168531203, null, null, null, null, null], [null, null, null, null, null, 0.9640948903554354, null, null], [null, null, null, null, null, 0.966360010156296, null, null], [null, null, null, null, null, null, 0.9661479134448582, null], [null, null, null, null, null, 0.9661228311356425, null, null], [null, null, null, null, null, null, 0.965805495155772, null], [null, null, null, null, 0.9660153884468001, null, null, null], [null, null, null, null, 0.9658953671958843, null, null, null], [null, null, null, null, 0.9662987439673464, null, null, null], [null, null, 0.9652533525125997, null, null, null, null, null], [null, null, 0.9660819761494438, null, null, null, null, null], [null, null, null, 0.9652223224163096, null, null, null, null], [null, null, null, null, null, null, 0.9659511091468089, null], [null, null, null, null, 0.9657404290923046, null, null, null], [null, null, 0.9633637626415875, null, null, null, null, null], [null, null, null, null, null, null, 0.9650435738573538, null], [null, null, null, null, null, null, 0.9411099055288206, null], [null, 0.960692411034934, null, null, null, null, null, null], [null, null, null, null, null, null, 0.9634307014917336, null], [null, null, null, null, 0.9582815119261712, null, null, null], [null, null, null, null, 0.9430147359254457, null, null, null], [null, null, null, null, null, null, 0.9655972055590062, null], [null, null, null, 0.9349120024842033, null, null, null, null], [null, null, null, null, null, 0.9661774617228225, null, null], [null, null, null, null, null, 0.9660047912737255, null, null], [null, null, null, null, null, null, 0.9657240892698717, null], [null, null, null, null, null, null, null, null]]}, {\"marker\": {\"color\": \"black\", \"line\": {\"color\": \"Grey\", \"width\": 0.5}}, \"mode\": \"markers\", \"showlegend\": false, \"type\": \"scatter\", \"x\": [0.5, 0.4, 1.0, 1.0, 0.7, 1.0, 0.6, 0.7, 0.5, 0.6, 0.8, 0.8, 0.8, 0.8, 1.0, 0.4, 1.0, 1.0, 1.0, 1.0, 1.0, 0.8, 0.8, 1.0, 0.4, 0.8, 1.0, 0.5, 0.6, 0.7, 1.0, 1.0, 1.0, 1.0, 1.0, 0.5, 0.4, 1.0, 0.7, 1.0, 0.6, 0.7, 0.7, 0.7, 0.7, 0.8, 0.7, 0.8, 0.5, 1.0], \"xaxis\": \"x4\", \"y\": [0.04239837985417904, 0.004463392998945948, 0.03710247783593982, 0.16170199753683476, 0.00967393286707375, 1.1760096602282823, 1.353454042817887, 1.013512477448444, 0.17392736957556704, 0.15451044816007484, 8.552250413676935, 8.559648869065919, 0.0010463310681730537, 0.02630961934977218, 8.897569356075648, 0.002206643068223733, 0.021800136799959794, 0.017914630395936607, 0.05696439914463783, 0.0079463512796583, 0.37572455565093704, 0.053988600576792355, 0.06371101614572536, 0.019484399312365754, 0.3497176109339869, 0.010383443637253126, 0.00366817865425139, 0.0022334644633789213, 0.002591116596186556, 0.0010181643728821939, 0.005644746026283066, 0.03607744523557369, 0.06657948718332439, 0.014621966829258828, 0.0356361328795397, 0.11395752205090479, 0.0038249812316278288, 0.2553780859410673, 0.0964642360899176, 0.01254077864827821, 0.006354843087402957, 0.09590285438044613, 0.025891473088036694, 0.0926033448201442, 0.7044842190007566, 0.04598224416610351, 0.16959923307006608, 0.028392015763314685, 0.11850315623816536, 0.24203698386397063], \"yaxis\": \"y4\"}, {\"colorbar\": {\"title\": {\"text\": \"Objective Value\"}}, \"colorscale\": [[0, \"rgb(5,10,172)\"], [0.35, \"rgb(40,60,190)\"], [0.5, \"rgb(70,100,245)\"], [0.6, \"rgb(90,120,245)\"], [0.7, \"rgb(106,137,247)\"], [1, \"rgb(220,220,220)\"]], \"connectgaps\": true, \"contours\": {\"coloring\": \"heatmap\"}, \"hoverinfo\": \"none\", \"line\": {\"smoothing\": 1.3}, \"reversescale\": false, \"showscale\": false, \"type\": \"contour\", \"x\": [0.37, 0.4, 0.5, 0.6, 0.7, 0.8, 1.0, 1.03], \"xaxis\": \"x8\", \"y\": [0.0009242847474723136, 0.0014240237450165209, 0.001620082617449181, 0.002057460573404571, 0.0028161256757211007, 0.0038974148954420747, 0.004220389968619446, 0.005467248640780835, 0.006653218220222155, 0.007245440807228051, 0.007760285328621599, 0.008553754604813191, 0.010576441432516159, 0.011887161277513221, 0.013747145139813862, 0.01680518019972616, 0.017027501529365368, 0.018688998050368725, 0.020530533816826284, 0.02137093874894116, 0.023312326888009435, 0.023907742250035224, 0.02585297640370347, 0.03005460208149567, 0.03269086093271246, 0.03774935662196809, 0.03785620605363892, 0.03962702582341804, 0.0498652563995772, 0.05215091371717967, 0.05935031259030531, 0.06952864689008562, 0.0736986353742997, 0.07619038564231667, 0.08026597900346424, 0.08287684030183871, 0.09962512320523084, 0.12057384146600342, 0.12103628446814962, 0.1265430806657861, 0.1750300039236326, 0.20528790013698178, 0.22050638749514634, 0.3263042905584334, 0.42768461846209, 0.5323894003316153, 0.6618680618471974, 0.8300674259125883, 1.8293301690601609, 2.5542913283137563, 8.086230640660201, 12.458265130384182], \"yaxis\": \"y8\", \"z\": [[null, null, null, null, null, null, null, null], [null, null, null, null, null, 0.9660047912737255, null, null], [null, null, null, null, null, 0.9661774617228225, null, null], [null, null, null, null, null, 0.9654791512167799, null, null], [null, null, null, null, 0.9632682107001242, null, null, null], [null, null, null, null, null, 0.9646930333214024, null, null], [null, null, null, null, null, 0.9660348729097518, null, null], [null, 0.9641639083366684, null, null, null, null, null, null], [null, null, null, null, null, 0.9661228311356425, null, null], [null, null, null, null, null, null, 0.9650435738573538, null], [null, null, null, null, null, 0.966360010156296, null, null], [null, null, null, null, null, 0.9661802371154521, null, null], [null, null, null, null, null, null, 0.9411099055288206, null], [null, null, 0.9659814067807833, null, null, null, null, null], [null, null, null, null, null, null, 0.965898889531139, null], [null, null, null, null, 0.9659325248764232, null, null, null], [null, null, null, null, 0.9660153884468001, null, null, null], [null, null, 0.9633637626415875, null, null, null, null, null], [null, null, null, null, null, null, 0.9655972055590062, null], [null, null, null, 0.9652223224163096, null, null, null, null], [null, null, null, null, 0.9658953671958843, null, null, null], [null, null, null, null, 0.9662987439673464, null, null, null], [null, null, null, null, 0.9657404290923046, null, null, null], [null, null, null, null, 0.9581546016680716, null, null, null], [null, null, null, 0.9657993844652173, null, null, null, null], [null, null, null, null, null, null, 0.9658870820455391, null], [null, null, null, null, null, null, 0.9663990659640549, null], [null, null, null, null, null, null, 0.965805495155772, null], [null, null, null, null, 0.9582815119261712, null, null, null], [null, null, 0.9652533525125997, null, null, null, null, null], [null, null, null, null, null, null, 0.9634307014917336, null], [null, null, null, null, null, null, 0.9663443798690221, null], [null, null, null, null, null, null, 0.9656477756261004, null], [null, null, null, null, null, null, 0.9657240892698717, null], [null, null, 0.9660819761494438, null, null, null, null, null], [null, null, null, null, null, null, 0.9664961781588531, null], [null, null, null, null, null, 0.9640948903554354, null, null], [null, null, null, 0.9651608836703399, null, null, null, null], [null, null, null, null, null, null, 0.9660552117109559, null], [null, null, null, null, null, null, 0.9662165573514324, null], [null, null, null, null, null, null, 0.9659511091468089, null], [null, null, null, null, null, null, 0.9661479134448582, null], [null, 0.960692411034934, null, null, null, null, null, null], [null, null, null, null, null, null, 0.9658125989542109, null], [null, null, null, 0.9349120024842033, null, null, null, null], [null, null, null, null, null, null, 0.9638549962767746, null], [null, null, 0.9614490168531203, null, null, null, null, null], [null, 0.9653301078058069, null, null, null, null, null, null], [null, null, null, null, null, null, 0.9654636560790603, null], [null, null, null, null, 0.9430147359254457, null, null, null], [null, 0.96370909267955, null, null, null, null, null, null], [null, null, null, null, null, null, null, null]]}, {\"marker\": {\"color\": \"black\", \"line\": {\"color\": \"Grey\", \"width\": 0.5}}, \"mode\": \"markers\", \"showlegend\": false, \"type\": \"scatter\", \"x\": [0.5, 0.4, 1.0, 1.0, 0.7, 1.0, 0.6, 0.7, 0.5, 0.6, 0.8, 0.8, 0.8, 0.8, 1.0, 0.4, 1.0, 1.0, 1.0, 1.0, 1.0, 0.8, 0.8, 1.0, 0.4, 0.8, 1.0, 0.5, 0.6, 0.7, 1.0, 1.0, 1.0, 1.0, 1.0, 0.5, 0.4, 1.0, 0.7, 1.0, 0.6, 0.7, 0.7, 0.7, 0.7, 0.8, 0.7, 0.8, 0.5, 1.0], \"xaxis\": \"x8\", \"y\": [0.6618680618471974, 8.086230640660201, 0.06952864689008562, 0.1750300039236326, 0.01680518019972616, 0.020530533816826284, 0.42768461846209, 2.5542913283137563, 0.018688998050368725, 0.02137093874894116, 0.001620082617449181, 0.0014240237450165209, 0.002057460573404571, 0.0038974148954420747, 0.07619038564231667, 0.005467248640780835, 0.08287684030183871, 0.0736986353742997, 0.20528790013698178, 1.8293301690601609, 0.05935031259030531, 0.007760285328621599, 0.006653218220222155, 0.03774935662196809, 0.22050638749514634, 0.008553754604813191, 0.03785620605363892, 0.011887161277513221, 0.03269086093271246, 0.0028161256757211007, 0.5323894003316153, 0.1265430806657861, 0.03962702582341804, 0.3263042905584334, 0.12103628446814962, 0.05215091371717967, 0.8300674259125883, 0.010576441432516159, 0.023907742250035224, 0.013747145139813862, 0.12057384146600342, 0.023312326888009435, 0.03005460208149567, 0.017027501529365368, 0.0498652563995772, 0.09962512320523084, 0.02585297640370347, 0.004220389968619446, 0.08026597900346424, 0.007245440807228051], \"yaxis\": \"y8\"}, {\"colorbar\": {\"title\": {\"text\": \"Objective Value\"}}, \"colorscale\": [[0, \"rgb(5,10,172)\"], [0.35, \"rgb(40,60,190)\"], [0.5, \"rgb(70,100,245)\"], [0.6, \"rgb(90,120,245)\"], [0.7, \"rgb(106,137,247)\"], [1, \"rgb(220,220,220)\"]], \"connectgaps\": true, \"contours\": {\"coloring\": \"heatmap\"}, \"hoverinfo\": \"none\", \"line\": {\"smoothing\": 1.3}, \"reversescale\": false, \"showscale\": false, \"type\": \"contour\", \"x\": [0.37, 0.4, 0.5, 0.6, 0.7, 0.8, 1.0, 1.03], \"xaxis\": \"x12\", \"y\": [0.0074, 0.008, 0.009, 0.01, 0.012, 0.014, 0.016, 0.018, 0.02, 0.0206], \"yaxis\": \"y12\", \"z\": [[null, null, null, null, null, null, null, null], [null, null, null, null, 0.9582815119261712, 0.9654791512167799, 0.9634307014917336, null], [null, null, null, 0.9349120024842033, null, null, 0.9411099055288206, null], [null, 0.96370909267955, 0.9614490168531203, null, 0.9632682107001242, null, 0.9658125989542109, null], [null, 0.960692411034934, 0.9659814067807833, 0.9651608836703399, 0.9657404290923046, 0.9661228311356425, 0.9660552117109559, null], [null, 0.9641639083366684, 0.9660819761494438, null, 0.9660153884468001, 0.9640948903554354, 0.9662165573514324, null], [null, null, null, 0.9652223224163096, 0.9430147359254457, 0.9660348729097518, 0.965898889531139, null], [null, null, 0.9652533525125997, null, 0.9659325248764232, null, 0.9650435738573538, null], [null, 0.9653301078058069, null, null, null, null, 0.9661479134448582, null], [null, null, null, null, null, null, null, null]]}, {\"marker\": {\"color\": \"black\", \"line\": {\"color\": \"Grey\", \"width\": 0.5}}, \"mode\": \"markers\", \"showlegend\": false, \"type\": \"scatter\", \"x\": [0.5, 0.4, 1.0, 1.0, 0.7, 1.0, 0.6, 0.7, 0.5, 0.6, 0.8, 0.8, 0.8, 0.8, 1.0, 0.4, 1.0, 1.0, 1.0, 1.0, 1.0, 0.8, 0.8, 1.0, 0.4, 0.8, 1.0, 0.5, 0.6, 0.7, 1.0, 1.0, 1.0, 1.0, 1.0, 0.5, 0.4, 1.0, 0.7, 1.0, 0.6, 0.7, 0.7, 0.7, 0.7, 0.8, 0.7, 0.8, 0.5, 1.0], \"xaxis\": \"x12\", \"y\": [0.01, 0.01, 0.014, 0.016, 0.018, 0.02, 0.009, 0.016, 0.014, 0.016, 0.012, 0.012, 0.008, 0.012, 0.014, 0.014, 0.012, 0.018, 0.02, 0.009, 0.008, 0.012, 0.012, 0.012, 0.012, 0.014, 0.012, 0.012, 0.012, 0.01, 0.012, 0.014, 0.012, 0.01, 0.012, 0.018, 0.02, 0.009, 0.014, 0.016, 0.012, 0.014, 0.014, 0.014, 0.008, 0.014, 0.012, 0.016, 0.014, 0.018], \"yaxis\": \"y12\"}, {\"type\": \"scatter\", \"xaxis\": \"x16\", \"yaxis\": \"y16\"}],\n",
              "                        {\"template\": {\"data\": {\"bar\": [{\"error_x\": {\"color\": \"#2a3f5f\"}, \"error_y\": {\"color\": \"#2a3f5f\"}, \"marker\": {\"line\": {\"color\": \"#E5ECF6\", \"width\": 0.5}}, \"type\": \"bar\"}], \"barpolar\": [{\"marker\": {\"line\": {\"color\": \"#E5ECF6\", \"width\": 0.5}}, \"type\": \"barpolar\"}], \"carpet\": [{\"aaxis\": {\"endlinecolor\": \"#2a3f5f\", \"gridcolor\": \"white\", \"linecolor\": \"white\", \"minorgridcolor\": \"white\", \"startlinecolor\": \"#2a3f5f\"}, \"baxis\": {\"endlinecolor\": \"#2a3f5f\", \"gridcolor\": \"white\", \"linecolor\": \"white\", \"minorgridcolor\": \"white\", \"startlinecolor\": \"#2a3f5f\"}, \"type\": \"carpet\"}], \"choropleth\": [{\"colorbar\": {\"outlinewidth\": 0, \"ticks\": \"\"}, \"type\": \"choropleth\"}], \"contour\": [{\"colorbar\": {\"outlinewidth\": 0, \"ticks\": \"\"}, \"colorscale\": [[0.0, \"#0d0887\"], [0.1111111111111111, \"#46039f\"], [0.2222222222222222, \"#7201a8\"], [0.3333333333333333, \"#9c179e\"], [0.4444444444444444, \"#bd3786\"], [0.5555555555555556, \"#d8576b\"], [0.6666666666666666, \"#ed7953\"], [0.7777777777777778, \"#fb9f3a\"], [0.8888888888888888, \"#fdca26\"], [1.0, \"#f0f921\"]], \"type\": \"contour\"}], \"contourcarpet\": [{\"colorbar\": {\"outlinewidth\": 0, \"ticks\": \"\"}, \"type\": \"contourcarpet\"}], \"heatmap\": [{\"colorbar\": {\"outlinewidth\": 0, \"ticks\": \"\"}, \"colorscale\": [[0.0, \"#0d0887\"], [0.1111111111111111, \"#46039f\"], [0.2222222222222222, \"#7201a8\"], [0.3333333333333333, \"#9c179e\"], [0.4444444444444444, \"#bd3786\"], [0.5555555555555556, \"#d8576b\"], [0.6666666666666666, \"#ed7953\"], [0.7777777777777778, \"#fb9f3a\"], [0.8888888888888888, \"#fdca26\"], [1.0, \"#f0f921\"]], \"type\": \"heatmap\"}], \"heatmapgl\": [{\"colorbar\": {\"outlinewidth\": 0, \"ticks\": \"\"}, \"colorscale\": [[0.0, \"#0d0887\"], [0.1111111111111111, \"#46039f\"], [0.2222222222222222, \"#7201a8\"], [0.3333333333333333, \"#9c179e\"], [0.4444444444444444, \"#bd3786\"], [0.5555555555555556, \"#d8576b\"], [0.6666666666666666, \"#ed7953\"], [0.7777777777777778, \"#fb9f3a\"], [0.8888888888888888, \"#fdca26\"], [1.0, \"#f0f921\"]], \"type\": \"heatmapgl\"}], \"histogram\": [{\"marker\": {\"colorbar\": {\"outlinewidth\": 0, \"ticks\": \"\"}}, \"type\": \"histogram\"}], \"histogram2d\": [{\"colorbar\": {\"outlinewidth\": 0, \"ticks\": \"\"}, \"colorscale\": [[0.0, \"#0d0887\"], [0.1111111111111111, \"#46039f\"], [0.2222222222222222, \"#7201a8\"], [0.3333333333333333, \"#9c179e\"], [0.4444444444444444, \"#bd3786\"], [0.5555555555555556, \"#d8576b\"], [0.6666666666666666, \"#ed7953\"], [0.7777777777777778, \"#fb9f3a\"], [0.8888888888888888, \"#fdca26\"], [1.0, \"#f0f921\"]], \"type\": \"histogram2d\"}], \"histogram2dcontour\": [{\"colorbar\": {\"outlinewidth\": 0, \"ticks\": \"\"}, \"colorscale\": [[0.0, \"#0d0887\"], [0.1111111111111111, \"#46039f\"], [0.2222222222222222, \"#7201a8\"], [0.3333333333333333, \"#9c179e\"], [0.4444444444444444, \"#bd3786\"], [0.5555555555555556, \"#d8576b\"], [0.6666666666666666, \"#ed7953\"], [0.7777777777777778, \"#fb9f3a\"], [0.8888888888888888, \"#fdca26\"], [1.0, \"#f0f921\"]], \"type\": \"histogram2dcontour\"}], \"mesh3d\": [{\"colorbar\": {\"outlinewidth\": 0, \"ticks\": \"\"}, \"type\": \"mesh3d\"}], \"parcoords\": [{\"line\": {\"colorbar\": {\"outlinewidth\": 0, \"ticks\": \"\"}}, \"type\": \"parcoords\"}], \"pie\": [{\"automargin\": true, \"type\": \"pie\"}], \"scatter\": [{\"marker\": {\"colorbar\": {\"outlinewidth\": 0, \"ticks\": \"\"}}, \"type\": \"scatter\"}], \"scatter3d\": [{\"line\": {\"colorbar\": {\"outlinewidth\": 0, \"ticks\": \"\"}}, \"marker\": {\"colorbar\": {\"outlinewidth\": 0, \"ticks\": \"\"}}, \"type\": \"scatter3d\"}], \"scattercarpet\": [{\"marker\": {\"colorbar\": {\"outlinewidth\": 0, \"ticks\": \"\"}}, \"type\": \"scattercarpet\"}], \"scattergeo\": [{\"marker\": {\"colorbar\": {\"outlinewidth\": 0, \"ticks\": \"\"}}, \"type\": \"scattergeo\"}], \"scattergl\": [{\"marker\": {\"colorbar\": {\"outlinewidth\": 0, \"ticks\": \"\"}}, \"type\": \"scattergl\"}], \"scattermapbox\": [{\"marker\": {\"colorbar\": {\"outlinewidth\": 0, \"ticks\": \"\"}}, \"type\": \"scattermapbox\"}], \"scatterpolar\": [{\"marker\": {\"colorbar\": {\"outlinewidth\": 0, \"ticks\": \"\"}}, \"type\": \"scatterpolar\"}], \"scatterpolargl\": [{\"marker\": {\"colorbar\": {\"outlinewidth\": 0, \"ticks\": \"\"}}, \"type\": \"scatterpolargl\"}], \"scatterternary\": [{\"marker\": {\"colorbar\": {\"outlinewidth\": 0, \"ticks\": \"\"}}, \"type\": \"scatterternary\"}], \"surface\": [{\"colorbar\": {\"outlinewidth\": 0, \"ticks\": \"\"}, \"colorscale\": [[0.0, \"#0d0887\"], [0.1111111111111111, \"#46039f\"], [0.2222222222222222, \"#7201a8\"], [0.3333333333333333, \"#9c179e\"], [0.4444444444444444, \"#bd3786\"], [0.5555555555555556, \"#d8576b\"], [0.6666666666666666, \"#ed7953\"], [0.7777777777777778, \"#fb9f3a\"], [0.8888888888888888, \"#fdca26\"], [1.0, \"#f0f921\"]], \"type\": \"surface\"}], \"table\": [{\"cells\": {\"fill\": {\"color\": \"#EBF0F8\"}, \"line\": {\"color\": \"white\"}}, \"header\": {\"fill\": {\"color\": \"#C8D4E3\"}, \"line\": {\"color\": \"white\"}}, \"type\": \"table\"}]}, \"layout\": {\"annotationdefaults\": {\"arrowcolor\": \"#2a3f5f\", \"arrowhead\": 0, \"arrowwidth\": 1}, \"coloraxis\": {\"colorbar\": {\"outlinewidth\": 0, \"ticks\": \"\"}}, \"colorscale\": {\"diverging\": [[0, \"#8e0152\"], [0.1, \"#c51b7d\"], [0.2, \"#de77ae\"], [0.3, \"#f1b6da\"], [0.4, \"#fde0ef\"], [0.5, \"#f7f7f7\"], [0.6, \"#e6f5d0\"], [0.7, \"#b8e186\"], [0.8, \"#7fbc41\"], [0.9, \"#4d9221\"], [1, \"#276419\"]], \"sequential\": [[0.0, \"#0d0887\"], [0.1111111111111111, \"#46039f\"], [0.2222222222222222, \"#7201a8\"], [0.3333333333333333, \"#9c179e\"], [0.4444444444444444, \"#bd3786\"], [0.5555555555555556, \"#d8576b\"], [0.6666666666666666, \"#ed7953\"], [0.7777777777777778, \"#fb9f3a\"], [0.8888888888888888, \"#fdca26\"], [1.0, \"#f0f921\"]], \"sequentialminus\": [[0.0, \"#0d0887\"], [0.1111111111111111, \"#46039f\"], [0.2222222222222222, \"#7201a8\"], [0.3333333333333333, \"#9c179e\"], [0.4444444444444444, \"#bd3786\"], [0.5555555555555556, \"#d8576b\"], [0.6666666666666666, \"#ed7953\"], [0.7777777777777778, \"#fb9f3a\"], [0.8888888888888888, \"#fdca26\"], [1.0, \"#f0f921\"]]}, \"colorway\": [\"#636efa\", \"#EF553B\", \"#00cc96\", \"#ab63fa\", \"#FFA15A\", \"#19d3f3\", \"#FF6692\", \"#B6E880\", \"#FF97FF\", \"#FECB52\"], \"font\": {\"color\": \"#2a3f5f\"}, \"geo\": {\"bgcolor\": \"white\", \"lakecolor\": \"white\", \"landcolor\": \"#E5ECF6\", \"showlakes\": true, \"showland\": true, \"subunitcolor\": \"white\"}, \"hoverlabel\": {\"align\": \"left\"}, \"hovermode\": \"closest\", \"mapbox\": {\"style\": \"light\"}, \"paper_bgcolor\": \"white\", \"plot_bgcolor\": \"#E5ECF6\", \"polar\": {\"angularaxis\": {\"gridcolor\": \"white\", \"linecolor\": \"white\", \"ticks\": \"\"}, \"bgcolor\": \"#E5ECF6\", \"radialaxis\": {\"gridcolor\": \"white\", \"linecolor\": \"white\", \"ticks\": \"\"}}, \"scene\": {\"xaxis\": {\"backgroundcolor\": \"#E5ECF6\", \"gridcolor\": \"white\", \"gridwidth\": 2, \"linecolor\": \"white\", \"showbackground\": true, \"ticks\": \"\", \"zerolinecolor\": \"white\"}, \"yaxis\": {\"backgroundcolor\": \"#E5ECF6\", \"gridcolor\": \"white\", \"gridwidth\": 2, \"linecolor\": \"white\", \"showbackground\": true, \"ticks\": \"\", \"zerolinecolor\": \"white\"}, \"zaxis\": {\"backgroundcolor\": \"#E5ECF6\", \"gridcolor\": \"white\", \"gridwidth\": 2, \"linecolor\": \"white\", \"showbackground\": true, \"ticks\": \"\", \"zerolinecolor\": \"white\"}}, \"shapedefaults\": {\"line\": {\"color\": \"#2a3f5f\"}}, \"ternary\": {\"aaxis\": {\"gridcolor\": \"white\", \"linecolor\": \"white\", \"ticks\": \"\"}, \"baxis\": {\"gridcolor\": \"white\", \"linecolor\": \"white\", \"ticks\": \"\"}, \"bgcolor\": \"#E5ECF6\", \"caxis\": {\"gridcolor\": \"white\", \"linecolor\": \"white\", \"ticks\": \"\"}}, \"title\": {\"x\": 0.05}, \"xaxis\": {\"automargin\": true, \"gridcolor\": \"white\", \"linecolor\": \"white\", \"ticks\": \"\", \"title\": {\"standoff\": 15}, \"zerolinecolor\": \"white\", \"zerolinewidth\": 2}, \"yaxis\": {\"automargin\": true, \"gridcolor\": \"white\", \"linecolor\": \"white\", \"ticks\": \"\", \"title\": {\"standoff\": 15}, \"zerolinecolor\": \"white\", \"zerolinewidth\": 2}}}, \"title\": {\"text\": \"Contour Plot\"}, \"xaxis\": {\"anchor\": \"y\", \"domain\": [0.0, 0.2125], \"matches\": \"x13\", \"range\": [-3.1892547779387233, 1.146344056273638], \"showticklabels\": false, \"type\": \"log\"}, \"xaxis10\": {\"anchor\": \"y10\", \"domain\": [0.2625, 0.475], \"matches\": \"x14\", \"range\": [-3.034194213622776, 1.0954575690680308], \"showticklabels\": false, \"type\": \"log\"}, \"xaxis11\": {\"anchor\": \"y11\", \"domain\": [0.525, 0.7375], \"matches\": \"x15\", \"range\": [0.0074, 0.0206], \"showticklabels\": false}, \"xaxis12\": {\"anchor\": \"y12\", \"domain\": [0.7875, 1.0], \"matches\": \"x16\", \"range\": [0.37, 1.03], \"showticklabels\": false}, \"xaxis13\": {\"anchor\": \"y13\", \"domain\": [0.0, 0.2125], \"range\": [-3.1892547779387233, 1.146344056273638], \"title\": {\"text\": \"alpha\"}, \"type\": \"log\"}, \"xaxis14\": {\"anchor\": \"y14\", \"domain\": [0.2625, 0.475], \"range\": [-3.034194213622776, 1.0954575690680308], \"title\": {\"text\": \"lambda\"}, \"type\": \"log\"}, \"xaxis15\": {\"anchor\": \"y15\", \"domain\": [0.525, 0.7375], \"range\": [0.0074, 0.0206], \"title\": {\"text\": \"learning_rate\"}}, \"xaxis16\": {\"anchor\": \"y16\", \"domain\": [0.7875, 1.0], \"range\": [0.37, 1.03], \"title\": {\"text\": \"subsample\"}}, \"xaxis2\": {\"anchor\": \"y2\", \"domain\": [0.2625, 0.475], \"matches\": \"x14\", \"range\": [-3.034194213622776, 1.0954575690680308], \"showticklabels\": false, \"type\": \"log\"}, \"xaxis3\": {\"anchor\": \"y3\", \"domain\": [0.525, 0.7375], \"matches\": \"x15\", \"range\": [0.0074, 0.0206], \"showticklabels\": false}, \"xaxis4\": {\"anchor\": \"y4\", \"domain\": [0.7875, 1.0], \"matches\": \"x16\", \"range\": [0.37, 1.03], \"showticklabels\": false}, \"xaxis5\": {\"anchor\": \"y5\", \"domain\": [0.0, 0.2125], \"matches\": \"x13\", \"range\": [-3.1892547779387233, 1.146344056273638], \"showticklabels\": false, \"type\": \"log\"}, \"xaxis6\": {\"anchor\": \"y6\", \"domain\": [0.2625, 0.475], \"matches\": \"x14\", \"range\": [-3.034194213622776, 1.0954575690680308], \"showticklabels\": false, \"type\": \"log\"}, \"xaxis7\": {\"anchor\": \"y7\", \"domain\": [0.525, 0.7375], \"matches\": \"x15\", \"range\": [0.0074, 0.0206], \"showticklabels\": false}, \"xaxis8\": {\"anchor\": \"y8\", \"domain\": [0.7875, 1.0], \"matches\": \"x16\", \"range\": [0.37, 1.03], \"showticklabels\": false}, \"xaxis9\": {\"anchor\": \"y9\", \"domain\": [0.0, 0.2125], \"matches\": \"x13\", \"range\": [-3.1892547779387233, 1.146344056273638], \"showticklabels\": false, \"type\": \"log\"}, \"yaxis\": {\"anchor\": \"x\", \"domain\": [0.80625, 1.0], \"range\": [-3.1892547779387233, 1.146344056273638], \"title\": {\"text\": \"alpha\"}, \"type\": \"log\"}, \"yaxis10\": {\"anchor\": \"x10\", \"domain\": [0.26875, 0.4625], \"matches\": \"y9\", \"range\": [0.0074, 0.0206], \"showticklabels\": false}, \"yaxis11\": {\"anchor\": \"x11\", \"domain\": [0.26875, 0.4625], \"matches\": \"y9\", \"range\": [0.0074, 0.0206], \"showticklabels\": false}, \"yaxis12\": {\"anchor\": \"x12\", \"domain\": [0.26875, 0.4625], \"matches\": \"y9\", \"range\": [0.0074, 0.0206], \"showticklabels\": false}, \"yaxis13\": {\"anchor\": \"x13\", \"domain\": [0.0, 0.19375], \"range\": [0.37, 1.03], \"title\": {\"text\": \"subsample\"}}, \"yaxis14\": {\"anchor\": \"x14\", \"domain\": [0.0, 0.19375], \"matches\": \"y13\", \"range\": [0.37, 1.03], \"showticklabels\": false}, \"yaxis15\": {\"anchor\": \"x15\", \"domain\": [0.0, 0.19375], \"matches\": \"y13\", \"range\": [0.37, 1.03], \"showticklabels\": false}, \"yaxis16\": {\"anchor\": \"x16\", \"domain\": [0.0, 0.19375], \"matches\": \"y13\", \"range\": [0.37, 1.03], \"showticklabels\": false}, \"yaxis2\": {\"anchor\": \"x2\", \"domain\": [0.80625, 1.0], \"matches\": \"y\", \"range\": [-3.1892547779387233, 1.146344056273638], \"showticklabels\": false, \"type\": \"log\"}, \"yaxis3\": {\"anchor\": \"x3\", \"domain\": [0.80625, 1.0], \"matches\": \"y\", \"range\": [-3.1892547779387233, 1.146344056273638], \"showticklabels\": false, \"type\": \"log\"}, \"yaxis4\": {\"anchor\": \"x4\", \"domain\": [0.80625, 1.0], \"matches\": \"y\", \"range\": [-3.1892547779387233, 1.146344056273638], \"showticklabels\": false, \"type\": \"log\"}, \"yaxis5\": {\"anchor\": \"x5\", \"domain\": [0.5375, 0.73125], \"range\": [-3.034194213622776, 1.0954575690680308], \"title\": {\"text\": \"lambda\"}, \"type\": \"log\"}, \"yaxis6\": {\"anchor\": \"x6\", \"domain\": [0.5375, 0.73125], \"matches\": \"y5\", \"range\": [-3.034194213622776, 1.0954575690680308], \"showticklabels\": false, \"type\": \"log\"}, \"yaxis7\": {\"anchor\": \"x7\", \"domain\": [0.5375, 0.73125], \"matches\": \"y5\", \"range\": [-3.034194213622776, 1.0954575690680308], \"showticklabels\": false, \"type\": \"log\"}, \"yaxis8\": {\"anchor\": \"x8\", \"domain\": [0.5375, 0.73125], \"matches\": \"y5\", \"range\": [-3.034194213622776, 1.0954575690680308], \"showticklabels\": false, \"type\": \"log\"}, \"yaxis9\": {\"anchor\": \"x9\", \"domain\": [0.26875, 0.4625], \"range\": [0.0074, 0.0206], \"title\": {\"text\": \"learning_rate\"}}},\n",
              "                        {\"responsive\": true}\n",
              "                    ).then(function(){\n",
              "                            \n",
              "var gd = document.getElementById('6f7e56cf-4dd7-477e-9864-19831b628d99');\n",
              "var x = new MutationObserver(function (mutations, observer) {{\n",
              "        var display = window.getComputedStyle(gd).display;\n",
              "        if (!display || display === 'none') {{\n",
              "            console.log([gd, 'removed!']);\n",
              "            Plotly.purge(gd);\n",
              "            observer.disconnect();\n",
              "        }}\n",
              "}});\n",
              "\n",
              "// Listen for the removal of the full notebook cells\n",
              "var notebookContainer = gd.closest('#notebook-container');\n",
              "if (notebookContainer) {{\n",
              "    x.observe(notebookContainer, {childList: true});\n",
              "}}\n",
              "\n",
              "// Listen for the clearing of the current output cell\n",
              "var outputEl = gd.closest('.output');\n",
              "if (outputEl) {{\n",
              "    x.observe(outputEl, {childList: true});\n",
              "}}\n",
              "\n",
              "                        })\n",
              "                };\n",
              "                \n",
              "            </script>\n",
              "        </div>\n",
              "</body>\n",
              "</html>"
            ]
          },
          "metadata": {
            "tags": []
          }
        }
      ]
    },
    {
      "cell_type": "markdown",
      "metadata": {
        "id": "DURo85VUnuW8"
      },
      "source": [
        "Visualize parameter importances."
      ]
    },
    {
      "cell_type": "code",
      "metadata": {
        "colab": {
          "base_uri": "https://localhost:8080/",
          "height": 542
        },
        "id": "I7wvtxJi3ovT",
        "outputId": "c12285cd-73d0-4488-d0f9-b36d38830c82"
      },
      "source": [
        "optuna.visualization.plot_param_importances(study)"
      ],
      "execution_count": null,
      "outputs": [
        {
          "output_type": "display_data",
          "data": {
            "text/html": [
              "<html>\n",
              "<head><meta charset=\"utf-8\" /></head>\n",
              "<body>\n",
              "    <div>\n",
              "            <script src=\"https://cdnjs.cloudflare.com/ajax/libs/mathjax/2.7.5/MathJax.js?config=TeX-AMS-MML_SVG\"></script><script type=\"text/javascript\">if (window.MathJax) {MathJax.Hub.Config({SVG: {font: \"STIX-Web\"}});}</script>\n",
              "                <script type=\"text/javascript\">window.PlotlyConfig = {MathJaxConfig: 'local'};</script>\n",
              "        <script src=\"https://cdn.plot.ly/plotly-latest.min.js\"></script>    \n",
              "            <div id=\"518c5fe6-86b4-4183-8f7d-3963072889cb\" class=\"plotly-graph-div\" style=\"height:525px; width:100%;\"></div>\n",
              "            <script type=\"text/javascript\">\n",
              "                \n",
              "                    window.PLOTLYENV=window.PLOTLYENV || {};\n",
              "                    \n",
              "                if (document.getElementById(\"518c5fe6-86b4-4183-8f7d-3963072889cb\")) {\n",
              "                    Plotly.newPlot(\n",
              "                        '518c5fe6-86b4-4183-8f7d-3963072889cb',\n",
              "                        [{\"cliponaxis\": false, \"hovertemplate\": [\"random_state (CategoricalDistribution): 0.002415273369974217<extra></extra>\", \"subsample (CategoricalDistribution): 0.012198836192085677<extra></extra>\", \"alpha (LogUniformDistribution): 0.01719792386954853<extra></extra>\", \"min_child_weight (IntUniformDistribution): 0.032348598925313686<extra></extra>\", \"lambda (LogUniformDistribution): 0.03418357123566806<extra></extra>\", \"colsample_bytree (CategoricalDistribution): 0.104878596118293<extra></extra>\", \"learning_rate (CategoricalDistribution): 0.2044465322505238<extra></extra>\", \"max_depth (CategoricalDistribution): 0.592330668038593<extra></extra>\"], \"marker\": {\"color\": \"rgb(66,146,198)\"}, \"orientation\": \"h\", \"text\": [\"0.002415273369974217\", \"0.012198836192085677\", \"0.01719792386954853\", \"0.032348598925313686\", \"0.03418357123566806\", \"0.104878596118293\", \"0.2044465322505238\", \"0.592330668038593\"], \"textposition\": \"outside\", \"texttemplate\": \"%{text:.2f}\", \"type\": \"bar\", \"x\": [0.002415273369974217, 0.012198836192085677, 0.01719792386954853, 0.032348598925313686, 0.03418357123566806, 0.104878596118293, 0.2044465322505238, 0.592330668038593], \"y\": [\"random_state\", \"subsample\", \"alpha\", \"min_child_weight\", \"lambda\", \"colsample_bytree\", \"learning_rate\", \"max_depth\"]}],\n",
              "                        {\"showlegend\": false, \"template\": {\"data\": {\"bar\": [{\"error_x\": {\"color\": \"#2a3f5f\"}, \"error_y\": {\"color\": \"#2a3f5f\"}, \"marker\": {\"line\": {\"color\": \"#E5ECF6\", \"width\": 0.5}}, \"type\": \"bar\"}], \"barpolar\": [{\"marker\": {\"line\": {\"color\": \"#E5ECF6\", \"width\": 0.5}}, \"type\": \"barpolar\"}], \"carpet\": [{\"aaxis\": {\"endlinecolor\": \"#2a3f5f\", \"gridcolor\": \"white\", \"linecolor\": \"white\", \"minorgridcolor\": \"white\", \"startlinecolor\": \"#2a3f5f\"}, \"baxis\": {\"endlinecolor\": \"#2a3f5f\", \"gridcolor\": \"white\", \"linecolor\": \"white\", \"minorgridcolor\": \"white\", \"startlinecolor\": \"#2a3f5f\"}, \"type\": \"carpet\"}], \"choropleth\": [{\"colorbar\": {\"outlinewidth\": 0, \"ticks\": \"\"}, \"type\": \"choropleth\"}], \"contour\": [{\"colorbar\": {\"outlinewidth\": 0, \"ticks\": \"\"}, \"colorscale\": [[0.0, \"#0d0887\"], [0.1111111111111111, \"#46039f\"], [0.2222222222222222, \"#7201a8\"], [0.3333333333333333, \"#9c179e\"], [0.4444444444444444, \"#bd3786\"], [0.5555555555555556, \"#d8576b\"], [0.6666666666666666, \"#ed7953\"], [0.7777777777777778, \"#fb9f3a\"], [0.8888888888888888, \"#fdca26\"], [1.0, \"#f0f921\"]], \"type\": \"contour\"}], \"contourcarpet\": [{\"colorbar\": {\"outlinewidth\": 0, \"ticks\": \"\"}, \"type\": \"contourcarpet\"}], \"heatmap\": [{\"colorbar\": {\"outlinewidth\": 0, \"ticks\": \"\"}, \"colorscale\": [[0.0, \"#0d0887\"], [0.1111111111111111, \"#46039f\"], [0.2222222222222222, \"#7201a8\"], [0.3333333333333333, \"#9c179e\"], [0.4444444444444444, \"#bd3786\"], [0.5555555555555556, \"#d8576b\"], [0.6666666666666666, \"#ed7953\"], [0.7777777777777778, \"#fb9f3a\"], [0.8888888888888888, \"#fdca26\"], [1.0, \"#f0f921\"]], \"type\": \"heatmap\"}], \"heatmapgl\": [{\"colorbar\": {\"outlinewidth\": 0, \"ticks\": \"\"}, \"colorscale\": [[0.0, \"#0d0887\"], [0.1111111111111111, \"#46039f\"], [0.2222222222222222, \"#7201a8\"], [0.3333333333333333, \"#9c179e\"], [0.4444444444444444, \"#bd3786\"], [0.5555555555555556, \"#d8576b\"], [0.6666666666666666, \"#ed7953\"], [0.7777777777777778, \"#fb9f3a\"], [0.8888888888888888, \"#fdca26\"], [1.0, \"#f0f921\"]], \"type\": \"heatmapgl\"}], \"histogram\": [{\"marker\": {\"colorbar\": {\"outlinewidth\": 0, \"ticks\": \"\"}}, \"type\": \"histogram\"}], \"histogram2d\": [{\"colorbar\": {\"outlinewidth\": 0, \"ticks\": \"\"}, \"colorscale\": [[0.0, \"#0d0887\"], [0.1111111111111111, \"#46039f\"], [0.2222222222222222, \"#7201a8\"], [0.3333333333333333, \"#9c179e\"], [0.4444444444444444, \"#bd3786\"], [0.5555555555555556, \"#d8576b\"], [0.6666666666666666, \"#ed7953\"], [0.7777777777777778, \"#fb9f3a\"], [0.8888888888888888, \"#fdca26\"], [1.0, \"#f0f921\"]], \"type\": \"histogram2d\"}], \"histogram2dcontour\": [{\"colorbar\": {\"outlinewidth\": 0, \"ticks\": \"\"}, \"colorscale\": [[0.0, \"#0d0887\"], [0.1111111111111111, \"#46039f\"], [0.2222222222222222, \"#7201a8\"], [0.3333333333333333, \"#9c179e\"], [0.4444444444444444, \"#bd3786\"], [0.5555555555555556, \"#d8576b\"], [0.6666666666666666, \"#ed7953\"], [0.7777777777777778, \"#fb9f3a\"], [0.8888888888888888, \"#fdca26\"], [1.0, \"#f0f921\"]], \"type\": \"histogram2dcontour\"}], \"mesh3d\": [{\"colorbar\": {\"outlinewidth\": 0, \"ticks\": \"\"}, \"type\": \"mesh3d\"}], \"parcoords\": [{\"line\": {\"colorbar\": {\"outlinewidth\": 0, \"ticks\": \"\"}}, \"type\": \"parcoords\"}], \"pie\": [{\"automargin\": true, \"type\": \"pie\"}], \"scatter\": [{\"marker\": {\"colorbar\": {\"outlinewidth\": 0, \"ticks\": \"\"}}, \"type\": \"scatter\"}], \"scatter3d\": [{\"line\": {\"colorbar\": {\"outlinewidth\": 0, \"ticks\": \"\"}}, \"marker\": {\"colorbar\": {\"outlinewidth\": 0, \"ticks\": \"\"}}, \"type\": \"scatter3d\"}], \"scattercarpet\": [{\"marker\": {\"colorbar\": {\"outlinewidth\": 0, \"ticks\": \"\"}}, \"type\": \"scattercarpet\"}], \"scattergeo\": [{\"marker\": {\"colorbar\": {\"outlinewidth\": 0, \"ticks\": \"\"}}, \"type\": \"scattergeo\"}], \"scattergl\": [{\"marker\": {\"colorbar\": {\"outlinewidth\": 0, \"ticks\": \"\"}}, \"type\": \"scattergl\"}], \"scattermapbox\": [{\"marker\": {\"colorbar\": {\"outlinewidth\": 0, \"ticks\": \"\"}}, \"type\": \"scattermapbox\"}], \"scatterpolar\": [{\"marker\": {\"colorbar\": {\"outlinewidth\": 0, \"ticks\": \"\"}}, \"type\": \"scatterpolar\"}], \"scatterpolargl\": [{\"marker\": {\"colorbar\": {\"outlinewidth\": 0, \"ticks\": \"\"}}, \"type\": \"scatterpolargl\"}], \"scatterternary\": [{\"marker\": {\"colorbar\": {\"outlinewidth\": 0, \"ticks\": \"\"}}, \"type\": \"scatterternary\"}], \"surface\": [{\"colorbar\": {\"outlinewidth\": 0, \"ticks\": \"\"}, \"colorscale\": [[0.0, \"#0d0887\"], [0.1111111111111111, \"#46039f\"], [0.2222222222222222, \"#7201a8\"], [0.3333333333333333, \"#9c179e\"], [0.4444444444444444, \"#bd3786\"], [0.5555555555555556, \"#d8576b\"], [0.6666666666666666, \"#ed7953\"], [0.7777777777777778, \"#fb9f3a\"], [0.8888888888888888, \"#fdca26\"], [1.0, \"#f0f921\"]], \"type\": \"surface\"}], \"table\": [{\"cells\": {\"fill\": {\"color\": \"#EBF0F8\"}, \"line\": {\"color\": \"white\"}}, \"header\": {\"fill\": {\"color\": \"#C8D4E3\"}, \"line\": {\"color\": \"white\"}}, \"type\": \"table\"}]}, \"layout\": {\"annotationdefaults\": {\"arrowcolor\": \"#2a3f5f\", \"arrowhead\": 0, \"arrowwidth\": 1}, \"coloraxis\": {\"colorbar\": {\"outlinewidth\": 0, \"ticks\": \"\"}}, \"colorscale\": {\"diverging\": [[0, \"#8e0152\"], [0.1, \"#c51b7d\"], [0.2, \"#de77ae\"], [0.3, \"#f1b6da\"], [0.4, \"#fde0ef\"], [0.5, \"#f7f7f7\"], [0.6, \"#e6f5d0\"], [0.7, \"#b8e186\"], [0.8, \"#7fbc41\"], [0.9, \"#4d9221\"], [1, \"#276419\"]], \"sequential\": [[0.0, \"#0d0887\"], [0.1111111111111111, \"#46039f\"], [0.2222222222222222, \"#7201a8\"], [0.3333333333333333, \"#9c179e\"], [0.4444444444444444, \"#bd3786\"], [0.5555555555555556, \"#d8576b\"], [0.6666666666666666, \"#ed7953\"], [0.7777777777777778, \"#fb9f3a\"], [0.8888888888888888, \"#fdca26\"], [1.0, \"#f0f921\"]], \"sequentialminus\": [[0.0, \"#0d0887\"], [0.1111111111111111, \"#46039f\"], [0.2222222222222222, \"#7201a8\"], [0.3333333333333333, \"#9c179e\"], [0.4444444444444444, \"#bd3786\"], [0.5555555555555556, \"#d8576b\"], [0.6666666666666666, \"#ed7953\"], [0.7777777777777778, \"#fb9f3a\"], [0.8888888888888888, \"#fdca26\"], [1.0, \"#f0f921\"]]}, \"colorway\": [\"#636efa\", \"#EF553B\", \"#00cc96\", \"#ab63fa\", \"#FFA15A\", \"#19d3f3\", \"#FF6692\", \"#B6E880\", \"#FF97FF\", \"#FECB52\"], \"font\": {\"color\": \"#2a3f5f\"}, \"geo\": {\"bgcolor\": \"white\", \"lakecolor\": \"white\", \"landcolor\": \"#E5ECF6\", \"showlakes\": true, \"showland\": true, \"subunitcolor\": \"white\"}, \"hoverlabel\": {\"align\": \"left\"}, \"hovermode\": \"closest\", \"mapbox\": {\"style\": \"light\"}, \"paper_bgcolor\": \"white\", \"plot_bgcolor\": \"#E5ECF6\", \"polar\": {\"angularaxis\": {\"gridcolor\": \"white\", \"linecolor\": \"white\", \"ticks\": \"\"}, \"bgcolor\": \"#E5ECF6\", \"radialaxis\": {\"gridcolor\": \"white\", \"linecolor\": \"white\", \"ticks\": \"\"}}, \"scene\": {\"xaxis\": {\"backgroundcolor\": \"#E5ECF6\", \"gridcolor\": \"white\", \"gridwidth\": 2, \"linecolor\": \"white\", \"showbackground\": true, \"ticks\": \"\", \"zerolinecolor\": \"white\"}, \"yaxis\": {\"backgroundcolor\": \"#E5ECF6\", \"gridcolor\": \"white\", \"gridwidth\": 2, \"linecolor\": \"white\", \"showbackground\": true, \"ticks\": \"\", \"zerolinecolor\": \"white\"}, \"zaxis\": {\"backgroundcolor\": \"#E5ECF6\", \"gridcolor\": \"white\", \"gridwidth\": 2, \"linecolor\": \"white\", \"showbackground\": true, \"ticks\": \"\", \"zerolinecolor\": \"white\"}}, \"shapedefaults\": {\"line\": {\"color\": \"#2a3f5f\"}}, \"ternary\": {\"aaxis\": {\"gridcolor\": \"white\", \"linecolor\": \"white\", \"ticks\": \"\"}, \"baxis\": {\"gridcolor\": \"white\", \"linecolor\": \"white\", \"ticks\": \"\"}, \"bgcolor\": \"#E5ECF6\", \"caxis\": {\"gridcolor\": \"white\", \"linecolor\": \"white\", \"ticks\": \"\"}}, \"title\": {\"x\": 0.05}, \"xaxis\": {\"automargin\": true, \"gridcolor\": \"white\", \"linecolor\": \"white\", \"ticks\": \"\", \"title\": {\"standoff\": 15}, \"zerolinecolor\": \"white\", \"zerolinewidth\": 2}, \"yaxis\": {\"automargin\": true, \"gridcolor\": \"white\", \"linecolor\": \"white\", \"ticks\": \"\", \"title\": {\"standoff\": 15}, \"zerolinecolor\": \"white\", \"zerolinewidth\": 2}}}, \"title\": {\"text\": \"Hyperparameter Importances\"}, \"xaxis\": {\"title\": {\"text\": \"Importance for Objective Value\"}}, \"yaxis\": {\"title\": {\"text\": \"Hyperparameter\"}}},\n",
              "                        {\"responsive\": true}\n",
              "                    ).then(function(){\n",
              "                            \n",
              "var gd = document.getElementById('518c5fe6-86b4-4183-8f7d-3963072889cb');\n",
              "var x = new MutationObserver(function (mutations, observer) {{\n",
              "        var display = window.getComputedStyle(gd).display;\n",
              "        if (!display || display === 'none') {{\n",
              "            console.log([gd, 'removed!']);\n",
              "            Plotly.purge(gd);\n",
              "            observer.disconnect();\n",
              "        }}\n",
              "}});\n",
              "\n",
              "// Listen for the removal of the full notebook cells\n",
              "var notebookContainer = gd.closest('#notebook-container');\n",
              "if (notebookContainer) {{\n",
              "    x.observe(notebookContainer, {childList: true});\n",
              "}}\n",
              "\n",
              "// Listen for the clearing of the current output cell\n",
              "var outputEl = gd.closest('.output');\n",
              "if (outputEl) {{\n",
              "    x.observe(outputEl, {childList: true});\n",
              "}}\n",
              "\n",
              "                        })\n",
              "                };\n",
              "                \n",
              "            </script>\n",
              "        </div>\n",
              "</body>\n",
              "</html>"
            ]
          },
          "metadata": {
            "tags": []
          }
        }
      ]
    },
    {
      "cell_type": "markdown",
      "metadata": {
        "id": "mtiVGL5Znwyt"
      },
      "source": [
        "Visualize empirical distribution function"
      ]
    },
    {
      "cell_type": "code",
      "metadata": {
        "colab": {
          "base_uri": "https://localhost:8080/",
          "height": 542
        },
        "id": "QrmyJbHn3p9m",
        "outputId": "e3c93325-83f8-4173-8193-88dfa184a229"
      },
      "source": [
        "optuna.visualization.plot_edf(study)"
      ],
      "execution_count": null,
      "outputs": [
        {
          "output_type": "display_data",
          "data": {
            "text/html": [
              "<html>\n",
              "<head><meta charset=\"utf-8\" /></head>\n",
              "<body>\n",
              "    <div>\n",
              "            <script src=\"https://cdnjs.cloudflare.com/ajax/libs/mathjax/2.7.5/MathJax.js?config=TeX-AMS-MML_SVG\"></script><script type=\"text/javascript\">if (window.MathJax) {MathJax.Hub.Config({SVG: {font: \"STIX-Web\"}});}</script>\n",
              "                <script type=\"text/javascript\">window.PlotlyConfig = {MathJaxConfig: 'local'};</script>\n",
              "        <script src=\"https://cdn.plot.ly/plotly-latest.min.js\"></script>    \n",
              "            <div id=\"e1c47010-9584-4250-8eb9-6a84981a9d70\" class=\"plotly-graph-div\" style=\"height:525px; width:100%;\"></div>\n",
              "            <script type=\"text/javascript\">\n",
              "                \n",
              "                    window.PLOTLYENV=window.PLOTLYENV || {};\n",
              "                    \n",
              "                if (document.getElementById(\"e1c47010-9584-4250-8eb9-6a84981a9d70\")) {\n",
              "                    Plotly.newPlot(\n",
              "                        'e1c47010-9584-4250-8eb9-6a84981a9d70',\n",
              "                        [{\"mode\": \"lines\", \"name\": \"no-name-fe83554f-1bcf-4f1e-976a-1d2d12ba22da\", \"type\": \"scatter\", \"x\": [0.9349120024842033, 0.935231034561725, 0.9355500666392467, 0.9358690987167684, 0.9361881307942901, 0.9365071628718118, 0.9368261949493335, 0.9371452270268552, 0.937464259104377, 0.9377832911818987, 0.9381023232594204, 0.9384213553369422, 0.9387403874144639, 0.9390594194919856, 0.9393784515695073, 0.939697483647029, 0.9400165157245507, 0.9403355478020724, 0.9406545798795941, 0.9409736119571158, 0.9412926440346375, 0.9416116761121592, 0.941930708189681, 0.9422497402672028, 0.9425687723447245, 0.9428878044222462, 0.9432068364997679, 0.9435258685772896, 0.9438449006548113, 0.944163932732333, 0.9444829648098547, 0.9448019968873764, 0.9451210289648981, 0.9454400610424198, 0.9457590931199416, 0.9460781251974633, 0.9463971572749851, 0.9467161893525068, 0.9470352214300285, 0.9473542535075502, 0.9476732855850719, 0.9479923176625936, 0.9483113497401153, 0.948630381817637, 0.9489494138951587, 0.9492684459726805, 0.9495874780502022, 0.9499065101277239, 0.9502255422052456, 0.9505445742827673, 0.9508636063602891, 0.9511826384378108, 0.9515016705153325, 0.9518207025928542, 0.9521397346703759, 0.9524587667478976, 0.9527777988254194, 0.9530968309029411, 0.9534158629804628, 0.9537348950579845, 0.9540539271355062, 0.9543729592130279, 0.9546919912905496, 0.9550110233680713, 0.9553300554455931, 0.9556490875231148, 0.9559681196006365, 0.9562871516781583, 0.95660618375568, 0.9569252158332017, 0.9572442479107234, 0.9575632799882451, 0.9578823120657668, 0.9582013441432885, 0.9585203762208102, 0.9588394082983319, 0.9591584403758536, 0.9594774724533753, 0.9597965045308972, 0.9601155366084189, 0.9604345686859406, 0.9607536007634623, 0.961072632840984, 0.9613916649185057, 0.9617106969960274, 0.9620297290735491, 0.9623487611510708, 0.9626677932285925, 0.9629868253061142, 0.9633058573836359, 0.9636248894611577, 0.9639439215386794, 0.9642629536162011, 0.9645819856937229, 0.9649010177712446, 0.9652200498487663, 0.965539081926288, 0.9658581140038097, 0.9661771460813314, 0.9664961781588531], \"y\": [0.02, 0.02, 0.02, 0.02, 0.02, 0.02, 0.02, 0.02, 0.02, 0.02, 0.02, 0.02, 0.02, 0.02, 0.02, 0.02, 0.02, 0.02, 0.02, 0.02, 0.04, 0.04, 0.04, 0.04, 0.04, 0.04, 0.06, 0.06, 0.06, 0.06, 0.06, 0.06, 0.06, 0.06, 0.06, 0.06, 0.06, 0.06, 0.06, 0.06, 0.06, 0.06, 0.06, 0.06, 0.06, 0.06, 0.06, 0.06, 0.06, 0.06, 0.06, 0.06, 0.06, 0.06, 0.06, 0.06, 0.06, 0.06, 0.06, 0.06, 0.06, 0.06, 0.06, 0.06, 0.06, 0.06, 0.06, 0.06, 0.06, 0.06, 0.06, 0.06, 0.06, 0.08, 0.1, 0.1, 0.1, 0.1, 0.1, 0.1, 0.1, 0.12, 0.12, 0.12, 0.14, 0.14, 0.14, 0.14, 0.14, 0.16, 0.2, 0.24, 0.28, 0.28, 0.3, 0.34, 0.44, 0.58, 0.84, 1.0]}],\n",
              "                        {\"template\": {\"data\": {\"bar\": [{\"error_x\": {\"color\": \"#2a3f5f\"}, \"error_y\": {\"color\": \"#2a3f5f\"}, \"marker\": {\"line\": {\"color\": \"#E5ECF6\", \"width\": 0.5}}, \"type\": \"bar\"}], \"barpolar\": [{\"marker\": {\"line\": {\"color\": \"#E5ECF6\", \"width\": 0.5}}, \"type\": \"barpolar\"}], \"carpet\": [{\"aaxis\": {\"endlinecolor\": \"#2a3f5f\", \"gridcolor\": \"white\", \"linecolor\": \"white\", \"minorgridcolor\": \"white\", \"startlinecolor\": \"#2a3f5f\"}, \"baxis\": {\"endlinecolor\": \"#2a3f5f\", \"gridcolor\": \"white\", \"linecolor\": \"white\", \"minorgridcolor\": \"white\", \"startlinecolor\": \"#2a3f5f\"}, \"type\": \"carpet\"}], \"choropleth\": [{\"colorbar\": {\"outlinewidth\": 0, \"ticks\": \"\"}, \"type\": \"choropleth\"}], \"contour\": [{\"colorbar\": {\"outlinewidth\": 0, \"ticks\": \"\"}, \"colorscale\": [[0.0, \"#0d0887\"], [0.1111111111111111, \"#46039f\"], [0.2222222222222222, \"#7201a8\"], [0.3333333333333333, \"#9c179e\"], [0.4444444444444444, \"#bd3786\"], [0.5555555555555556, \"#d8576b\"], [0.6666666666666666, \"#ed7953\"], [0.7777777777777778, \"#fb9f3a\"], [0.8888888888888888, \"#fdca26\"], [1.0, \"#f0f921\"]], \"type\": \"contour\"}], \"contourcarpet\": [{\"colorbar\": {\"outlinewidth\": 0, \"ticks\": \"\"}, \"type\": \"contourcarpet\"}], \"heatmap\": [{\"colorbar\": {\"outlinewidth\": 0, \"ticks\": \"\"}, \"colorscale\": [[0.0, \"#0d0887\"], [0.1111111111111111, \"#46039f\"], [0.2222222222222222, \"#7201a8\"], [0.3333333333333333, \"#9c179e\"], [0.4444444444444444, \"#bd3786\"], [0.5555555555555556, \"#d8576b\"], [0.6666666666666666, \"#ed7953\"], [0.7777777777777778, \"#fb9f3a\"], [0.8888888888888888, \"#fdca26\"], [1.0, \"#f0f921\"]], \"type\": \"heatmap\"}], \"heatmapgl\": [{\"colorbar\": {\"outlinewidth\": 0, \"ticks\": \"\"}, \"colorscale\": [[0.0, \"#0d0887\"], [0.1111111111111111, \"#46039f\"], [0.2222222222222222, \"#7201a8\"], [0.3333333333333333, \"#9c179e\"], [0.4444444444444444, \"#bd3786\"], [0.5555555555555556, \"#d8576b\"], [0.6666666666666666, \"#ed7953\"], [0.7777777777777778, \"#fb9f3a\"], [0.8888888888888888, \"#fdca26\"], [1.0, \"#f0f921\"]], \"type\": \"heatmapgl\"}], \"histogram\": [{\"marker\": {\"colorbar\": {\"outlinewidth\": 0, \"ticks\": \"\"}}, \"type\": \"histogram\"}], \"histogram2d\": [{\"colorbar\": {\"outlinewidth\": 0, \"ticks\": \"\"}, \"colorscale\": [[0.0, \"#0d0887\"], [0.1111111111111111, \"#46039f\"], [0.2222222222222222, \"#7201a8\"], [0.3333333333333333, \"#9c179e\"], [0.4444444444444444, \"#bd3786\"], [0.5555555555555556, \"#d8576b\"], [0.6666666666666666, \"#ed7953\"], [0.7777777777777778, \"#fb9f3a\"], [0.8888888888888888, \"#fdca26\"], [1.0, \"#f0f921\"]], \"type\": \"histogram2d\"}], \"histogram2dcontour\": [{\"colorbar\": {\"outlinewidth\": 0, \"ticks\": \"\"}, \"colorscale\": [[0.0, \"#0d0887\"], [0.1111111111111111, \"#46039f\"], [0.2222222222222222, \"#7201a8\"], [0.3333333333333333, \"#9c179e\"], [0.4444444444444444, \"#bd3786\"], [0.5555555555555556, \"#d8576b\"], [0.6666666666666666, \"#ed7953\"], [0.7777777777777778, \"#fb9f3a\"], [0.8888888888888888, \"#fdca26\"], [1.0, \"#f0f921\"]], \"type\": \"histogram2dcontour\"}], \"mesh3d\": [{\"colorbar\": {\"outlinewidth\": 0, \"ticks\": \"\"}, \"type\": \"mesh3d\"}], \"parcoords\": [{\"line\": {\"colorbar\": {\"outlinewidth\": 0, \"ticks\": \"\"}}, \"type\": \"parcoords\"}], \"pie\": [{\"automargin\": true, \"type\": \"pie\"}], \"scatter\": [{\"marker\": {\"colorbar\": {\"outlinewidth\": 0, \"ticks\": \"\"}}, \"type\": \"scatter\"}], \"scatter3d\": [{\"line\": {\"colorbar\": {\"outlinewidth\": 0, \"ticks\": \"\"}}, \"marker\": {\"colorbar\": {\"outlinewidth\": 0, \"ticks\": \"\"}}, \"type\": \"scatter3d\"}], \"scattercarpet\": [{\"marker\": {\"colorbar\": {\"outlinewidth\": 0, \"ticks\": \"\"}}, \"type\": \"scattercarpet\"}], \"scattergeo\": [{\"marker\": {\"colorbar\": {\"outlinewidth\": 0, \"ticks\": \"\"}}, \"type\": \"scattergeo\"}], \"scattergl\": [{\"marker\": {\"colorbar\": {\"outlinewidth\": 0, \"ticks\": \"\"}}, \"type\": \"scattergl\"}], \"scattermapbox\": [{\"marker\": {\"colorbar\": {\"outlinewidth\": 0, \"ticks\": \"\"}}, \"type\": \"scattermapbox\"}], \"scatterpolar\": [{\"marker\": {\"colorbar\": {\"outlinewidth\": 0, \"ticks\": \"\"}}, \"type\": \"scatterpolar\"}], \"scatterpolargl\": [{\"marker\": {\"colorbar\": {\"outlinewidth\": 0, \"ticks\": \"\"}}, \"type\": \"scatterpolargl\"}], \"scatterternary\": [{\"marker\": {\"colorbar\": {\"outlinewidth\": 0, \"ticks\": \"\"}}, \"type\": \"scatterternary\"}], \"surface\": [{\"colorbar\": {\"outlinewidth\": 0, \"ticks\": \"\"}, \"colorscale\": [[0.0, \"#0d0887\"], [0.1111111111111111, \"#46039f\"], [0.2222222222222222, \"#7201a8\"], [0.3333333333333333, \"#9c179e\"], [0.4444444444444444, \"#bd3786\"], [0.5555555555555556, \"#d8576b\"], [0.6666666666666666, \"#ed7953\"], [0.7777777777777778, \"#fb9f3a\"], [0.8888888888888888, \"#fdca26\"], [1.0, \"#f0f921\"]], \"type\": \"surface\"}], \"table\": [{\"cells\": {\"fill\": {\"color\": \"#EBF0F8\"}, \"line\": {\"color\": \"white\"}}, \"header\": {\"fill\": {\"color\": \"#C8D4E3\"}, \"line\": {\"color\": \"white\"}}, \"type\": \"table\"}]}, \"layout\": {\"annotationdefaults\": {\"arrowcolor\": \"#2a3f5f\", \"arrowhead\": 0, \"arrowwidth\": 1}, \"coloraxis\": {\"colorbar\": {\"outlinewidth\": 0, \"ticks\": \"\"}}, \"colorscale\": {\"diverging\": [[0, \"#8e0152\"], [0.1, \"#c51b7d\"], [0.2, \"#de77ae\"], [0.3, \"#f1b6da\"], [0.4, \"#fde0ef\"], [0.5, \"#f7f7f7\"], [0.6, \"#e6f5d0\"], [0.7, \"#b8e186\"], [0.8, \"#7fbc41\"], [0.9, \"#4d9221\"], [1, \"#276419\"]], \"sequential\": [[0.0, \"#0d0887\"], [0.1111111111111111, \"#46039f\"], [0.2222222222222222, \"#7201a8\"], [0.3333333333333333, \"#9c179e\"], [0.4444444444444444, \"#bd3786\"], [0.5555555555555556, \"#d8576b\"], [0.6666666666666666, \"#ed7953\"], [0.7777777777777778, \"#fb9f3a\"], [0.8888888888888888, \"#fdca26\"], [1.0, \"#f0f921\"]], \"sequentialminus\": [[0.0, \"#0d0887\"], [0.1111111111111111, \"#46039f\"], [0.2222222222222222, \"#7201a8\"], [0.3333333333333333, \"#9c179e\"], [0.4444444444444444, \"#bd3786\"], [0.5555555555555556, \"#d8576b\"], [0.6666666666666666, \"#ed7953\"], [0.7777777777777778, \"#fb9f3a\"], [0.8888888888888888, \"#fdca26\"], [1.0, \"#f0f921\"]]}, \"colorway\": [\"#636efa\", \"#EF553B\", \"#00cc96\", \"#ab63fa\", \"#FFA15A\", \"#19d3f3\", \"#FF6692\", \"#B6E880\", \"#FF97FF\", \"#FECB52\"], \"font\": {\"color\": \"#2a3f5f\"}, \"geo\": {\"bgcolor\": \"white\", \"lakecolor\": \"white\", \"landcolor\": \"#E5ECF6\", \"showlakes\": true, \"showland\": true, \"subunitcolor\": \"white\"}, \"hoverlabel\": {\"align\": \"left\"}, \"hovermode\": \"closest\", \"mapbox\": {\"style\": \"light\"}, \"paper_bgcolor\": \"white\", \"plot_bgcolor\": \"#E5ECF6\", \"polar\": {\"angularaxis\": {\"gridcolor\": \"white\", \"linecolor\": \"white\", \"ticks\": \"\"}, \"bgcolor\": \"#E5ECF6\", \"radialaxis\": {\"gridcolor\": \"white\", \"linecolor\": \"white\", \"ticks\": \"\"}}, \"scene\": {\"xaxis\": {\"backgroundcolor\": \"#E5ECF6\", \"gridcolor\": \"white\", \"gridwidth\": 2, \"linecolor\": \"white\", \"showbackground\": true, \"ticks\": \"\", \"zerolinecolor\": \"white\"}, \"yaxis\": {\"backgroundcolor\": \"#E5ECF6\", \"gridcolor\": \"white\", \"gridwidth\": 2, \"linecolor\": \"white\", \"showbackground\": true, \"ticks\": \"\", \"zerolinecolor\": \"white\"}, \"zaxis\": {\"backgroundcolor\": \"#E5ECF6\", \"gridcolor\": \"white\", \"gridwidth\": 2, \"linecolor\": \"white\", \"showbackground\": true, \"ticks\": \"\", \"zerolinecolor\": \"white\"}}, \"shapedefaults\": {\"line\": {\"color\": \"#2a3f5f\"}}, \"ternary\": {\"aaxis\": {\"gridcolor\": \"white\", \"linecolor\": \"white\", \"ticks\": \"\"}, \"baxis\": {\"gridcolor\": \"white\", \"linecolor\": \"white\", \"ticks\": \"\"}, \"bgcolor\": \"#E5ECF6\", \"caxis\": {\"gridcolor\": \"white\", \"linecolor\": \"white\", \"ticks\": \"\"}}, \"title\": {\"x\": 0.05}, \"xaxis\": {\"automargin\": true, \"gridcolor\": \"white\", \"linecolor\": \"white\", \"ticks\": \"\", \"title\": {\"standoff\": 15}, \"zerolinecolor\": \"white\", \"zerolinewidth\": 2}, \"yaxis\": {\"automargin\": true, \"gridcolor\": \"white\", \"linecolor\": \"white\", \"ticks\": \"\", \"title\": {\"standoff\": 15}, \"zerolinecolor\": \"white\", \"zerolinewidth\": 2}}}, \"title\": {\"text\": \"Empirical Distribution Function Plot\"}, \"xaxis\": {\"title\": {\"text\": \"Objective Value\"}}, \"yaxis\": {\"range\": [0, 1], \"title\": {\"text\": \"Cumulative Probability\"}}},\n",
              "                        {\"responsive\": true}\n",
              "                    ).then(function(){\n",
              "                            \n",
              "var gd = document.getElementById('e1c47010-9584-4250-8eb9-6a84981a9d70');\n",
              "var x = new MutationObserver(function (mutations, observer) {{\n",
              "        var display = window.getComputedStyle(gd).display;\n",
              "        if (!display || display === 'none') {{\n",
              "            console.log([gd, 'removed!']);\n",
              "            Plotly.purge(gd);\n",
              "            observer.disconnect();\n",
              "        }}\n",
              "}});\n",
              "\n",
              "// Listen for the removal of the full notebook cells\n",
              "var notebookContainer = gd.closest('#notebook-container');\n",
              "if (notebookContainer) {{\n",
              "    x.observe(notebookContainer, {childList: true});\n",
              "}}\n",
              "\n",
              "// Listen for the clearing of the current output cell\n",
              "var outputEl = gd.closest('.output');\n",
              "if (outputEl) {{\n",
              "    x.observe(outputEl, {childList: true});\n",
              "}}\n",
              "\n",
              "                        })\n",
              "                };\n",
              "                \n",
              "            </script>\n",
              "        </div>\n",
              "</body>\n",
              "</html>"
            ]
          },
          "metadata": {
            "tags": []
          }
        }
      ]
    },
    {
      "cell_type": "markdown",
      "metadata": {
        "id": "CdiQHy60i-rX"
      },
      "source": [
        "### Model Best Optuna Trials"
      ]
    },
    {
      "cell_type": "code",
      "metadata": {
        "id": "T5yjffkKi-rY"
      },
      "source": [
        "Best_trial_fastai= {'lambda': 0.08287684030183871, 'alpha': 0.021800136799959794, 'colsample_bytree': 0.4, 'subsample': 1.0, 'learning_rate': 0.012, 'max_depth': 15, 'random_state': 48, 'min_child_weight': 44,'n_estimators': 1000,'tree_method':'gpu_hist'}\n"
      ],
      "execution_count": null,
      "outputs": []
    },
    {
      "cell_type": "markdown",
      "metadata": {
        "id": "dhahgOftn4st"
      },
      "source": [
        "Using StratifiedKfold cross validation to test roc_auc_score"
      ]
    },
    {
      "cell_type": "code",
      "metadata": {
        "colab": {
          "base_uri": "https://localhost:8080/"
        },
        "id": "wXgnpsETi-ra",
        "outputId": "d8568e6f-b492-497e-c3dd-b693bc44ad83"
      },
      "source": [
        "# preds = np.zeros(test_df.shape[0])\n",
        "kf = StratifiedKFold(n_splits=5,random_state=48,shuffle=True)\n",
        "auc=[]  # list contains auc for each fold\n",
        "n=0\n",
        "for trn_idx, test_idx in kf.split(X_train_fa,y_train_fa):\n",
        "    X_tr,X_val=X_train_fa.iloc[trn_idx],X_train_fa.iloc[test_idx]\n",
        "    y_tr,y_val=y_train_fa[trn_idx],y_train_fa[test_idx]\n",
        "    model = xgb.XGBClassifier(**Best_trial_fastai)\n",
        "    model.fit(X_tr,y_tr,eval_set=[(X_val,y_val)],early_stopping_rounds=100,verbose=False)\n",
        "    # preds+=model.predict(test_df[columns])/kf.n_splits\n",
        "    auc.append(roc_auc_score(y_val, model.predict_proba(X_val)[:,1]))\n",
        "    print(n+1,auc[n])\n",
        "    n+=1"
      ],
      "execution_count": null,
      "outputs": [
        {
          "output_type": "stream",
          "text": [
            "1 0.9670692718197905\n",
            "2 0.9666783942446252\n",
            "3 0.9624103790810723\n",
            "4 0.9650869557007921\n",
            "5 0.9661417297238831\n"
          ],
          "name": "stdout"
        }
      ]
    },
    {
      "cell_type": "markdown",
      "metadata": {
        "id": "85viaBTioAC0"
      },
      "source": [
        "Calculate mean of all folds"
      ]
    },
    {
      "cell_type": "code",
      "metadata": {
        "colab": {
          "base_uri": "https://localhost:8080/"
        },
        "id": "IEJzzvzui-rb",
        "outputId": "5057deea-bbef-4af9-ce1e-22a923f7d815"
      },
      "source": [
        "np.mean(auc)\n"
      ],
      "execution_count": null,
      "outputs": [
        {
          "output_type": "execute_result",
          "data": {
            "text/plain": [
              "0.9654773461140327"
            ]
          },
          "metadata": {
            "tags": []
          },
          "execution_count": 54
        }
      ]
    },
    {
      "cell_type": "markdown",
      "metadata": {
        "id": "AcLBp3B-oDrM"
      },
      "source": [
        "Create inference for test set fastai"
      ]
    },
    {
      "cell_type": "code",
      "metadata": {
        "id": "qPnW4L9-qcsW"
      },
      "source": [
        "roc_auc_binary = RocAucBinary()\n",
        "learn = tabular_learner(dls, metrics=roc_auc_binary)"
      ],
      "execution_count": null,
      "outputs": []
    },
    {
      "cell_type": "code",
      "metadata": {
        "id": "fTtzJ7KQjoiM"
      },
      "source": [
        "dl_test = learn.dls.test_dl(df_test.iloc[:])"
      ],
      "execution_count": null,
      "outputs": []
    },
    {
      "cell_type": "code",
      "metadata": {
        "id": "q3rE24i9v6vH"
      },
      "source": [
        "X_test=dl_test.dataset.xs"
      ],
      "execution_count": null,
      "outputs": []
    },
    {
      "cell_type": "markdown",
      "metadata": {
        "id": "jFTVxNAlq5A5"
      },
      "source": [
        "Save Kaggle Submission File"
      ]
    },
    {
      "cell_type": "code",
      "metadata": {
        "id": "xIK10jbcfVs8"
      },
      "source": [
        "preds = model.predict_proba(X_test)[:,1]\n",
        "sample = pd.read_csv(path/'sample_submission.csv')\n",
        "sample.QuoteConversion_Flag = preds\n",
        "sample.to_csv(path/'xgb_optuna_fastaidata.csv', index=False)"
      ],
      "execution_count": null,
      "outputs": []
    },
    {
      "cell_type": "markdown",
      "metadata": {
        "id": "gg7DDed6rZVb"
      },
      "source": [
        "Kaggle Score: 0.96633"
      ]
    }
  ]
}